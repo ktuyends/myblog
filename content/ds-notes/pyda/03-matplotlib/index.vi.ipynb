{
 "cells": [
  {
   "cell_type": "raw",
   "metadata": {},
   "source": [
    "---\n",
    "title: \"Pyda - Matplotlib\"\n",
    "subtitle: \"\"\n",
    "slug: py-matplotlib\n",
    "date: 2022-01-22\n",
    "lastmod: 2022-01-22\n",
    "draft: false\n",
    "authors: [\"Tuyen Kieu\"]\n",
    "description: \"\"\n",
    "images: []\n",
    "tags: [\"Python for DA\"]\n",
    "categories: []\n",
    "series: [Python for Data Analysis]\n",
    "series_weight: 3\n",
    "toc:\n",
    "  enable: true\n",
    "license: ''  \n",
    "hiddenFromHomePage: false\n",
    "lightgallery: true\n",
    "---\n",
    "\n",
    "<!--more-->"
   ]
  }
 ],
 "metadata": {
  "language_info": {
   "name": "python"
  },
  "orig_nbformat": 4
 },
 "nbformat": 4,
 "nbformat_minor": 2
}
