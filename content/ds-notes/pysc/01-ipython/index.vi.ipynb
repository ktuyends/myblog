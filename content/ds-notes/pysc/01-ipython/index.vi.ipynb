{
 "cells": [
  {
   "cell_type": "raw",
   "metadata": {},
   "source": [
    "---\n",
    "title: \"Pysc - Jupyter Notebook\"\n",
    "subtitle: \"\"\n",
    "slug: py-Jupyter\n",
    "date: 2022-01-20\n",
    "lastmod: 2022-01-20\n",
    "draft: false\n",
    "authors: [\"Tuyen Kieu\"]\n",
    "description: \"\"\n",
    "images: []\n",
    "tags: [\"Scientific Computing\"]\n",
    "categories: []\n",
    "series: [Scientific Computing with Python]\n",
    "series_weight: 1\n",
    "toc:\n",
    "  enable: true\n",
    "license: ''  \n",
    "hiddenFromHomePage: false\n",
    "lightgallery: true\n",
    "---\n",
    "\n",
    "<!--more-->"
   ]
  },
  {
   "cell_type": "markdown",
   "metadata": {},
   "source": [
    "\n",
    "## 1. Khởi động chương trình\n",
    "\n",
    "Để bắt đầu với ipython, ta sử dụng command line:\n",
    "\n",
    "```bash\n",
    "ipython\n",
    "```\n",
    "\n",
    "Để bắt đầu với Jupyter notebook sử dụng command line:\n",
    "\n",
    "```bash\n",
    "jupyter notebook\n",
    "```\n",
    "\n",
    "## 2. Tab Completion\n",
    "\n",
    "Chúng ta có thể sử dụng phím Tab sau các từ hoặc cụm từ để xem các gợi ý bên trong ipython. \n",
    "\n",
    "Ipython không chỉ đưa ra các gợi ý về mặt cú pháp, mà còn có thể đưa ra các gợi ý về đường dẫn tên files.\n",
    "\n",
    "## 3. Sử dụng trợ giúp\n",
    "\n",
    "Sử dụng (`?`) hoặc (`??`) trước hoặc sau một đối tượng, để xem một số thông tin về đối tượng đó. Ví dụ:\n",
    "\n",
    "```python\n",
    "In [1]: b = [1, 2, 3]\n",
    "\n",
    "In [2]: b?\n",
    "```\n",
    "\n",
    "```\n",
    "Type:        list\n",
    "String form: [1, 2, 3]\n",
    "Length:      3\n",
    "Docstring:\n",
    "Built-in mutable sequence.\n",
    "\n",
    "If no argument is given, the constructor creates a new empty list.\n",
    "The argument must be an iterable if specified.\n",
    "```\n",
    "\n",
    "## 4. Command *%run* và *%load*\n",
    "\n",
    "Chúng ta có thể chạy các file python trong ipython sử dụng command `%run`\n",
    "\n",
    "```python\n",
    "In [3]: %run file_name.py\n",
    "```\n",
    "\n",
    "Nếu bạn không muốn chạy file mà chỉ muốn thêm nội dung trong file vào ipython, sử dụng `%load`\n",
    "\n",
    "> Trong nhiều trường hợp, nếu đoạn mã gặp lỗi và bạn muốn thoát khỏi trạng thái chạy, có thể sử dụng phím tắt `Ctrl + C`\n",
    "\n",
    "## 5. Command line trong Ipython\n",
    "\n",
    "Thực thi command line trong ipython bằng cách thêm `!` phía trước command line, ví dụ:\n",
    "\n",
    "```\n",
    "!pip install pandas\n",
    "```\n",
    "\n",
    "## 6. Command *%%time*\n",
    "\n",
    "Xem thời gian tính toán một cell sử dụng `%%time:\n"
   ]
  },
  {
   "cell_type": "code",
   "execution_count": 1,
   "metadata": {},
   "outputs": [
    {
     "name": "stdout",
     "output_type": "stream",
     "text": [
      "Wall time: 4 ms\n"
     ]
    }
   ],
   "source": [
    "%%time\n",
    "for i in range(10000):\n",
    "    a = i**2"
   ]
  },
  {
   "cell_type": "markdown",
   "metadata": {},
   "source": [
    "## 7. Command *%matplotlib*\n",
    "\n",
    "Sử dụng `%matplotlib inline` khi vẽ hình:"
   ]
  },
  {
   "cell_type": "code",
   "execution_count": 9,
   "metadata": {},
   "outputs": [
    {
     "data": {
      "image/png": "[encoded data removed]",
      "text/plain": [
       "<Figure size 1440x720 with 1 Axes>"
      ]
     },
     "metadata": {
      "needs_background": "light"
     },
     "output_type": "display_data"
    }
   ],
   "source": [
    "%matplotlib inline\n",
    "from matplotlib import pyplot as plt\n",
    "import numpy as np\n",
    "x = np.random.rand(100)\n",
    "y = np.random.rand(100)\n",
    "plt.rcParams[\"figure.figsize\"] = (20, 10)\n",
    "plt.scatter(x, y);"
   ]
  },
  {
   "cell_type": "markdown",
   "metadata": {},
   "source": [
    "## 8. Một số magic command khác\n",
    "\n",
    "Danh sách các magic command trong ipython:"
   ]
  },
  {
   "cell_type": "code",
   "execution_count": 3,
   "metadata": {},
   "outputs": [
    {
     "data": {
      "application/json": {
       "cell": {
        "!": "OSMagics",
        "HTML": "Other",
        "SVG": "Other",
        "bash": "Other",
        "capture": "ExecutionMagics",
        "cmd": "Other",
        "debug": "ExecutionMagics",
        "file": "Other",
        "html": "DisplayMagics",
        "javascript": "DisplayMagics",
        "js": "DisplayMagics",
        "latex": "DisplayMagics",
        "markdown": "DisplayMagics",
        "perl": "Other",
        "prun": "ExecutionMagics",
        "pypy": "Other",
        "python": "Other",
        "python2": "Other",
        "python3": "Other",
        "ruby": "Other",
        "script": "ScriptMagics",
        "sh": "Other",
        "svg": "DisplayMagics",
        "sx": "OSMagics",
        "system": "OSMagics",
        "time": "ExecutionMagics",
        "timeit": "ExecutionMagics",
        "writefile": "OSMagics"
       },
       "line": {
        "alias": "OSMagics",
        "alias_magic": "BasicMagics",
        "autoawait": "AsyncMagics",
        "autocall": "AutoMagics",
        "automagic": "AutoMagics",
        "autosave": "KernelMagics",
        "bookmark": "OSMagics",
        "cd": "OSMagics",
        "clear": "KernelMagics",
        "cls": "KernelMagics",
        "colors": "BasicMagics",
        "conda": "PackagingMagics",
        "config": "ConfigMagics",
        "connect_info": "KernelMagics",
        "copy": "Other",
        "ddir": "Other",
        "debug": "ExecutionMagics",
        "dhist": "OSMagics",
        "dirs": "OSMagics",
        "doctest_mode": "BasicMagics",
        "echo": "Other",
        "ed": "Other",
        "edit": "KernelMagics",
        "env": "OSMagics",
        "gui": "BasicMagics",
        "hist": "Other",
        "history": "HistoryMagics",
        "killbgscripts": "ScriptMagics",
        "ldir": "Other",
        "less": "KernelMagics",
        "load": "CodeMagics",
        "load_ext": "ExtensionMagics",
        "loadpy": "CodeMagics",
        "logoff": "LoggingMagics",
        "logon": "LoggingMagics",
        "logstart": "LoggingMagics",
        "logstate": "LoggingMagics",
        "logstop": "LoggingMagics",
        "ls": "Other",
        "lsmagic": "BasicMagics",
        "macro": "ExecutionMagics",
        "magic": "BasicMagics",
        "matplotlib": "PylabMagics",
        "mkdir": "Other",
        "more": "KernelMagics",
        "notebook": "BasicMagics",
        "page": "BasicMagics",
        "pastebin": "CodeMagics",
        "pdb": "ExecutionMagics",
        "pdef": "NamespaceMagics",
        "pdoc": "NamespaceMagics",
        "pfile": "NamespaceMagics",
        "pinfo": "NamespaceMagics",
        "pinfo2": "NamespaceMagics",
        "pip": "PackagingMagics",
        "popd": "OSMagics",
        "pprint": "BasicMagics",
        "precision": "BasicMagics",
        "prun": "ExecutionMagics",
        "psearch": "NamespaceMagics",
        "psource": "NamespaceMagics",
        "pushd": "OSMagics",
        "pwd": "OSMagics",
        "pycat": "OSMagics",
        "pylab": "PylabMagics",
        "qtconsole": "KernelMagics",
        "quickref": "BasicMagics",
        "recall": "HistoryMagics",
        "rehashx": "OSMagics",
        "reload_ext": "ExtensionMagics",
        "ren": "Other",
        "rep": "Other",
        "rerun": "HistoryMagics",
        "reset": "NamespaceMagics",
        "reset_selective": "NamespaceMagics",
        "rmdir": "Other",
        "run": "ExecutionMagics",
        "save": "CodeMagics",
        "sc": "OSMagics",
        "set_env": "OSMagics",
        "store": "StoreMagics",
        "sx": "OSMagics",
        "system": "OSMagics",
        "tb": "ExecutionMagics",
        "time": "ExecutionMagics",
        "timeit": "ExecutionMagics",
        "unalias": "OSMagics",
        "unload_ext": "ExtensionMagics",
        "who": "NamespaceMagics",
        "who_ls": "NamespaceMagics",
        "whos": "NamespaceMagics",
        "xdel": "NamespaceMagics",
        "xmode": "BasicMagics"
       }
      },
      "text/plain": [
       "Available line magics:\n",
       "%alias  %alias_magic  %autoawait  %autocall  %automagic  %autosave  %bookmark  %cd  %clear  %cls  %colors  %conda  %config  %connect_info  %copy  %ddir  %debug  %dhist  %dirs  %doctest_mode  %echo  %ed  %edit  %env  %gui  %hist  %history  %killbgscripts  %ldir  %less  %load  %load_ext  %loadpy  %logoff  %logon  %logstart  %logstate  %logstop  %ls  %lsmagic  %macro  %magic  %matplotlib  %mkdir  %more  %notebook  %page  %pastebin  %pdb  %pdef  %pdoc  %pfile  %pinfo  %pinfo2  %pip  %popd  %pprint  %precision  %prun  %psearch  %psource  %pushd  %pwd  %pycat  %pylab  %qtconsole  %quickref  %recall  %rehashx  %reload_ext  %ren  %rep  %rerun  %reset  %reset_selective  %rmdir  %run  %save  %sc  %set_env  %store  %sx  %system  %tb  %time  %timeit  %unalias  %unload_ext  %who  %who_ls  %whos  %xdel  %xmode\n",
       "\n",
       "Available cell magics:\n",
       "%%!  %%HTML  %%SVG  %%bash  %%capture  %%cmd  %%debug  %%file  %%html  %%javascript  %%js  %%latex  %%markdown  %%perl  %%prun  %%pypy  %%python  %%python2  %%python3  %%ruby  %%script  %%sh  %%svg  %%sx  %%system  %%time  %%timeit  %%writefile\n",
       "\n",
       "Automagic is ON, % prefix IS NOT needed for line magics."
      ]
     },
     "execution_count": 3,
     "metadata": {},
     "output_type": "execute_result"
    }
   ],
   "source": [
    "%lsmagic"
   ]
  },
  {
   "cell_type": "markdown",
   "metadata": {},
   "source": [
    "## 9. Convert ipython sang markdown\n",
    "\n",
    "```python\n",
    "jupyter nbconvert file_name.ipynb --to markdown --NbConvertApp.output_files_dir=.\n",
    "```"
   ]
  }
 ],
 "metadata": {
  "interpreter": {
   "hash": "4c11687d8836ffc239021e36f392b58b3bc872cc9f646c7bfb1c600138d566eb"
  },
  "kernelspec": {
   "display_name": "Python 3 (ipykernel)",
   "language": "python",
   "name": "python3"
  },
  "language_info": {
   "codemirror_mode": {
    "name": "ipython",
    "version": 3
   },
   "file_extension": ".py",
   "mimetype": "text/x-python",
   "name": "python",
   "nbconvert_exporter": "python",
   "pygments_lexer": "ipython3",
   "version": "3.10.0"
  }
 },
 "nbformat": 4,
 "nbformat_minor": 2
}
