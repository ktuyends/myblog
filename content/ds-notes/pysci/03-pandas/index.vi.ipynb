{
 "cells": [
  {
   "cell_type": "raw",
   "metadata": {},
   "source": [
    "---\n",
    "title: \"PySci - Pandas\"\n",
    "subtitle: \"\"\n",
    "slug: pysci-02-pandas\n",
    "date: 2022-05-22\n",
    "lastmod: 2022-05-22\n",
    "draft: false\n",
    "authors: [\"Tuyen Kieu\"]\n",
    "description: \"\"\n",
    "images: []\n",
    "tags: [\"Python for DA\"]\n",
    "categories: []\n",
    "series: [Python Scientific Libraries]\n",
    "series_weight: 3\n",
    "toc:\n",
    "  enable: true\n",
    "license: ''  \n",
    "hiddenFromHomePage: false\n",
    "lightgallery: true\n",
    "---\n",
    "\n",
    "<!--more-->"
   ]
  }
 ],
 "metadata": {
  "interpreter": {
   "hash": "5dd02a620d24ce96d4fed906c505d8614c897213038bc8121df06c969d20c5ff"
  },
  "kernelspec": {
   "display_name": "Python 3.10.0 ('learnds')",
   "language": "python",
   "name": "python3"
  },
  "language_info": {
   "codemirror_mode": {
    "name": "ipython",
    "version": 3
   },
   "file_extension": ".py",
   "mimetype": "text/x-python",
   "name": "python",
   "nbconvert_exporter": "python",
   "pygments_lexer": "ipython3",
   "version": "3.10.0"
  },
  "orig_nbformat": 4
 },
 "nbformat": 4,
 "nbformat_minor": 2
}
