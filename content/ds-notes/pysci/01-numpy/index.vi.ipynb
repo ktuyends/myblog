{
 "cells": [
  {
   "cell_type": "raw",
   "metadata": {},
   "source": [
    "---\n",
    "title: \"Pysci - Numpy\"\n",
    "subtitle: \"\"\n",
    "slug: python-numpy\n",
    "date: 2022-06-07\n",
    "lastmod: 2022-06-07\n",
    "draft: false\n",
    "authors: [\"Tuyen Kieu\"]\n",
    "description: \"\"\n",
    "images: []\n",
    "tags: [\"Programming\"]\n",
    "categories: []\n",
    "series: [Python Scientific Libraries]\n",
    "series_weight: 1\n",
    "toc:\n",
    "  enable: true\n",
    "license: ''  \n",
    "hiddenFromHomePage: false\n",
    "lightgallery: true\n",
    "---\n",
    "\n",
    "<!--more-->"
   ]
  },
  {
   "cell_type": "markdown",
   "metadata": {},
   "source": [
    "Đại số tuyến tính là một trong những nền tảng thiết yếu machine learning. Các đối tượng của đại số tuyến tính là vector và ma trận. Thư viện Numpy tất cả các công cụ cần thiết để làm việc với hai đối tượng này.\n",
    "\n",
    "Trước khi đi tìm hiểu về Numpy, chúng ta cần phải cài đặt và import nó.\n",
    "\n",
    "```python\n",
    "# Cài đặt bằng pip\n",
    "pip install numpy\n",
    "\n",
    "# Cài đặt bằng conda\n",
    "conda install numpy\n",
    "```"
   ]
  },
  {
   "cell_type": "code",
   "execution_count": 1,
   "metadata": {},
   "outputs": [],
   "source": [
    "# import library\n",
    "import numpy as np"
   ]
  },
  {
   "cell_type": "markdown",
   "metadata": {},
   "source": [
    "## 1. Vector và ma trận\n",
    "\n",
    "Array trong Python là kiểu dữ liệu chứa nhiều phần tử, trong đó các phần tử có cùng kiểu dữ liệu với nhau. Hai loại mảng được sử dụng nhiều nhất là vector và ma trận, ngoài ra còn có mảng ba chiều, mảng nhiều chiều,...\n",
    "\n",
    "### 1.1. Vector\n",
    "\n",
    "Để tạo một vector đơn giản nhất là chuyển đổi một list các giá trị có cùng kiểu dữ liệu thành mảng, sử dụng `np.array()`\n",
    "\n",
    "```python\n",
    "v = np.array([1., 2., 3.])\n",
    "```\n",
    "\n",
    "Bây giờ `v` đã là một vector và nó hoạt động giống như một vector trong môn đại số tuyến tính. Một số ví dụ:"
   ]
  },
  {
   "cell_type": "code",
   "execution_count": 2,
   "metadata": {},
   "outputs": [
    {
     "name": "stdout",
     "output_type": "stream",
     "text": [
      "[2. 4. 6.]\n",
      "[0.5 1.  1.5]\n"
     ]
    }
   ],
   "source": [
    "# Hai vector với ba phần tử\n",
    "v1 = np.array([1., 2., 3.])\n",
    "v2 = np.array([2, 0, 1.])\n",
    "\n",
    "# Nhân, chia một vector với một số\n",
    "print(v1 * 2)\n",
    "print(v1 / 2)"
   ]
  },
  {
   "cell_type": "code",
   "execution_count": 3,
   "metadata": {},
   "outputs": [
    {
     "name": "stdout",
     "output_type": "stream",
     "text": [
      "[3. 6. 9.]\n",
      "[ 7.  6. 11.]\n"
     ]
    }
   ],
   "source": [
    "# Tổ hợp tuyến tính\n",
    "print(3 * v1)\n",
    "print(3 * v1 + 2 * v2)"
   ]
  },
  {
   "cell_type": "code",
   "execution_count": 4,
   "metadata": {},
   "outputs": [
    {
     "name": "stdout",
     "output_type": "stream",
     "text": [
      "3.7416573867739413\n",
      "5.0\n"
     ]
    }
   ],
   "source": [
    "# norm\n",
    "print(np.linalg.norm(v1))\n",
    "\n",
    "# Tích vô hướng\n",
    "np.dot(v1, v2)  # Hoặc\n",
    "print(v1 @ v2)"
   ]
  },
  {
   "cell_type": "markdown",
   "metadata": {},
   "source": [
    "**Lưu ý**: Các phép toán số học cơ bản thực hiện trên từng phần tử."
   ]
  },
  {
   "cell_type": "code",
   "execution_count": 11,
   "metadata": {},
   "outputs": [
    {
     "name": "stdout",
     "output_type": "stream",
     "text": [
      "v2 = array([2., 0., 1.])\n",
      "v1 = array([1., 2., 3.])\n",
      "v2 + v1 = array([3., 2., 4.])\n",
      "v2 - v1 = array([ 1., -2., -2.])\n",
      "v2 * v1 = array([2., 0., 3.])\n",
      "v2 / v1 = array([2.        , 0.        , 0.33333333])\n"
     ]
    }
   ],
   "source": [
    "print(f'{v2 = }')\n",
    "print(f'{v1 = }')\n",
    "print(f'{v2 + v1 = }')\n",
    "print(f'{v2 - v1 = }')\n",
    "print(f'{v2 * v1 = }')\n",
    "print(f'{v2 / v1 = }')\n"
   ]
  },
  {
   "cell_type": "markdown",
   "metadata": {},
   "source": [
    "### 1.2. Ma trận\n",
    "\n",
    "Tạo một ma trận cũng tương tự như vector, nhưng tham số đầu vào của chúng ta bây giờ đổi thành một list của các list.\n",
    "\n",
    "```python\n",
    "mat = np.array([\n",
    "    [1, 2, 3],\n",
    "    [4, 5, 6]\n",
    "])\n",
    "```\n",
    "\n",
    "**Lưu ý**: Vector không phải là ma trận cột hoặc hàng, một vector có _n_ phần tử và một ma trận có số chiều `n x 1` hoặc `1 x n` là không giống nhau cho dù chúng chứa các giá trị giống nhau."
   ]
  },
  {
   "cell_type": "code",
   "execution_count": 12,
   "metadata": {},
   "outputs": [
    {
     "data": {
      "text/plain": [
       "(3,)"
      ]
     },
     "execution_count": 12,
     "metadata": {},
     "output_type": "execute_result"
    }
   ],
   "source": [
    "# Vector v1 và số chiều\n",
    "v1 = np.array([1, 2, 3])\n",
    "v1.shape"
   ]
  },
  {
   "cell_type": "code",
   "execution_count": 13,
   "metadata": {},
   "outputs": [
    {
     "data": {
      "text/plain": [
       "array([[1],\n",
       "       [2],\n",
       "       [3]])"
      ]
     },
     "execution_count": 13,
     "metadata": {},
     "output_type": "execute_result"
    }
   ],
   "source": [
    "# Chuyển vector về ma trận cột\n",
    "v1.reshape((3, 1))"
   ]
  },
  {
   "cell_type": "code",
   "execution_count": 14,
   "metadata": {},
   "outputs": [
    {
     "data": {
      "text/plain": [
       "array([[1, 2, 3]])"
      ]
     },
     "execution_count": 14,
     "metadata": {},
     "output_type": "execute_result"
    }
   ],
   "source": [
    "# Chuyển vector về ma trận hàng\n",
    "v1.reshape((1, 3))"
   ]
  },
  {
   "cell_type": "markdown",
   "metadata": {},
   "source": [
    "### 1.3. Indexing và slicing\n",
    "\n",
    "Nếu các bạn đã từng học về các cấu trúc dữ liệu cơ bản trong Python như list, tuple, string,...thì về cơ bản indexing và slicing cho từng chiều trong mảng cũng tương tự như vậy.\n",
    "\n",
    "```python\n",
    "# Với vector:\n",
    "vector[start:stop:step]\n",
    "\n",
    "# Với matrix\n",
    "matrix[start:stop:step, start:stop:step]\n",
    "```\n",
    "\n",
    "Ví dụ:\n",
    "\n",
    "```python\n",
    "# vector\n",
    "v = np.array([1., 2., 3])\n",
    "v[0]       # 1., works as for lists\n",
    "v[1:]      # array([2., 3.])\n",
    "\n",
    "# access\n",
    "v[0]       # 1.\n",
    "v[0] = 10\n",
    "\n",
    "# slices\n",
    "v[:2]              # array([10., 2.])\n",
    "v[:2] = [0, 1]     # now v == array([0., 1., 3.])\n",
    "v[:2] = [1, 2, 3]  # error!\n",
    "\n",
    "# Matrix\n",
    "M = np.array([[1., 2],\n",
    "              [3., 4]])\n",
    "M[0, 0]    # 1.\n",
    "M[1:]      # returns the matrix array([[3., 4]])\n",
    "M[1]       # returns the vector array([3., 4.])\n",
    "```"
   ]
  },
  {
   "cell_type": "markdown",
   "metadata": {},
   "source": [
    "### 1.4. Giải hệ phương trình tuyến tính\n",
    "\n",
    "Trong phần trên chúng ta đã nói về toán tử `dot`:\n",
    "\n",
    "```python\n",
    "# Nhân một ma trận với một vector\n",
    "np.dot(M, v)    # Kết quả là một vector\n",
    "M @ v\n",
    "\n",
    "# Tích vô hướng\n",
    "np.dot(v1, v2)\n",
    "v1 @ v2\n",
    "\n",
    "# Phép nhân hai ma trận\n",
    "np.dot(M1, M2)\n",
    "M1 @ M2\n",
    "```\n",
    "\n",
    "Nhớ lại, giả sử ta có hệ phương trình tuyến tính \\$Ax = b$, thì nghiệm của phương trình là \\$x = A^{-1}b$"
   ]
  },
  {
   "cell_type": "markdown",
   "metadata": {},
   "source": [
    "\\$$\n",
    "\\begin{cases}\n",
    "   x_{1} + 2x_{2} = 1 \\\\\\\\\n",
    "   3x_{1} + 4x_{2} = 4\n",
    "\\end{cases}\n",
    "$$"
   ]
  },
  {
   "cell_type": "markdown",
   "metadata": {},
   "source": [
    "Chúng ta thử giải hệ phương trình này:"
   ]
  },
  {
   "cell_type": "code",
   "execution_count": 16,
   "metadata": {},
   "outputs": [
    {
     "name": "stdout",
     "output_type": "stream",
     "text": [
      "[ 2.  -0.5]\n"
     ]
    }
   ],
   "source": [
    "# Tạo 2 mảng\n",
    "A = np.array([\n",
    "    [1., 2.],\n",
    "    [3., 4.]\n",
    "])\n",
    "\n",
    "b =np.array([1., 4.])\n",
    "\n",
    "# Sử dụng hàm solve\n",
    "x = np.linalg.solve(A, b)\n",
    "print(x)"
   ]
  },
  {
   "cell_type": "markdown",
   "metadata": {},
   "source": [
    "So sánh hai vector với hàm `np.allclose()`:"
   ]
  },
  {
   "cell_type": "code",
   "execution_count": 17,
   "metadata": {},
   "outputs": [
    {
     "data": {
      "text/plain": [
       "True"
      ]
     },
     "execution_count": 17,
     "metadata": {},
     "output_type": "execute_result"
    }
   ],
   "source": [
    "# np.allclose\n",
    "np.allclose(A @ x, b)"
   ]
  },
  {
   "cell_type": "markdown",
   "metadata": {},
   "source": [
    "## 2. Mảng trong Python\n",
    "\n",
    "### 2.1. Thuộc tính\n",
    "\n",
    "Trong phần trước, chúng ta đã tìm hiểu một số loại mảng phổ biến. Thì về cơ bản, một mảng trong Python sẽ có một số thuộc tính sau:\n",
    "\n",
    "- **ndim**: Số chiều của một mảng, ví dụ vector là một chiều, ma trận là hai chiều.\n",
    "- **shape**: Một tuple chứa số phần tử của mỗi chiều.\n",
    "- **size**: Tổng số phần tử trong một mảng.\n",
    "- **dtype**: Kiểu dữ liệu của các phần tử trong mảng.\n",
    "\n",
    "### 2.2. Slicing\n",
    "\n",
    "Slicing, hiểu đơn giản là từ một mảng ban đầu ta lấy ra một số phần tử nào đó dựa vào vị trí của nó, hoặc cũng có thể hiểu là việc ta tạo ra các mảng con từ mảng ban đầu. Minh họa\n",
    "\n",
    "{{< figure src=\"./slicing.png\" width=80% >}}\n",
    "\n",
    "**Lưu ý:**\n",
    "\n",
    "- Giống như các cấu trúc dữ liệu khác, chỉ số index trong mảng cũng bắt đầu từ 0 nếu tính từ trái qua phải, và bắt đầu từ `-1` nếu tính từ phải qua trái.\n",
    "- Nếu kết quả slicing trả về là một phần tử thì giá trị đó là một _scalar_, nếu trả về là một cột hoặc một hàng, thì nó sẽ bị chuyển đổi thành một vector.\n",
    "- Nếu chúng ta thay đổi giá trị của một mảng con được slicing, thì giá trị ở vị trí tương ứng trong mảng ban đầu của bị thay đổi theo. Cũng vì tính chất này mà chúng ta có thể sử dụng slicing để thay đổi giá trị của các phần tử bằng phép gán. Để tránh trường hợp này, hãy sử dụng phương thức `copy()`."
   ]
  },
  {
   "cell_type": "markdown",
   "metadata": {},
   "source": [
    "### 2.3. Hàm tạo mảng\n",
    "\n",
    "Một số hàm tạo mảng được Numpy hỗ trợ:\n",
    "\n",
    "```python\n",
    "# Mảng gồm các phần tử có giá trị 0\n",
    "np.zeros((n, m))   # Mảng n x m\n",
    "\n",
    "# Mảng gồm các phần tử có giá trị 1\n",
    "np.ones((n, m))    # Mảng n x m\n",
    "\n",
    "# Mảng gồm các phần tử có giá trị q\n",
    "np.full((n, m), q) # Mảng n x m\n",
    "\n",
    "# Vector đường chéo từ ma trận x\n",
    "# k là vị trí của đường chéo, mặc định k = 0, đường chéo giữa\n",
    "# k > 0, đường chéo trên, k < 0 là đường chéo dưới.\n",
    "# Nếu x là một vector nó trả về ma trận đường chéo\n",
    "np.diag(x, k)\n",
    "\n",
    "# Ma trận đơn vị\n",
    "np.identity(n)\n",
    "np.eye(n)\n",
    "\n",
    "# Mảng các số ngẫu nhiên phân phối đều trong khoảng (0-1)\n",
    "np.random.rand(n, m)   # Mảng n x m\n",
    "\n",
    "# Mảng các số ngẫu nhiên phân phối chuẩn\n",
    "np.random.normal(mu, sigma, size = (n, m))\n",
    "\n",
    "# Mảng các số nguyên ngẫu nhiên trong khoảng [low, high)\n",
    "np.random.randint(low, high, size)\n",
    "\n",
    "# Vector các số nguyên có giá trị được sắp xếp theo thứ tự tăng dần trong khoảng [start, stop)\n",
    "np.arange(start, stop, step)\n",
    "\n",
    "# Vector gồm n phần tử cách đều nhau trong khoảng [a, b]\n",
    "np.linspace(a, b, n)\n",
    "```"
   ]
  },
  {
   "cell_type": "markdown",
   "metadata": {},
   "source": [
    "## 3. Thay đổi cấu trúc mảng\n",
    "\n",
    "### 3.1. Reshape\n",
    "\n",
    "Reshape, là một phương thức giúp chúng ta thay đổi cấu trúc của một mảng với điều kiện là mảng mới phải có tổng số phần tử bằng với mảng ban đầu. Lưu ý, reshape không tạo ra mảng mới, nó chỉ thay đổi cái nhìn của chúng ta về mảng dữ liệu hiện có.\n",
    "\n",
    "{{< figure src=\"./reshape.png\" width=50% >}}\n",
    "\n",
    "Ví dụ:\n",
    "\n",
    "```python\n",
    "v = array([0,1,2,3,4,5])\n",
    "M = v.reshape(2,3)\n",
    "\n",
    "M.shape # returns (2,3)\n",
    "\n",
    "M[0,0] = 10 # now v[0] is 10\n",
    "```\n",
    "\n",
    "Đôi khi, chúng ta chỉ cần chỉ định một tham số trong `(m, n)`, tham số còn lại Numpy sẽ tự động xác định bằng cách đặt nó là `-1`. Ví dụ:\n",
    "\n"
   ]
  },
  {
   "cell_type": "code",
   "execution_count": 25,
   "metadata": {},
   "outputs": [
    {
     "data": {
      "text/plain": [
       "array([[1, 2, 3, 4],\n",
       "       [5, 6, 7, 8]])"
      ]
     },
     "execution_count": 25,
     "metadata": {},
     "output_type": "execute_result"
    }
   ],
   "source": [
    "v = np.array([1, 2, 3, 4, 5, 6, 7, 8])\n",
    "M = v.reshape(2, -1)\n",
    "M"
   ]
  },
  {
   "cell_type": "markdown",
   "metadata": {},
   "source": [
    "Ma trận chuyển vị:"
   ]
  },
  {
   "cell_type": "code",
   "execution_count": 26,
   "metadata": {},
   "outputs": [
    {
     "name": "stdout",
     "output_type": "stream",
     "text": [
      "[[1. 3.]\n",
      " [2. 4.]]\n"
     ]
    }
   ],
   "source": [
    "A = np.array([[ 1., 2.],\n",
    "              [ 3., 4.]]) \n",
    "B = A.T \n",
    "print(B)"
   ]
  },
  {
   "cell_type": "markdown",
   "metadata": {},
   "source": [
    "### 3.2. Stacking\n",
    "\n",
    "{{< figure src=\"./stack.png\" width=80% >}}\n",
    "\n",
    "Đôi khi, chúng ta sẽ cần kết hợp các ma trận, vector lại thành một mảng mới. Có ba cách để làm điều này:\n",
    "\n",
    "- **np.vstack**: Kết hợp theo chiều dọc.\n",
    "- **np.hstack**: Kết hợp theo chiều ngang.\n",
    "- **np.column_stack**: Chuyển các vector thành cột và kết hợp theo chiều ngang.\n",
    "\n",
    "Chúng ta cũng có thể sử dụng hàm sau, đây là hàm tổng quát của ba hàm trên:\n",
    "\n",
    "```python\n",
    "# vstack, hstack\n",
    "np.vstack([v1, v2])\n",
    "np.hstack([v1, v2])\n",
    "np.column_stack([v1, v2])\n",
    "\n",
    "# concatenate\n",
    "# axis = 0, theo chiều dọc\n",
    "# axis = 1, theo chiều ngang\n",
    "np.concatenate([v1, v2], axis = 0)\n",
    "```"
   ]
  },
  {
   "cell_type": "markdown",
   "metadata": {},
   "source": [
    "## 4. Hàm tính toán với mảng\n",
    "\n",
    "Có nhiều hàm khác nhau được xây dựng dành cho việc tính toán với mảng. Một số hàm, tác động lên từng phần tử và trả về mảng có cùng kích thước với mảng ban đầu. Các hàm này được gọi là _ufunc - universal functions_.\n",
    "\n",
    "Ngoài ra còn một số hàm không hoạt động theo chiều của mảng. Ví dụ như hàm _sum, min, max_, các hàm này hoạt động trên toàn bộ mảng, theo hàng hoặc theo cột. Ví dụ:\n",
    "\n",
    "```python\n",
    "# Giả sử ta có mảng\n",
    "A = np.array([\n",
    "    [1, 2, 3, 4],\n",
    "    [5, 6, 7, 80]\n",
    "])\n",
    "\n",
    "# Hàm sum\n",
    "np.sum(A)              # Trên toàn bộ mảng\n",
    "np.sum(A, axis = 0)    # Theo cột\n",
    "np.sum(A, axis = 1)    # Theo hàng\n",
    "```"
   ]
  },
  {
   "cell_type": "markdown",
   "metadata": {},
   "source": [
    "## 5. Views và Copies\n",
    "\n",
    "### 5.1. Views\n",
    "\n",
    "Để kiểm soát cách bộ nhớ được sử dụng, Numpy sử dụng một khái niệm là Views. Views là chế độ mà các mảng nhỏ hơn chia sẻ cùng một dữ liệu với mảng lớn hơn. Một ví dụ đơn giản nhất về Views là slicing:\n",
    "\n",
    "```python\n",
    "M = np.array([[1., 2.],\n",
    "             [3., 4.]])\n",
    "\n",
    "# first row of M\n",
    "v = M[0, :] \n",
    "```\n",
    "\n",
    "Trong ví dụ trên, `v` là một _view_ của `M`, nó và `M` tham chiếu đến cùng dữ liệu. Sửa đổi dữ liệu ở một trong hai mảng sẽ làm thay đổi dữ liệu trong mảng còn lại. Chúng ta có thể kiểm tra xem một mảng chia sẻ dữ liệu từ đâu:\n",
    "\n",
    "```python\n",
    "v.base      # array([[1.,0.],[3.,4.]])\n",
    "M.base      # None, vì đây là dữ liệu của chính nó\n",
    "v.base is M # True\n",
    "```\n",
    "\n",
    "Lưu ý chỉ những mảng nào slicing sử dụng `:` mới trả về một View, nếu slicing sử dụng trực tiếp các index hoặc các giá trị Boolean _(thảo luận ở phần sau)_ sẽ tạo ra một bản sao. Ví dụ:"
   ]
  },
  {
   "cell_type": "code",
   "execution_count": 28,
   "metadata": {},
   "outputs": [
    {
     "name": "stdout",
     "output_type": "stream",
     "text": [
      "[0 1 2 3]\n"
     ]
    }
   ],
   "source": [
    "a = np.arange(4) # array([0.,1.,2.,3.])\n",
    "print(a)"
   ]
  },
  {
   "cell_type": "code",
   "execution_count": 40,
   "metadata": {},
   "outputs": [
    {
     "name": "stdout",
     "output_type": "stream",
     "text": [
      "[10 10]\n",
      "None\n"
     ]
    }
   ],
   "source": [
    "b = a[[2, 3]]\n",
    "print(b)\n",
    "print(b.base)"
   ]
  },
  {
   "cell_type": "code",
   "execution_count": 31,
   "metadata": {},
   "outputs": [
    {
     "name": "stdout",
     "output_type": "stream",
     "text": [
      "[0 1 2 3]\n"
     ]
    }
   ],
   "source": [
    "c = a[1:3]\n",
    "print(c.base)"
   ]
  },
  {
   "cell_type": "markdown",
   "metadata": {},
   "source": [
    "Transpose và reshape cũng tạo ra một View của mảng."
   ]
  },
  {
   "cell_type": "markdown",
   "metadata": {},
   "source": [
    "### 5.2. Copies\n",
    "\n",
    "Đôi khi chúng ta phải sao chép một mảng để xử lý riêng biệt với mảng ban đầu, khi đó ta sẽ sử dụng phương thức `copy()` hoặc sử dụng hàm `np.array()`. Ví dụ:\n",
    "\n",
    "```python\n",
    "M = np.array([[1., 2.],\n",
    "              [3., 4.]])\n",
    "\n",
    "# Copy\n",
    "N = np.array(M.T)\n",
    "P = M.copy()\n",
    "```"
   ]
  },
  {
   "cell_type": "markdown",
   "metadata": {},
   "source": [
    "## 6. So sánh các mảng\n",
    "\n",
    "### 6.1. Mảng boolean\n",
    "\n",
    "Mảng _boolean_ chỉ đơn giản là một mảng mà trong đó các giá trị có kiểu _bool_ (kiểu dữ liệu chỉ có hai giá trị `True` hoặc `False`). Bất kỳ so sánh nào trên mảng sẽ tạo ra một mảng boolean.\n",
    "\n",
    "```python\n",
    "M = np.array([[2, 3],\n",
    "              [1, 4]])\n",
    "\n",
    "M > 2 # array([[False, True],\n",
    "             # [False, True]])\n",
    "\n",
    "M == 0 # array([[False, False],\n",
    "             # [False, False]])\n",
    "\n",
    "N = np.array([[2, 3],\n",
    "              [0, 0]])\n",
    "M == N # array([[True, True],\n",
    "              # [False, False]])\n",
    "```"
   ]
  },
  {
   "cell_type": "markdown",
   "metadata": {},
   "source": [
    "**Lưu ý**: Vì các phép so sánh dựa trên mảng sẽ tạo ra một mảng mới, cho nên ta không thể sử dụng nó trong mệnh đề `if`. Có một giải pháp đơn giản là sử dụng `any` hoặc `all`:\n",
    "\n",
    "```python\n",
    "A = np.array([[1,2],[3,4]])\n",
    "B = np.array([[1,2],[3,3]])\n",
    "A == B           # creates array([[True, True], [True, False]]) \n",
    "(A == B).all()   # False\n",
    "(A != B).any()   # True\n",
    "```"
   ]
  },
  {
   "cell_type": "markdown",
   "metadata": {},
   "source": [
    "### 6.2. Toán tử bool\n",
    "\n",
    "Chúng ta không thể sử dụng các toán tử như `and, or, not` với mảng, mà phải sử dụng toán tử thay thế:\n",
    "\n",
    "|Toán tử logic| Toán tử thay thế|\n",
    "|:-:|:-:|\n",
    "| A and B| A & B|\n",
    "|A or B | A | B |\n",
    "| not A | ~ A |"
   ]
  },
  {
   "cell_type": "markdown",
   "metadata": {},
   "source": [
    "## 7. Indexing\n",
    "\n",
    "Trong phần trên chúng ta đã biết cách sử dụng indexing và slicing để lấy ra các phần tử từ một mảng sử dụng các chỉ số vị trí. Trong phần này, chúng ta tìm hiểu thêm hai cách nữa để làm điều này.\n",
    "\n",
    "### 7.1. Sử dụng mảng bool\n",
    "\n",
    "Ví dụ:\n",
    "\n",
    "```python\n",
    "B = np.array([[True, False],\n",
    "              [False, True]])\n",
    "M = np.array([[2, 3],\n",
    "              [1, 4]])\n",
    "\n",
    "# indexing\n",
    "M[B] # array([2,4]), a vector\n",
    "\n",
    "# Sửa đổi giá trị\n",
    "M[B] = 0\n",
    "M # [[0, 3], [1, 0]]\n",
    "\n",
    "M[B] = 10, 20\n",
    "M # [[10, 3], [1, 20]]\n",
    "\n",
    "# Thay thế các giá trị > 2 = 0\n",
    "M[M > 2] = 0\n",
    "```\n",
    "\n",
    "### 7.2. Sử dụng where\n",
    "\n",
    "Cú pháp:\n",
    "\n",
    "```python\n",
    "np.where(condition, a, b)\n",
    "```\n",
    "\n",
    "Mảng sẽ trả về các giá trị phụ thuộc vào điều kiện, nếu điều kiện trả về `True` sẽ lấy giá trị từ `a`, ngược lại sẽ lấy giá trị từ `b`. Nếu không khai báo `a, b` thì nó sẽ trả về một mảng các vị trí thỏa mãn điều kiện.\n"
   ]
  },
  {
   "cell_type": "markdown",
   "metadata": {},
   "source": [
    "## 8. Broadcasting\n",
    "\n",
    "Broadcasting, hiểu đơn giản là khi chúng ta thực hiện các phép tính giữa một mảng với một vector hoặc một số, thì vector và số của chúng ta sẽ tự động được mở rộng để có cùng kích thước với mảng ban đầu và sử dụng giá trị phía trước để lấp đầy khoảng trống.\n",
    "\n",
    "{{< figure src=\"./broadcasting.png\" width=70% >}}\n",
    "\n",
    "Lưu ý, chiều không được mở rộng của vector phải có cùng số lượng phần tử với chiều tương ứng của mảng, nếu không sẽ gặp lỗi. Ví dụ:\n",
    "\n",
    "{{< figure src=\"./miss-match.png\" >}}"
   ]
  }
 ],
 "metadata": {
  "interpreter": {
   "hash": "5dd02a620d24ce96d4fed906c505d8614c897213038bc8121df06c969d20c5ff"
  },
  "kernelspec": {
   "display_name": "Python 3.10.0 ('learnds')",
   "language": "python",
   "name": "python3"
  },
  "language_info": {
   "codemirror_mode": {
    "name": "ipython",
    "version": 3
   },
   "file_extension": ".py",
   "mimetype": "text/x-python",
   "name": "python",
   "nbconvert_exporter": "python",
   "pygments_lexer": "ipython3",
   "version": "3.10.0"
  },
  "orig_nbformat": 4
 },
 "nbformat": 4,
 "nbformat_minor": 2
}
