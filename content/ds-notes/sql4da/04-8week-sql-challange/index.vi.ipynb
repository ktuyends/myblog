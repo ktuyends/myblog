{
 "cells": [
  {
   "cell_type": "raw",
   "metadata": {},
   "source": [
    "---\n",
    "title: \"SQL Notes - 8 Week SQL Challenge\"\n",
    "subtitle: \"\"\n",
    "slug: sql-8-weel-challenge\n",
    "date: 2022-05-14\n",
    "lastmod: 2022-05-14\n",
    "draft: false\n",
    "authors: [\"Tuyen Kieu\"]\n",
    "description: \"\"\n",
    "images: []\n",
    "tags: [\"SQL\", \"SQL for DA\"]\n",
    "categories: []\n",
    "series: [SQL for Data Analysis]\n",
    "series_weight: 4\n",
    "toc:\n",
    "  enable: true\n",
    "license: ''  \n",
    "hiddenFromHomePage: false\n",
    "lightgallery: true\n",
    "---\n",
    "\n",
    "<!--more-->"
   ]
  }
 ],
 "metadata": {
  "interpreter": {
   "hash": "5dd02a620d24ce96d4fed906c505d8614c897213038bc8121df06c969d20c5ff"
  },
  "kernelspec": {
   "display_name": "Python 3.10.0 ('learnds')",
   "language": "python",
   "name": "python3"
  },
  "language_info": {
   "name": "python",
   "version": "3.10.0"
  },
  "orig_nbformat": 4
 },
 "nbformat": 4,
 "nbformat_minor": 2
}
