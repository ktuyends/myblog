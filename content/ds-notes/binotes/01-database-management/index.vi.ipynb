{
 "cells": [
  {
   "cell_type": "raw",
   "metadata": {},
   "source": [
    "---\n",
    "title: \"BI - Database management\"\n",
    "subtitle: \"\"\n",
    "slug: database-management\n",
    "date: 2022-04-20\n",
    "lastmod: 2022-04-20\n",
    "draft: false\n",
    "authors: [\"Tuyen Kieu\"]\n",
    "description: \"\"\n",
    "images: []\n",
    "tags: [\"BI\"]\n",
    "categories: []\n",
    "series: [Business Intelligence]\n",
    "series_weight: 1\n",
    "toc:\n",
    "  enable: true\n",
    "license: \"\"\n",
    "hiddenFromHomePage: false\n",
    "lightgallery: true\n",
    "---\n",
    "\n",
    "<!--more-->"
   ]
  },
  {
   "cell_type": "markdown",
   "metadata": {},
   "source": [
    "## 1. Một số khái niệm cơ bản\n",
    "\n",
    "{{< figure src=\"data.webp\" width=75% >}}\n",
    "\n",
    "### 1.1. Data Sources\n",
    "\n",
    "### 1.2. Data Lake\n",
    "\n",
    "### 1.3. Data Warehouse\n",
    "\n",
    "### 1.4. Data Mart\n",
    "\n",
    "## 2. Mô hình CSDL quan hệ\n",
    "\n"
   ]
  }
 ],
 "metadata": {
  "interpreter": {
   "hash": "4c11687d8836ffc239021e36f392b58b3bc872cc9f646c7bfb1c600138d566eb"
  },
  "kernelspec": {
   "display_name": "Python 3.10.0 ('learnds')",
   "language": "python",
   "name": "python3"
  },
  "language_info": {
   "name": "python",
   "version": "3.10.0"
  },
  "orig_nbformat": 4
 },
 "nbformat": 4,
 "nbformat_minor": 2
}
