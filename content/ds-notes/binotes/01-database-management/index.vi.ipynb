{
 "cells": [
  {
   "cell_type": "raw",
   "metadata": {},
   "source": [
    "---\n",
    "title: \"BI - Lý thuyết CSDL\"\n",
    "subtitle: \"\"\n",
    "slug: database-management\n",
    "date: 2022-04-20\n",
    "lastmod: 2022-04-20\n",
    "draft: false\n",
    "authors: [\"Tuyen Kieu\"]\n",
    "description: \"\"\n",
    "images: []\n",
    "tags: [\"BI\"]\n",
    "categories: []\n",
    "series: [Business Intelligence]\n",
    "series_weight: 1\n",
    "toc:\n",
    "  enable: true\n",
    "license: \"\"\n",
    "hiddenFromHomePage: false\n",
    "lightgallery: true\n",
    "---\n",
    "\n",
    "<!--more-->"
   ]
  }
 ],
 "metadata": {
  "language_info": {
   "name": "python"
  },
  "orig_nbformat": 4
 },
 "nbformat": 4,
 "nbformat_minor": 2
}
