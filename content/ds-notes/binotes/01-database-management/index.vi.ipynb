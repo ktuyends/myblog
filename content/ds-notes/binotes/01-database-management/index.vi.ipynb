{
 "cells": [
  {
   "cell_type": "raw",
   "metadata": {},
   "source": [
    "---\n",
    "title: \"BI - Lý thuyết CSDL\"\n",
    "subtitle: \"\"\n",
    "slug: database-management\n",
    "date: 2022-04-20\n",
    "lastmod: 2022-04-20\n",
    "draft: false\n",
    "authors: [\"Tuyen Kieu\"]\n",
    "description: \"\"\n",
    "images: []\n",
    "tags: [\"BI\"]\n",
    "categories: []\n",
    "series: [Business Intelligence]\n",
    "series_weight: 1\n",
    "toc:\n",
    "  enable: true\n",
    "license: \"\"\n",
    "hiddenFromHomePage: false\n",
    "lightgallery: true\n",
    "---\n",
    "\n",
    "<!--more-->"
   ]
  },
  {
   "cell_type": "markdown",
   "metadata": {},
   "source": [
    "## 1. Một số khái niệm cơ bản\n",
    "\n",
    "- Database\n",
    "- Data Lake\n",
    "- Data Warehouse\n",
    "- Data Mart\n",
    "\n",
    "## 2. Mô hình CSDL quan hệ\n",
    "\n"
   ]
  }
 ],
 "metadata": {
  "language_info": {
   "name": "python"
  },
  "orig_nbformat": 4
 },
 "nbformat": 4,
 "nbformat_minor": 2
}
