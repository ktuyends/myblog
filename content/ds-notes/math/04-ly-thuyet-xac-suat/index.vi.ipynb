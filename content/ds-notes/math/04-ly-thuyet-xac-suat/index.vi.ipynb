{
 "cells": [
  {
   "cell_type": "raw",
   "metadata": {},
   "source": [
    "---\n",
    "title: \"Math - Lý thuyết xác suất\"\n",
    "subtitle: \"\"\n",
    "slug: probability-theory\n",
    "date: 2022-01-14\n",
    "lastmod: 2022-01-14\n",
    "draft: false\n",
    "authors: [\"Tuyen Kieu\"]\n",
    "description: \"\"\n",
    "images: []\n",
    "tags: [\"Mathematics\"]\n",
    "categories: []\n",
    "series: [Mathematical Topics]\n",
    "series_weight: 4\n",
    "toc:\n",
    "  enable: true\n",
    "license: ''  \n",
    "hiddenFromHomePage: false\n",
    "lightgallery: true\n",
    "---\n",
    "\n",
    "<!--more-->"
   ]
  }
 ],
 "metadata": {
  "language_info": {
   "name": "python"
  },
  "orig_nbformat": 4
 },
 "nbformat": 4,
 "nbformat_minor": 2
}
