{
 "cells": [
  {
   "cell_type": "raw",
   "metadata": {},
   "source": [
    "---\n",
    "title: \"Math - Giải tích\"\n",
    "subtitle: \"\"\n",
    "slug: calculus\n",
    "date: 2022-01-10\n",
    "lastmod: 2022-01-10\n",
    "draft: false\n",
    "authors: [\"Tuyen Kieu\"]\n",
    "description: \"\"\n",
    "images: []\n",
    "tags: [\"Mathematics\"]\n",
    "categories: []\n",
    "series: [Mathematical Topics]\n",
    "series_weight: 1\n",
    "toc:\n",
    "  enable: true\n",
    "license: ''  \n",
    "hiddenFromHomePage: false\n",
    "lightgallery: true\n",
    "---\n",
    "\n",
    "<!--more-->"
   ]
  }
 ],
 "metadata": {
  "language_info": {
   "name": "python"
  },
  "orig_nbformat": 4
 },
 "nbformat": 4,
 "nbformat_minor": 2
}
