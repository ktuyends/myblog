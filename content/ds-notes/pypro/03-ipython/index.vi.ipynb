{
 "cells": [
  {
   "cell_type": "raw",
   "metadata": {},
   "source": [
    "---\n",
    "title: \"Pypro - Vài dòng về IPython\"\n",
    "subtitle: \"\"\n",
    "slug: python-ipython\n",
    "date: 2021-12-23\n",
    "lastmod: 2021-12-23\n",
    "draft: false\n",
    "authors: [\"Tuyen Kieu\"]\n",
    "description: \"\"\n",
    "images: []\n",
    "tags: [\"Programming\"]\n",
    "categories: []\n",
    "series: [Python Programming]\n",
    "series_weight: 3\n",
    "toc:\n",
    "  enable: true\n",
    "license: ''  \n",
    "hiddenFromHomePage: false\n",
    "lightgallery: true\n",
    "---\n",
    "\n",
    "<!--more-->"
   ]
  }
 ],
 "metadata": {
  "interpreter": {
   "hash": "4c11687d8836ffc239021e36f392b58b3bc872cc9f646c7bfb1c600138d566eb"
  },
  "kernelspec": {
   "display_name": "Python 3.10.0 64-bit ('learnds': conda)",
   "language": "python",
   "name": "python3"
  },
  "language_info": {
   "name": "python",
   "version": "3.10.0"
  },
  "orig_nbformat": 4
 },
 "nbformat": 4,
 "nbformat_minor": 2
}
