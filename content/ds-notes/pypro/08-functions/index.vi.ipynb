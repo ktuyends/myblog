{
 "cells": [
  {
   "cell_type": "raw",
   "metadata": {},
   "source": [
    "---\n",
    "title: \"Pypro - Functions\"\n",
    "subtitle: \"\"\n",
    "slug: python-functions\n",
    "date: 2021-12-28\n",
    "lastmod: 2021-12-28\n",
    "draft: false\n",
    "authors: [\"Tuyen Kieu\"]\n",
    "description: \"\"\n",
    "images: []\n",
    "tags: [\"Programming\"]\n",
    "categories: []\n",
    "series: [Python Programming]\n",
    "series_weight: 8\n",
    "toc:\n",
    "  enable: true\n",
    "license: ''  \n",
    "hiddenFromHomePage: false\n",
    "lightgallery: true\n",
    "---\n",
    "\n",
    "<!--more-->"
   ]
  },
  {
   "cell_type": "markdown",
   "metadata": {},
   "source": [
    "## 8. Lập trình hàm\n",
    "\n",
    "### 8.1. Hàm filter\n",
    "\n",
    "Cú pháp: `filter(function, iterable) => filter`\n",
    "\n",
    "Hàm `filter()` sẽ lặp qua từng phần từ của iterable, sau đó áp dụng hàm function. Nếu trả về True, sẽ trả về phần tử thỏa mãn.\n",
    "\n",
    "```python\n",
    "## Example: create simple filter object that filter elements which are divisible by 10\n",
    "def my_func(var):\n",
    "  # returns True if number is divisible by 10\n",
    "  if var % 10 == 0:\n",
    "    # value is returned\n",
    "    return True \n",
    "  # value is not returned   \n",
    "  return False\n",
    "\n",
    "my_list = [101,100,501,200]\n",
    "\n",
    "# create a filter object\n",
    "my_filter = filter(my_func, my_list)  \n",
    "\n",
    "print(type(my_filter)) # <class 'filter'>\n",
    "output = list(my_filter)\n",
    "\n",
    "# or looping through filter object \n",
    "for val in filter(my_func, my_list):\n",
    "  print(val) # [100, 200]\n",
    "```\n",
    "\n",
    "### 8.2. Hàm map\n",
    "\n",
    "Cú pháp: `map(function, iterable) => map`\n",
    "\n",
    "Hàm này, tương tự như `filter()` nhưng thay vì lọc các giá trị thỏa mãn, nó sẽ áp dụng hàm function với từng phần tử và trả về kết quả của function\n",
    "\n",
    "```python\n",
    "## Example 1: Return square of each element in a list\n",
    "def my_func(var):\n",
    "  # returns square of a number\n",
    "  return var**2\n",
    "\n",
    "my_tuple = (1,2,3,4,5)\n",
    "my_mapper = map(my_func, my_tuple)   \n",
    "print(type(my_mapper)) # <class 'map'>\n",
    "# call list construtor to executes the map function\n",
    "output = list(my_mapper) # [1, 4, 9, 16, 25]\n",
    "\n",
    "# or looping through map object\n",
    "for val in map(my_func, my_tuple):\n",
    "  print(val) # [1, 4, 9, 16, 25]\n",
    "```\n",
    "\n",
    "### 8.3. Hàm reduce\n",
    "\n",
    "Cú pháp: `reduce(function, iterable, initializer = 0)`\n",
    "\n",
    "Hàm này tương tự như `map()`, nhưng thay vì áp dụng cho từng phần tử riêng lẻ, hàm `reduce()` sẽ tính tích lũy.\n",
    "\n"
   ]
  },
  {
   "cell_type": "code",
   "execution_count": 5,
   "metadata": {},
   "outputs": [
    {
     "name": "stdout",
     "output_type": "stream",
     "text": [
      "0 + 1 = 1\n",
      "1 + 2 = 3\n",
      "3 + 3 = 6\n",
      "6 + 4 = 10\n"
     ]
    },
    {
     "data": {
      "text/plain": [
       "10"
      ]
     },
     "execution_count": 5,
     "metadata": {},
     "output_type": "execute_result"
    }
   ],
   "source": [
    "# ví dụ 1\n",
    "# Định nghĩa hàm\n",
    "def my_add(a, b):\n",
    "    result = a + b\n",
    "    print(f\"{a} + {b} = {result}\")\n",
    "    return result\n",
    "\n",
    "from functools import reduce\n",
    "numbers = [0, 1, 2, 3, 4]\n",
    "reduce(my_add, numbers)"
   ]
  },
  {
   "cell_type": "code",
   "execution_count": 6,
   "metadata": {},
   "outputs": [
    {
     "name": "stdout",
     "output_type": "stream",
     "text": [
      "100 + 0 = 100\n",
      "100 + 1 = 101\n",
      "101 + 2 = 103\n",
      "103 + 3 = 106\n",
      "106 + 4 = 110\n"
     ]
    },
    {
     "data": {
      "text/plain": [
       "110"
      ]
     },
     "execution_count": 6,
     "metadata": {},
     "output_type": "execute_result"
    }
   ],
   "source": [
    "# Ví dụ 2\n",
    "reduce(my_add, numbers, 100)"
   ]
  }
 ],
 "metadata": {
  "interpreter": {
   "hash": "4c11687d8836ffc239021e36f392b58b3bc872cc9f646c7bfb1c600138d566eb"
  },
  "kernelspec": {
   "display_name": "Python 3.10.0 64-bit ('learnds': conda)",
   "language": "python",
   "name": "python3"
  },
  "language_info": {
   "codemirror_mode": {
    "name": "ipython",
    "version": 3
   },
   "file_extension": ".py",
   "mimetype": "text/x-python",
   "name": "python",
   "nbconvert_exporter": "python",
   "pygments_lexer": "ipython3",
   "version": "3.10.0"
  },
  "orig_nbformat": 4
 },
 "nbformat": 4,
 "nbformat_minor": 2
}
