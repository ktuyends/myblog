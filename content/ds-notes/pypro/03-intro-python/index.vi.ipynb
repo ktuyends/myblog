{
 "cells": [
  {
   "cell_type": "raw",
   "metadata": {},
   "source": [
    "---\n",
    "title: \"Pypro - Làm quen với Python\"\n",
    "subtitle: \"\"\n",
    "slug: basic-python\n",
    "date: 2021-12-23\n",
    "lastmod: 2021-12-23\n",
    "draft: false\n",
    "authors: [\"Tuyen Kieu\"]\n",
    "description: \"\"\n",
    "images: []\n",
    "tags: [\"Programming\"]\n",
    "categories: []\n",
    "series: [Python Programming]\n",
    "series_weight: 3\n",
    "toc:\n",
    "  enable: true\n",
    "license: ''  \n",
    "hiddenFromHomePage: false\n",
    "lightgallery: true\n",
    "---\n",
    "\n",
    "<!--more-->"
   ]
  },
  {
   "cell_type": "markdown",
   "metadata": {},
   "source": [
    "## 1. Lướt qua Python\n",
    "\n",
    "### 1.1. Phép Gán\n",
    "\n",
    "Phép gán:\n",
    "\n",
    "```python\n",
    "# Cách 1:\n",
    "ages = [12, 16, 19]\n",
    "\n",
    "# Cách 2\n",
    "robins_age, roberts_age, robertas_age = ages\n",
    "\n",
    "# Cách 3\n",
    "a = b = 10\n",
    "\n",
    "# Cách 4\n",
    "m, n = 17, 6\n",
    "```\n",
    "\n",
    "### 1.2. Các toán tử\n",
    "\n",
    "### 1.3. Cấu trúc rẽ nhánh\n",
    "\n",
    "### 1.4. Vòng lặp\n",
    "\n",
    "### 1.5. Hàm Print\n",
    "\n",
    "### 1.6. Functions\n",
    "\n",
    "### 1.7. Lists và Tuples\n",
    "\n",
    "### 1.8. Dictionaries\n",
    "\n",
    "### 1.9. Sets\n",
    "\n",
    "## 2. Strings \n",
    "\n",
    "## 3. Tính toán với các số\n",
    "\n",
    "## 4. Lập trình hàm\n",
    "\n",
    "## 5. Lập trình hướng đối tượng\n",
    "\n",
    "## 6. Làm việc với các files\n",
    "\n",
    "\n"
   ]
  }
 ],
 "metadata": {
  "interpreter": {
   "hash": "4c11687d8836ffc239021e36f392b58b3bc872cc9f646c7bfb1c600138d566eb"
  },
  "kernelspec": {
   "display_name": "Python 3.10.0 64-bit ('learnds': conda)",
   "language": "python",
   "name": "python3"
  },
  "language_info": {
   "name": "python",
   "version": "3.10.0"
  },
  "orig_nbformat": 4
 },
 "nbformat": 4,
 "nbformat_minor": 2
}
