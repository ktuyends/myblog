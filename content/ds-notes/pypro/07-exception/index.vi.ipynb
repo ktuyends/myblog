{
 "cells": [
  {
   "cell_type": "raw",
   "metadata": {},
   "source": [
    "---\n",
    "title: \"Pypro - Xử lý ngoại lệ\"\n",
    "subtitle: \"\"\n",
    "slug: python-exception-handling\n",
    "date: 2021-12-27\n",
    "lastmod: 2021-12-27\n",
    "draft: false\n",
    "authors: [\"Tuyen Kieu\"]\n",
    "description: \"\"\n",
    "images: []\n",
    "tags: [\"Programming\"]\n",
    "categories: []\n",
    "series: [Python Programming]\n",
    "series_weight: 7\n",
    "toc:\n",
    "  enable: true\n",
    "license: ''  \n",
    "hiddenFromHomePage: false\n",
    "lightgallery: true\n",
    "---\n",
    "\n",
    "<!--more-->"
   ]
  },
  {
   "cell_type": "markdown",
   "metadata": {},
   "source": [
    "## 1. Các loại lỗi trong Python\n",
    "\n",
    "{{< figure src=\"exception.png\" >}}\n",
    "\n",
    "### 1.1. Lỗi biên dịch\n",
    "\n",
    "Lỗi này thường do cú pháp không chính xác *(SyntaxError)* hoặc thụt lề *(SyntaxError)*\n",
    "\n",
    "```python\n",
    "## Example 1: wrong indentation in condition\n",
    "a = 30\n",
    "if a == 30:\n",
    "    print(\"Execute this\")\n",
    "     print(\"This will raise a Indentation error\") # IndentationError\n",
    "\n",
    "## Example 2: missing closing brackets in list and string  \n",
    "data = [232,54,65 # SyntaxError\n",
    "data = \"this string is not complete # SyntaxError\n",
    "\n",
    "## Example 3: missing colon in function \n",
    "def myfun() # SyntaxError\n",
    "    print(\"my function\")\n",
    "```\n",
    "\n",
    "### 1.2. Lỗi thực thi \n",
    "\n",
    "Đây là lỗi phát sinh trong quá trình thực thi chương trình. Ví dụ lỗi chia cho số `0`.\n",
    "\n",
    "```python\n",
    "## Example 1: indexing error\n",
    "a = [34,56,32,87]\n",
    "print(a[6]) # IndexError\n",
    "\n",
    "## Example 2: dividing by zero\n",
    "print(34/0) # ZeroDivisionError\n",
    "\n",
    "## Example 3: accessing unknown attribute \n",
    "import math\n",
    "math.square # AttributeError\n",
    "\n",
    "## Example 4: raise a warning\n",
    "import warnings\n",
    "warnings.warn(\"Something is not right.\")\n",
    "print(\"This can execute\")\n",
    "```\n",
    "\n",
    "### 1.3. Lỗi Logic\n",
    "\n",
    "Đây là lỗi mà chương trình vẫn thực thi bình thường, nhưng kết quả trả về lại không phải kết quả chúng ta mong đợi\n",
    "\n",
    "```python\n",
    "## Example 1: accessing wrong index\n",
    "my_list = [82,92,38,42,54,23,64,87]\n",
    "\n",
    "# printing last 3 values\n",
    "print(my_list[-2:]) # [64, 87]\n",
    "\n",
    "# here program has no error, but instead of printing 3\n",
    "# its only printing 2 numbers, because we provided wrong index\n",
    "# this example is not hard to fix, but in larger programs it consumes a lot of \n",
    "# time to find which object/variable/function must have caused the wrong output \n",
    "```\n",
    "\n",
    "### 1.4. Lỗi đánh giá\n",
    "\n",
    "Đây là một loại lỗi liên quan đến việc giá trị của một biểu thức không đạt yêu cầu.\n",
    "\n",
    "Ví dụ, bạn yêu cầu nhập vào một số chẵn, nếu người dùng nhập vào một số lẻ thì đây có thể xem như là lỗi đánh giá *(assert error)*.\n"
   ]
  },
  {
   "cell_type": "markdown",
   "metadata": {},
   "source": [
    "## 2. Xử lý lỗi\n",
    "\n",
    "Về cơ bản, khi gặp phải lỗi Python sẽ dừng thực hiện chương trình và đưa ra thông tin về lỗi mà chương trình gặp phải.\n",
    "\n",
    "Trong Python, ứng với mỗi loại lỗi, sẽ có một class riêng. Ví dụ, để mô tả lỗi chia cho số 0, Python sử dụng class *ZeroDivisionError*,...Ta có rất nhiều class như này, và chúng được gọi là những ngoại lệ được xây dựng sẵn *(built-in exception)*.\n",
    "\n",
    "### 2.1. Cú pháp tổng quát\n",
    "\n",
    "```python\n",
    "try:\n",
    "   # do something\n",
    "\n",
    "except ValueError as vE:\n",
    "   # handle ValueError exception\n",
    "\n",
    "except (TypeError, ZeroDivisionError):\n",
    "   # handle multiple exceptions\n",
    "   # TypeError and ZeroDivisionError\n",
    "\n",
    "except:\n",
    "   # handle all other exceptions\n",
    "\n",
    "else:\n",
    "   # Nếu không thực thi except, sẽ thực thi else\n",
    "\n",
    "finally:\n",
    "   # luôn luôn thực thi\n",
    "```\n",
    "\n",
    "### 2.2. Từ khóa raise\n",
    "\n",
    "`raise` được sử dụng để đưa ra một ngoại lệ bên trong chương trình. Nếu ta sử dụng `raise` bên trong câu lệnh `try-except` nó sẽ nhảy đến ngoại lệ được đưa ra.\n",
    "\n",
    "```python\n",
    ">>> raise KeyboardInterrupt\n",
    "Traceback (most recent call last):\n",
    "...\n",
    "KeyboardInterrupt\n",
    "```\n",
    "\n",
    "```python\n",
    ">>> raise MemoryError(\"This is an argument\")\n",
    "Traceback (most recent call last):\n",
    "...\n",
    "MemoryError: This is an argument\n",
    "```\n",
    "\n",
    "### 2.3. Từ khóa assert\n",
    "\n",
    "Trong Python, `assert` chỉ đơn giản là kiểm tra một biểu thức logic. Nếu nó trả về `True`, assert không làm gì hết và chuyển đến câu lệnh tiếp theo. Nếu nó trả về `False`, assert dừng chương trình và đưa ra thông báo lỗi.\n",
    "\n",
    "Cú pháp:\n",
    "\n",
    "```python\n",
    "assert <condition>\n",
    "assert <condition>,<error message>\n",
    "```\n"
   ]
  },
  {
   "cell_type": "markdown",
   "metadata": {},
   "source": [
    "## 3. Xây dựng ngoại lệ\n",
    "\n",
    "Để xây dựng một ngoại lệ, ta tạo một class kế thừa thì class `Exceptions`:"
   ]
  },
  {
   "cell_type": "code",
   "execution_count": 1,
   "metadata": {},
   "outputs": [
    {
     "ename": "CustomError",
     "evalue": "",
     "output_type": "error",
     "traceback": [
      "\u001b[1;31m---------------------------------------------------------------------------\u001b[0m",
      "\u001b[1;31mCustomError\u001b[0m                               Traceback (most recent call last)",
      "\u001b[1;32m~\\AppData\\Local\\Temp/ipykernel_12416/509278271.py\u001b[0m in \u001b[0;36m<module>\u001b[1;34m\u001b[0m\n\u001b[0;32m      4\u001b[0m \u001b[1;33m\u001b[0m\u001b[0m\n\u001b[0;32m      5\u001b[0m \u001b[1;31m# Raise\u001b[0m\u001b[1;33m\u001b[0m\u001b[1;33m\u001b[0m\u001b[0m\n\u001b[1;32m----> 6\u001b[1;33m \u001b[1;32mraise\u001b[0m \u001b[0mCustomError\u001b[0m\u001b[1;33m\u001b[0m\u001b[1;33m\u001b[0m\u001b[0m\n\u001b[0m",
      "\u001b[1;31mCustomError\u001b[0m: "
     ]
    }
   ],
   "source": [
    "# Tạo một class kế thừa từ class Exception\n",
    "class CustomError(Exception):\n",
    "    pass\n",
    "\n",
    "# Raise\n",
    "raise CustomError\n"
   ]
  },
  {
   "cell_type": "code",
   "execution_count": 2,
   "metadata": {},
   "outputs": [
    {
     "ename": "CustomError",
     "evalue": "An error occurred",
     "output_type": "error",
     "traceback": [
      "\u001b[1;31m---------------------------------------------------------------------------\u001b[0m",
      "\u001b[1;31mCustomError\u001b[0m                               Traceback (most recent call last)",
      "\u001b[1;32m~\\AppData\\Local\\Temp/ipykernel_12416/4012702173.py\u001b[0m in \u001b[0;36m<module>\u001b[1;34m\u001b[0m\n\u001b[1;32m----> 1\u001b[1;33m \u001b[1;32mraise\u001b[0m \u001b[0mCustomError\u001b[0m\u001b[1;33m(\u001b[0m\u001b[1;34m\"An error occurred\"\u001b[0m\u001b[1;33m)\u001b[0m\u001b[1;33m\u001b[0m\u001b[1;33m\u001b[0m\u001b[0m\n\u001b[0m",
      "\u001b[1;31mCustomError\u001b[0m: An error occurred"
     ]
    }
   ],
   "source": [
    "raise CustomError(\"An error occurred\")"
   ]
  },
  {
   "cell_type": "markdown",
   "metadata": {},
   "source": [
    "**Ví dụ 1: tạo một ngoại lệ đơn giản**\n"
   ]
  },
  {
   "cell_type": "code",
   "execution_count": 4,
   "metadata": {},
   "outputs": [],
   "source": [
    "# define Python user-defined exceptions\n",
    "class Error(Exception):\n",
    "    \"\"\"Base class for other exceptions\"\"\"\n",
    "    pass\n",
    "\n",
    "class ValueTooSmallError(Error):\n",
    "    \"\"\"Raised when the input value is too small\"\"\"\n",
    "    pass\n",
    "\n",
    "class ValueTooLargeError(Error):\n",
    "    \"\"\"Raised when the input value is too large\"\"\"\n",
    "    pass"
   ]
  },
  {
   "cell_type": "code",
   "execution_count": null,
   "metadata": {},
   "outputs": [],
   "source": [
    "# you need to guess this number\n",
    "number = 10\n",
    "\n",
    "# user guesses a number until he/she gets it right\n",
    "while True:\n",
    "    try:\n",
    "        i_num = int(input(\"Enter a number: \"))\n",
    "        if i_num < number:\n",
    "            raise ValueTooSmallError\n",
    "        elif i_num > number:\n",
    "            raise ValueTooLargeError\n",
    "        break\n",
    "    except ValueTooSmallError:\n",
    "        print(\"This value is too small, try again!\")\n",
    "        print()\n",
    "    except ValueTooLargeError:\n",
    "        print(\"This value is too large, try again!\")\n",
    "        print()\n",
    "\n",
    "print(\"Congratulations! You guessed it correctly.\")"
   ]
  },
  {
   "cell_type": "markdown",
   "metadata": {},
   "source": [
    "**Ví dụ 2: Tạo một ngoại lệ nâng cao hơn**"
   ]
  },
  {
   "cell_type": "code",
   "execution_count": null,
   "metadata": {},
   "outputs": [],
   "source": [
    "class SalaryNotInRangeError(Exception):\n",
    "    \"\"\"Exception raised for errors in the input salary.\n",
    "\n",
    "    Attributes:\n",
    "        salary -- input salary which caused the error\n",
    "        message -- explanation of the error\n",
    "    \"\"\"\n",
    "\n",
    "    def __init__(self, salary, message=\"Salary is not in (5000, 15000) range\"):\n",
    "        self.salary = salary\n",
    "        self.message = message\n",
    "        super().__init__(self.message)\n",
    "\n",
    "    def __str__(self):\n",
    "        return f'{self.salary} -> {self.message}'\n",
    "\n",
    "\n",
    "salary = int(input(\"Enter salary amount: \"))\n",
    "if not 5000 < salary < 15000:\n",
    "    raise SalaryNotInRangeError(salary)"
   ]
  }
 ],
 "metadata": {
  "interpreter": {
   "hash": "4c11687d8836ffc239021e36f392b58b3bc872cc9f646c7bfb1c600138d566eb"
  },
  "kernelspec": {
   "display_name": "Python 3.10.0 64-bit ('learnds': conda)",
   "language": "python",
   "name": "python3"
  },
  "language_info": {
   "codemirror_mode": {
    "name": "ipython",
    "version": 3
   },
   "file_extension": ".py",
   "mimetype": "text/x-python",
   "name": "python",
   "nbconvert_exporter": "python",
   "pygments_lexer": "ipython3",
   "version": "3.10.0"
  },
  "orig_nbformat": 4
 },
 "nbformat": 4,
 "nbformat_minor": 2
}
