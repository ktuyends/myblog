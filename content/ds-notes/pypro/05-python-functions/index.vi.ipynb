{
 "cells": [
  {
   "cell_type": "raw",
   "metadata": {},
   "source": [
    "---\n",
    "title: \"Pypro - Functions\"\n",
    "subtitle: \"\"\n",
    "slug: python-functions\n",
    "date: 2022-03-03\n",
    "lastmod: 2022-03-03\n",
    "draft: false\n",
    "authors: [\"Tuyen Kieu\"]\n",
    "description: \"\"\n",
    "images: []\n",
    "tags: [\"Programming\"]\n",
    "categories: []\n",
    "series: [Python Programming]\n",
    "series_weight: 5\n",
    "toc:\n",
    "  enable: true\n",
    "license: ''  \n",
    "hiddenFromHomePage: false\n",
    "lightgallery: true\n",
    "---\n",
    "\n",
    "<!--more-->"
   ]
  },
  {
   "cell_type": "markdown",
   "metadata": {},
   "source": [
    "## 1. Functions\n",
    "\n",
    "Functions (Hàm) là một khối code, có tổ chức, có thể tái sử dụng dưới một cái tên được định nghĩa để thực hiện một nhiệm vụ cụ thể nào đó. Hàm có thể có hoặc không có đối số, và sẽ trả về một giá trị.\n",
    "\n",
    "### 1.1. Tạo hàm\n",
    "\n",
    "```python\n",
    "# Cú pháp\n",
    "def function_name(parameter1, parameter2):\n",
    "    \"\"\"docstring\"\"\"\n",
    "    # function body    \n",
    "    # write some action\n",
    "    return value1, value2\n",
    "```\n",
    "\n",
    "### 1.2. Tham số và đối số\n",
    "\n",
    "Tham số (parameters) là tên xuất hiện khi chúng ta định nghĩa hàm.\n",
    "\n",
    "```python\n",
    "# name, age, skill là các tham số\n",
    "def my_func(name, age, skill):\n",
    "    pass\n",
    "```\n",
    "\n",
    "Đối số (arguments) là giá trị chúng ta truyền cho tham số khi gọi hàm:\n",
    "\n",
    "{{< figure src=\"param-args.png\" width=70% >}}\n",
    "\n",
    "### 1.3. Đối số theo vị trí và theo keywords\n",
    "\n",
    "Đối số theo vị trí là đối số được xác định dựa vào vị trí của tham số khi định nghĩa hàm. Còn đối số theo keywords là đối số xác định dựa vào tên tham số.\n",
    "\n",
    "{{< figure src=\"args-types.png\" width=70% >}}\n",
    "\n",
    "### 1.4. Đối số *args và **kwargs\n",
    "\n",
    "- `*args` đại diện cho các đối số theo vị trí, khi chúng ta không xác định được số lượng đối số sẽ truyền vào. `args` có thể thay thế bằng bất kỳ một tên nào khác, và nó là một tuple.\n",
    "- `**kwargs` tương tự như `*args` nhưng nó đại diện cho các đối số theo keywords và nó là một dictionary.\n",
    "\n",
    "Tổng quát khi định nghĩa hàm ta có:\n",
    "\n",
    "{{< figure src=\"func.png\" width=70% >}}\n"
   ]
  },
  {
   "cell_type": "markdown",
   "metadata": {},
   "source": [
    "## 2. First class functions\n",
    "\n",
    "### 2.1. Docstrings và annotations\n",
    "\n",
    "Khi chúng ta sử dụng hàm `help()` trên một class, function, hoặc module,...Python sẽ đưa ra một số thông tin như:"
   ]
  },
  {
   "cell_type": "code",
   "execution_count": 1,
   "metadata": {},
   "outputs": [
    {
     "name": "stdout",
     "output_type": "stream",
     "text": [
      "Help on built-in function print in module builtins:\n",
      "\n",
      "print(...)\n",
      "    print(value, ..., sep=' ', end='\\n', file=sys.stdout, flush=False)\n",
      "    \n",
      "    Prints the values to a stream, or to sys.stdout by default.\n",
      "    Optional keyword arguments:\n",
      "    file:  a file-like object (stream); defaults to the current sys.stdout.\n",
      "    sep:   string inserted between values, default a space.\n",
      "    end:   string appended after the last value, default a newline.\n",
      "    flush: whether to forcibly flush the stream.\n",
      "\n"
     ]
    }
   ],
   "source": [
    "help(print)"
   ]
  },
  {
   "cell_type": "markdown",
   "metadata": {},
   "source": [
    "Để làm được như vậy, khi định nghĩa hàm, class,...ta sử dụng docstrings. Ví dụ:"
   ]
  },
  {
   "cell_type": "code",
   "execution_count": 1,
   "metadata": {},
   "outputs": [
    {
     "name": "stdout",
     "output_type": "stream",
     "text": [
      "Help on function fact in module __main__:\n",
      "\n",
      "fact(n)\n",
      "    Calculates n! (factorial function)\n",
      "    \n",
      "    Inputs:\n",
      "        n: non-negative integer\n",
      "    Returns:\n",
      "        the factorial of n\n",
      "\n"
     ]
    }
   ],
   "source": [
    "# Định nghĩa hàm\n",
    "def fact(n):\n",
    "    '''Calculates n! (factorial function)\n",
    "    \n",
    "    Inputs:\n",
    "        n: non-negative integer\n",
    "    Returns:\n",
    "        the factorial of n\n",
    "    '''\n",
    "    \n",
    "    if n < 0:\n",
    "        '''Note that this is not part of the docstring!'''\n",
    "        return 1\n",
    "    else:\n",
    "        return n * fact(n-1)\n",
    "\n",
    "# Kết quả\n",
    "help(fact)"
   ]
  },
  {
   "cell_type": "markdown",
   "metadata": {},
   "source": [
    "Annotations là tính năng mới của Python, đưa ra các gợi ý về kiểu dữ liệu của các biến hoặc tham số của hàm, và kiểu dữ liệu trả về của một hàm. Cú pháp:\n",
    "\n",
    "```python\n",
    "# arg_type có thể là bất cứ thứ gì\n",
    "# Nhưng thường là các kiểu dữ liệu như int, float, str, bool...\n",
    "def func(arg: arg_type, optarg: arg_type = default) -> return_type:\n",
    "    ...\n",
    "\n",
    "# Ví dụ:\n",
    "def my_func(num1: int, num2: int=10) -> int :\n",
    "    return num1 + num2\n",
    "```"
   ]
  },
  {
   "cell_type": "markdown",
   "metadata": {},
   "source": [
    "### 2.2. Hàm ẩn danh (lambda)\n",
    "\n",
    "Hàm ẩn danh là một hàm giống hàm Python bình thường, nhưng khác biệt là chúng ta có thể định nghĩa mà không cần tên hàm và chỉ được định nghĩa trên một dòng. \n",
    "\n",
    "Cú pháp:\n",
    "\n",
    "```python\n",
    "# arguments: đối số\n",
    "# expression: kết quả trả về\n",
    "lambda arguments: expression\n",
    "```\n",
    "\n",
    "Ví dụ:\n",
    "\n",
    "```python\n",
    "# Hàm square\n",
    "squares = lambda x: x*x\n",
    "\n",
    "# Gọi hàm\n",
    "print('Using lambda: ', squares(5))\n",
    "```\n",
    "\n",
    "{{< admonition type=notes title=\"Lưu ý\" open=true >}}\n",
    "Một số lưu ý khi định nghĩa hàm ẩn danh:\n",
    "\n",
    "- Hàm ẩn danh không thể chứa các câu lệnh như `return, raise, pass...`\n",
    "- Hàm ẩn danh chỉ chứa một biểu thức duy nhất.\n",
    "- Hàm ẩn danh có thể được gọi trực tiếp mà không cần tên biến như ví dụ trên.\n",
    "\n",
    "{{< /admonition >}}\n",
    "\n",
    "Một số ví dụ khác với hàm ẩn danh:\n",
    "\n",
    "```python\n",
    "# Positional arguments\n",
    "add = lambda x, y, z: x + y + z\n",
    "print(add(2, 3, 4))\n",
    "# Prints 9\n",
    "\n",
    "# Keyword arguments\n",
    "add = lambda x, y, z: x + y + z\n",
    "print(add(2, z = 3, y = 4))\n",
    "# Prints 9\n",
    "\n",
    "# Default arguments\n",
    "add = lambda x, y = 3, z = 4: x + y + z\n",
    "print(add(2))\n",
    "# Prints 9\n",
    "\n",
    "# *args\n",
    "add = lambda *args: sum(args)\n",
    "print(add(2, 3, 4))\n",
    "# Prints 9\n",
    "\n",
    "# **args\n",
    "add = lambda **kwargs: sum(kwargs.values())\n",
    "print(add(x = 2, y = 3, z = 4))\n",
    "# Prints 9\n",
    "```\n"
   ]
  },
  {
   "cell_type": "markdown",
   "metadata": {},
   "source": [
    "## 3. Higher-order functions"
   ]
  },
  {
   "cell_type": "markdown",
   "metadata": {},
   "source": [
    "\n",
    "## 4. Scopes\n",
    "\n",
    "## 5. Closures\n",
    "\n",
    "## 6. Decorators\n",
    "\n",
    "## 7. Module and packages\n",
    "\n",
    "## 8. Namespaces"
   ]
  }
 ],
 "metadata": {
  "interpreter": {
   "hash": "4c11687d8836ffc239021e36f392b58b3bc872cc9f646c7bfb1c600138d566eb"
  },
  "kernelspec": {
   "display_name": "Python 3.10.0 64-bit ('learnds': conda)",
   "language": "python",
   "name": "python3"
  },
  "language_info": {
   "codemirror_mode": {
    "name": "ipython",
    "version": 3
   },
   "file_extension": ".py",
   "mimetype": "text/x-python",
   "name": "python",
   "nbconvert_exporter": "python",
   "pygments_lexer": "ipython3",
   "version": "3.10.0"
  },
  "orig_nbformat": 4
 },
 "nbformat": 4,
 "nbformat_minor": 2
}
