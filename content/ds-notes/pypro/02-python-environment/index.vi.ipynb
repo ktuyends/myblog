{
 "cells": [
  {
   "cell_type": "raw",
   "metadata": {},
   "source": [
    "---\n",
    "title: \"Pypro - Python environment\"\n",
    "subtitle: \"\"\n",
    "slug: python-environment\n",
    "date: 2021-12-22\n",
    "lastmod: 2021-12-22\n",
    "draft: false\n",
    "authors: [\"Tuyen Kieu\"]\n",
    "description: \"\"\n",
    "images: []\n",
    "tags: [\"Programming\"]\n",
    "categories: []\n",
    "series: [Python Programming]\n",
    "series_weight: 2\n",
    "toc:\n",
    "  enable: true\n",
    "license: ''  \n",
    "hiddenFromHomePage: false\n",
    "lightgallery: true\n",
    "---\n",
    "\n",
    "<!--more-->"
   ]
  }
 ],
 "metadata": {
  "language_info": {
   "name": "python"
  },
  "orig_nbformat": 4
 },
 "nbformat": 4,
 "nbformat_minor": 2
}
