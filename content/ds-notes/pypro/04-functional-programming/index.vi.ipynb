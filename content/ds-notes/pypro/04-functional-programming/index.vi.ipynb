{
 "cells": [
  {
   "cell_type": "raw",
   "metadata": {},
   "source": [
    "---\n",
    "title: \"Pypro - Lập trình hàm\"\n",
    "subtitle: \"\"\n",
    "slug: functional-programming\n",
    "date: 2021-12-24\n",
    "lastmod: 2021-12-24\n",
    "draft: false\n",
    "authors: [\"Tuyen Kieu\"]\n",
    "description: \"\"\n",
    "images: []\n",
    "tags: [\"Programming\"]\n",
    "categories: []\n",
    "series: [Python Programming]\n",
    "series_weight: 4\n",
    "toc:\n",
    "  enable: true\n",
    "license: ''  \n",
    "hiddenFromHomePage: false\n",
    "lightgallery: true\n",
    "---\n",
    "\n",
    "<!--more-->"
   ]
  },
  {
   "cell_type": "markdown",
   "metadata": {},
   "source": [
    "## 1. Functions\n",
    "\n",
    "### 1.1. Định nghĩa hàm\n",
    "\n",
    "Cú pháp:\n",
    "\n",
    "```python\n",
    "# Định nghĩa\n",
    "def function_name(<parameters>):\n",
    "    # statement(s)\n",
    "\n",
    "# Gọi hàm\n",
    "function_name(<arguments>)\n",
    "```\n",
    "\n",
    "### 1.2. Truyền đối số (arguments) \n",
    "\n",
    "Trường hợp 1: Truyền đối số dựa vào vị trí tương đối của tham số\n",
    "\n",
    "```python\n",
    "# Định nghĩa hàm\n",
    "def f(qty, item, price):\n",
    "    def f(qty, item, price):\n",
    "\n",
    "# Truyền đối số\n",
    "f(6, 'bananas', 1.74)\n",
    "```\n",
    "\n",
    "Trường hợp 2: Truyền đối số dựa vào tên tham số\n",
    "\n",
    "```python\n",
    "# Định nghĩa hàm\n",
    "def f(qty, item, price):\n",
    "    def f(qty, item, price):\n",
    "\n",
    "# Truyền đối số\n",
    "f(qty=6, item='bananas', price=1.74)\n",
    "\n",
    "# Kết hợp, các tham số ở phía sau cùng\n",
    "f(6, price=1.74, item='bananas')\n",
    "\n",
    "# Hoặc\n",
    "f(6, 'bananas', price=1.74)\n",
    "```\n",
    "\n",
    "Trường hợp 3: Giá trị mặc định của tham số\n",
    "\n",
    "```python\n",
    "# Định nghĩa\n",
    "def f(qty=6, item='bananas', price=1.74):\n",
    "    print(f'{qty} {item} cost ${price:.2f}')\n",
    "\n",
    "# Khi gọi hàm, nếu k truyền đối số sẽ sử dụng giá trị mặc định\n",
    "f(4, 'apples')\n",
    "```\n",
    "\n",
    "Trường hợp 4: Giá trị mặc định của tham số có dạng Mutable\n",
    "\n",
    "Trong Python, giá trị mặc định của tham số chỉ được xác định lần đầu khi chúng ta gọi hàm. Nếu chúng ta gọi lại hàm mà không gán lại giá trị, nó sẽ sử dụng giá trị trước đó. Ví dụ: \n"
   ]
  },
  {
   "cell_type": "code",
   "execution_count": 1,
   "metadata": {},
   "outputs": [
    {
     "name": "stdout",
     "output_type": "stream",
     "text": [
      "2395892703424\n"
     ]
    },
    {
     "data": {
      "text/plain": [
       "['###']"
      ]
     },
     "execution_count": 1,
     "metadata": {},
     "output_type": "execute_result"
    }
   ],
   "source": [
    "# Định nghĩa hàm\n",
    "def f(my_list=[]):\n",
    "    print(id(my_list))\n",
    "    my_list.append('###')\n",
    "    return my_list\n",
    "\n",
    "# Gọi hàm\n",
    "f()"
   ]
  },
  {
   "cell_type": "code",
   "execution_count": 2,
   "metadata": {},
   "outputs": [
    {
     "name": "stdout",
     "output_type": "stream",
     "text": [
      "2395892703424\n"
     ]
    },
    {
     "data": {
      "text/plain": [
       "['###', '###']"
      ]
     },
     "execution_count": 2,
     "metadata": {},
     "output_type": "execute_result"
    }
   ],
   "source": [
    "# Gọi hàm lần 2\n",
    "f()"
   ]
  },
  {
   "cell_type": "markdown",
   "metadata": {},
   "source": [
    "Trường hợp 5: Truyền đối số là đối tượng mutable (list, dict, set)\n",
    "\n",
    "Trong trường hợp này, hàm có thể thay đổi các phần tử của đối tượng. Ví dụ\n",
    "\n"
   ]
  },
  {
   "cell_type": "code",
   "execution_count": 3,
   "metadata": {},
   "outputs": [
    {
     "data": {
      "text/plain": [
       "['Monday', 'bar', 'baz', 'qux']"
      ]
     },
     "execution_count": 3,
     "metadata": {},
     "output_type": "execute_result"
    }
   ],
   "source": [
    "# Định nghĩa hàm\n",
    "def f(x):\n",
    "    x[0] = \"Monday\"\n",
    "\n",
    "# Tạo list\n",
    "my_list = ['foo', 'bar', 'baz', 'qux']\n",
    "\n",
    "# Gọi hàm\n",
    "f(my_list)\n",
    "\n",
    "# Xem kết quả\n",
    "my_list"
   ]
  },
  {
   "cell_type": "markdown",
   "metadata": {},
   "source": [
    "### 1.3. Trả về kết quả với return\n",
    "\n",
    "Lệnh return sẽ trả lại kết quả và sau đó kết thúc hàm. Chúng ta có thể sử dụng `return` để trả về một hoặc nhiều giá trị. Với nhiều giá trị ta sử dụng list, tuple,...Khi không trả về giá trị nào, hàm sẽ trả về `None`.\n",
    "\n",
    "```python\n",
    "def func_name(parameters):\n",
    "    # Do something\n",
    "    return value1, value2\n",
    "```\n",
    "\n",
    "### 1.4. Tham số `*args` và `**kwargs`\n",
    "\n",
    "Chúng ta sử dụng `*args` trong trường hợp không xác định được số lượng đối số truyền vào trong hàm, ví dụ như các hàm tính `sum()`.\n",
    "\n",
    "`*args` là một Tuple. Nếu các bạn muốn truyền một tuple vào hàm, ta cần thêm `*` vào trước tuple đó.\n",
    "\n",
    "Ví dụ:\n",
    "\n",
    "```python\n",
    "# packing\n",
    "def avg(*args):\n",
    "    return sum(args) / len(args)\n",
    "\n",
    "avg(1, 2, 3)\n",
    "```\n",
    "\n",
    "```python\n",
    "# unpacking\n",
    "def f(x, y, z):\n",
    "    print(f'x = {x}')\n",
    "    print(f'y = {y}')\n",
    "    print(f'z = {z}')\n",
    "\n",
    "t = ('foo', 'bar', 'baz')\n",
    "f(*t)\n",
    "```\n",
    "\n",
    "Tương tự như `*args` sử dụng cho tuple thì `**kwargs` được sử dụng cho dictionary. Minh họa:\n",
    "\n",
    "{{< figure src=\"arg1.png\" >}}\n",
    "\n",
    "{{< figure src=\"arg2.png\" >}}\n",
    "\n",
    "{{< figure src=\"arg3.png\" >}}\n",
    "\n",
    "### 1.5. Vị trí các tham số khi định nghĩa hàm\n",
    "\n",
    "**Đối số theo vị trí và theo keyword**\n",
    "\n",
    "{{< figure src=\"arg4.png\" >}}\n",
    "\n",
    "**Vị trí:**\n",
    "\n",
    "{{< figure src=\"arg5.png\" >}}\n",
    "\n",
    "### 1.6. Docstrings\n",
    "\n",
    "Mô tả về hàm:\n",
    "\n",
    "```python\n",
    "def func_name(parameters):\n",
    "    \"\"\"Descriptions\n",
    "\n",
    "    Args:\n",
    "\n",
    "    Return:\n",
    "\n",
    "    \"\"\"\n",
    "    # Body\n",
    "\n",
    "# Xem thông tin\n",
    "print(func_name.__doc__)\n",
    "help(func_name)\n",
    "```\n"
   ]
  },
  {
   "cell_type": "markdown",
   "metadata": {},
   "source": [
    "## 2. Lập trình hàm\n",
    "\n",
    "\n",
    "### 2.1. Hàm ẩn danh lambda\n",
    "\n",
    "Cú pháp:\n",
    "\n",
    "```python\n",
    "# hàm ẩn danh\n",
    "var_name = lambda parameters: expression\n",
    "\n",
    "# Gọi hàm nếu nó được gán\n",
    "var_name(parameters)\n",
    "\n",
    "# Gọi hàm nếu k được gán\n",
    "(lambda parameters: expression)(parameters)\n",
    "```\n",
    "\n",
    "### 2.2. Map, Filter và Reduce\n",
    "\n",
    "**Hàm *map()***\n",
    "\n",
    "```python\n",
    "# iter1, iter2 là các đối số của function\n",
    "# function sẽ lặp qua từng giá trị \n",
    "map(function, iterable1, iterable2 ,...)\n",
    "```\n",
    "\n",
    "**Hàm *filter()***\n",
    "\n",
    "Hàm này, ý nghĩa như cái tên. Nó hoạt động tương tự như hàm `map()` nhưng nó chỉ trả về các giá trị mà function trả về TRUE.\n",
    "\n",
    "**Hàm *reduce()***\n",
    "\n",
    "Hàm này, hoạt động tương tự các hàm trên, điểm khác là nó mang tính tích lũy.\n",
    "\n",
    "```python\n",
    "from functools import reduce\n",
    "reduce(function, iterable)\n",
    "```"
   ]
  }
 ],
 "metadata": {
  "interpreter": {
   "hash": "4c11687d8836ffc239021e36f392b58b3bc872cc9f646c7bfb1c600138d566eb"
  },
  "kernelspec": {
   "display_name": "Python 3 (ipykernel)",
   "language": "python",
   "name": "python3"
  },
  "language_info": {
   "codemirror_mode": {
    "name": "ipython",
    "version": 3
   },
   "file_extension": ".py",
   "mimetype": "text/x-python",
   "name": "python",
   "nbconvert_exporter": "python",
   "pygments_lexer": "ipython3",
   "version": "3.10.0"
  }
 },
 "nbformat": 4,
 "nbformat_minor": 2
}
