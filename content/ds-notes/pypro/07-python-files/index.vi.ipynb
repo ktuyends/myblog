{
 "cells": [
  {
   "cell_type": "raw",
   "metadata": {},
   "source": [
    "---\n",
    "title: \"Pypro - Python Files\"\n",
    "subtitle: \"\"\n",
    "slug: python-files\n",
    "date: 2022-03-05\n",
    "lastmod: 2022-03-05\n",
    "draft: false\n",
    "authors: [\"Tuyen Kieu\"]\n",
    "description: \"\"\n",
    "images: []\n",
    "tags: [\"Programming\"]\n",
    "categories: []\n",
    "series: [Python Programming]\n",
    "series_weight: 7\n",
    "toc:\n",
    "  enable: true\n",
    "license: ''  \n",
    "hiddenFromHomePage: false\n",
    "lightgallery: true\n",
    "---\n",
    "\n",
    "<!--more-->"
   ]
  },
  {
   "cell_type": "markdown",
   "metadata": {},
   "source": [
    "## 1. Mở và đóng file\n",
    "\n",
    "### 1.1. Mở file\n",
    "\n",
    "Trước khi muốn làm việc với một file, ta cần phải mở file đó. Trong Python, hỗ trợ hàm `open()` để mở file và sẽ trả về một đối tượng file. Loại của đối tượng sẽ phụ thuộc vào chế độ `mode` khi file được mở, và với mỗi đối tượng file sẽ có hai phương thức là `read()` và `write()`. Cú pháp:\n",
    "\n",
    "```python\n",
    "file = open(\"test_file.txt\",\"w+\")\n",
    "file.read()\n",
    "file.write(\"a new line\")\n",
    "```\n",
    "\n",
    "Các chế độ mode cơ bản khi mở file:\n",
    "\n",
    "|Mode| Ý nghĩa |\n",
    "|-|-|\n",
    "| r | Mở file với chế độ đọc|\n",
    "| r+ | Mở file với chế độ đọc và viết, con trỏ ở đầu file |\n",
    "| w | Mở file với chế độ viết, nếu file tồn tại sẽ bị ghi đè |\n",
    "| w+ | Mở file với chế độ đọc và viết, nếu file tồn tại sẽ bị ghi đè |\n",
    "| a | Mở file ở chế độ viết, con trỏ ở cuối file, thêm nội dung vào cuối file nếu nó tồn tại |\n",
    "\n",
    "### 1.2. Đóng file\n",
    "\n",
    "Sau khi đã hoàn thành công việc với các file, chúng ta nên đóng nó lại với hàm `close()`. Nếu không, có thể có một số hành vi mà chúng ta không thể dự đoán trước được sẽ xảy ra.\n",
    "\n",
    "Cách 1: Sử dụng trực tiếp hàm `close()`\n",
    "\n",
    "```python\n",
    "try:\n",
    "    file = open(\"test_file.txt\",\"w+\")\n",
    "    file.write(\"a new line\")\n",
    "except Exception as e:\n",
    "    logging.exception(e)\n",
    "finally:\n",
    "    file.close()\n",
    "```\n",
    "\n",
    "Cách 2: Sử dụng context manager với with:\n",
    "\n",
    "```python\n",
    "with open(\"test_file.txt\", \"w+\") as file:\n",
    "    file.write(\"a new line)\n",
    "```\n",
    "\n",
    "Câu lệnh này sẽ tự động đóng file khi chúng ta hoàn tất công việc."
   ]
  },
  {
   "cell_type": "markdown",
   "metadata": {},
   "source": [
    "## 2. Đọc và viết file\n",
    "\n",
    "### 2.1. Đọc file\n",
    "\n",
    "Sau khi mở file, bước tiếp theo bạn có thể muốn đọc hoặc là viết nội dung vào file. Để đọc một file, Python cung cấp cho chúng ta ba lựa chọn: \n",
    "\n",
    "- _read()_: Trả về toàn bộ nội dung của file.\n",
    "- _readline()_: Trả về một dòng bao gồm ký tự `\\n` ở cuối dòng. Nó sẽ đọc từng dòng một.\n",
    "- _readlines()_: Trả về tất cả các dòng trong file ở dạng list.\n",
    "\n",
    "### 2.2. Viết file\n",
    "\n",
    "Khác với đọc file, viết file chỉ có hai lựa chọn:\n",
    "\n",
    "- _write(str)_: Viết một chuỗi vào file.\n",
    "- *writelines(list_line)*: Viết một list các dòng vào file, người viết chương trình phải có nhiệm vụ thêm `\\n` vào cuối dòng.\n"
   ]
  },
  {
   "cell_type": "markdown",
   "metadata": {},
   "source": [
    "## 3. File và file path\n",
    "\n",
    "### 3.1. Pathlib\n",
    "\n",
    "Một file, về cơ bản sẽ có hai thuộc tính: Tên file và file path (đường dẫn đến file). Tên file lại bao gồm hai thành phần là phần tên và phần mở rộng. Để làm việc với các file, ta sẽ sử dụng module _pathlib_.\n"
   ]
  },
  {
   "cell_type": "code",
   "execution_count": 1,
   "metadata": {},
   "outputs": [
    {
     "data": {
      "text/plain": [
       "WindowsPath('Andy/Learnds/Python')"
      ]
     },
     "execution_count": 1,
     "metadata": {},
     "output_type": "execute_result"
    }
   ],
   "source": [
    "# Load module\n",
    "from pathlib import Path\n",
    "\n",
    "# Tạo file path\n",
    "Path(\"Andy\", \"Learnds\", \"Python\")"
   ]
  },
  {
   "cell_type": "code",
   "execution_count": 2,
   "metadata": {},
   "outputs": [
    {
     "name": "stdout",
     "output_type": "stream",
     "text": [
      "C:\\Users\\LearnDS\\accounts.txt\n",
      "C:\\Users\\LearnDS\\details.csv\n",
      "C:\\Users\\LearnDS\\invite.docx\n"
     ]
    }
   ],
   "source": [
    "# Giả sử ta có nhiều file trong một folder nào đó\n",
    "my_files = ['accounts.txt', 'details.csv', 'invite.docx']\n",
    "for filename in my_files:\n",
    "    print(Path(r'C:\\Users\\LearnDS', filename))"
   ]
  },
  {
   "cell_type": "code",
   "execution_count": 4,
   "metadata": {},
   "outputs": [
    {
     "data": {
      "text/plain": [
       "WindowsPath('C:/User/Andy/LearnDS')"
      ]
     },
     "execution_count": 4,
     "metadata": {},
     "output_type": "execute_result"
    }
   ],
   "source": [
    "# Toán tử '/' dùng để nối Path\n",
    "Path('C:/') / 'User' / 'Andy' / 'LearnDS' "
   ]
  },
  {
   "cell_type": "code",
   "execution_count": 5,
   "metadata": {},
   "outputs": [
    {
     "name": "stdout",
     "output_type": "stream",
     "text": [
      "Home directory: C:\\Users\\ktuyends\n",
      "Working directory: d:\\Andy\\myblog\\content\\ds-notes\\pypro\\07-python-files\n"
     ]
    }
   ],
   "source": [
    "## Home and working directory\n",
    "print(f'Home directory: {Path.home()}')\n",
    "print(f'Working directory: {Path.cwd()}')"
   ]
  },
  {
   "cell_type": "markdown",
   "metadata": {},
   "source": [
    "### 3.2. Relative và absolute\n",
    "\n",
    "Có hai cách để biểu diễn đường dẫn đến file trong Python:\n",
    "\n",
    "- Đường dẫn tuyệt đối: luôn bắt đầu bằng thư mục root.\n",
    "- Đường dẫn tương đối: bắt đầu bằng working directory.\n",
    "\n",
    "{{< figure src=\"./file-path.jpg\" >}}\n",
    "\n",
    "**Tạo directory**\n",
    "\n",
    "```python\n",
    "# Cú pháp cơ bản:\n",
    "path = Path(\"parentdirectory/mydirectory\")\n",
    "path.mkdir(parents = True, exist_ok = True)\n",
    "\n",
    "# Trong trường hợp filepath chứa tên file \n",
    "# Sử dụng parent nếu không nó sẽ lấy tên file làm tên directory\n",
    "path.parent.mkdir(parents = True, exist_ok = True)\n",
    "```\n",
    "\n",
    "**Một số hàm kiểm tra**\n",
    "\n",
    "```python\n",
    "path.exists() # True nếu path tồn tại\n",
    "path.is_file() # True nếu path tham chiếu đến file\n",
    "path.is_dir() # True nếu path tham chiếu đến thư mục\n",
    "path.is_absolute() # True nếu path là tuyệt đối\n",
    "```"
   ]
  },
  {
   "cell_type": "markdown",
   "metadata": {},
   "source": [
    "### 3.3. Các phần của filepath\n",
    "\n",
    "{{< figure src=\"./file-path2.jpg\" >}}\n",
    "\n",
    "Một số phương thức trích xuất các phần của file:\n",
    "\n",
    "```python\n",
    "# filepath\n",
    "p = Path('C:/Users/Al/spam.txt')\n",
    "\n",
    "# Parts of filepath\n",
    "p.anchor # Root folder\n",
    "p.parent # parent directory\n",
    "p.name   # spam.txt\n",
    "p.stem   # spam\n",
    "p.suffix # .txt\n",
    "```"
   ]
  },
  {
   "cell_type": "markdown",
   "metadata": {},
   "source": [
    "### 3.4. Tìm kiếm files\n",
    "\n",
    "Glob được sử dụng để tìm kiếm và làm việc với nhiều file, directory.\n",
    "\n",
    "```python\n",
    "# filepath\n",
    "p = Path('C:/Users/Al/Desktop')\n",
    "\n",
    "# Danh sách tất cả các file\n",
    "# * đại diện cho một hoặc nhiều ký tự \n",
    "# ? đại diện cho một ký tự đơn\n",
    "p.glob('*') # Generator\n",
    "list(p.glob('*'))\n",
    "\n",
    "# Danh sách các file txt\n",
    "list(p.glob('*.txt'))\n",
    "\n",
    "# Tìm kiếm các file bao gồm các file trong thư mục con\n",
    "# ** mang ý nghĩa tìm kiếm đệ quy\n",
    "p.glob('**/*.txt')\n",
    "\n",
    "# Tìm kiếm các thư mục đệ quy\n",
    "p.glob('**/*')\n",
    "```\n",
    "\n"
   ]
  },
  {
   "cell_type": "markdown",
   "metadata": {},
   "source": [
    "### 3.5. Đọc và viết file\n",
    "\n",
    "```python\n",
    "# Viết file, ghi đè lên tệp hiện tại\n",
    "p = Path('spam.txt')\n",
    "p.write_text('Hello, world!')\n",
    "\n",
    "# Đọc file\n",
    "p.read_text()\n",
    "\n",
    "# Viết file, thêm dữ liệu vào file\n",
    "with p.open(\"a\") as f:\n",
    "    f.write(\"Do something!\")\n",
    "```"
   ]
  },
  {
   "cell_type": "markdown",
   "metadata": {},
   "source": [
    "## 4. Shutil module\n",
    "\n",
    "Module shutil là module chứa nhiều hàm thực hiện các thao tác như copy, move, rename,...Thường được kết hợp với pathlib khi xử lý các files.\n",
    "\n",
    "### 4.1. Copy files và folders\n",
    "\n",
    "```python\n",
    "# Cú pháp cơ bản\n",
    "# source: filepath của file hiện tại\n",
    "# destination: filepath của nơi bạn muốn copy, \n",
    "# shutil.copy chỉ copy một single file\n",
    "\n",
    "shutil.copy(source, destination)\n",
    "\n",
    "# Ví dụ\n",
    "import shutil\n",
    "from pathlib import Path\n",
    "p = Path.home()\n",
    "shutil.copy(p / 'spam.txt', p / 'some_folder')\n",
    "\n",
    "# Nếu destination là file name nó sẽ là tên mới của file được copy\n",
    "shutil.copy(p / 'eggs.txt', p / 'some_folder/eggs2.txt')\n",
    "\n",
    "# Copy toàn bộ file và thư mục con trong một thư mục\n",
    "# shutil.copytree(source, destination)\n",
    "shutil.copytree(p / 'spam', p / 'spam_backup')\n",
    "```\n"
   ]
  },
  {
   "cell_type": "markdown",
   "metadata": {},
   "source": [
    "### 4.2. Move và rename\n",
    "\n",
    "Cú pháp:\n",
    "\n",
    "```python\n",
    "# shutil.move(source, destination)\n",
    "# Di chuyển các files hoặc folder ở source vào destination\n",
    "# Nếu destination là folder, sẽ di chuyển vào bên trong folder\n",
    "# Nếu tồn tại file trong thư mục destination, move sẽ ghi đè\n",
    "shutil.move('C:\\\\bacon.txt', 'C:\\\\eggs') # C:\\\\eggs\\\\bacon.txt\n",
    "\n",
    "# Nếu destination là tên file, nó sẽ là tên mới của file move\n",
    "shutil.move('C:\\\\bacon.txt', 'C:\\\\eggs\\\\new_bacon.txt') # C:\\\\eggs\\\\new_bacon.txt\n",
    "\n",
    "# Nếu không tìm thấy tên folder trong destination nó sẽ tưởng đầy là tên file và đổi tên\n",
    "```"
   ]
  },
  {
   "cell_type": "markdown",
   "metadata": {},
   "source": [
    "### 4.3. Delete file\n",
    "\n",
    "Cú pháp:\n",
    "\n",
    "```python\n",
    "# Xóa file\n",
    "from pathlib import Path\n",
    "file_path = Path('/tmp/file.txt')\n",
    "file_path.unlink() \n",
    "\n",
    "# Xóa thư mục rỗng\n",
    "dir_path = Path('/tmp/img')\n",
    "dir_path.rmdir()\n",
    "\n",
    "# Xóa thư mục có chứa các file\n",
    "dir_path = Path('/tmp/img')\n",
    "shutil.rmtree(dir_path)\n",
    "```"
   ]
  }
 ],
 "metadata": {
  "interpreter": {
   "hash": "4c11687d8836ffc239021e36f392b58b3bc872cc9f646c7bfb1c600138d566eb"
  },
  "kernelspec": {
   "display_name": "Python 3.10.0 64-bit ('learnds': conda)",
   "language": "python",
   "name": "python3"
  },
  "language_info": {
   "codemirror_mode": {
    "name": "ipython",
    "version": 3
   },
   "file_extension": ".py",
   "mimetype": "text/x-python",
   "name": "python",
   "nbconvert_exporter": "python",
   "pygments_lexer": "ipython3",
   "version": "3.10.0"
  },
  "orig_nbformat": 4
 },
 "nbformat": 4,
 "nbformat_minor": 2
}
