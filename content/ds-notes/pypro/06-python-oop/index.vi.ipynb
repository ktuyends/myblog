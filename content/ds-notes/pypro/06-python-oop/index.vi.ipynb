{
 "cells": [
  {
   "cell_type": "raw",
   "metadata": {},
   "source": [
    "---\n",
    "title: \"Pypro - Lập trình hướng đối tượng\"\n",
    "subtitle: \"\"\n",
    "slug: python-oop\n",
    "date: 2022-03-04\n",
    "lastmod: 2022-03-04\n",
    "draft: false\n",
    "authors: [\"Tuyen Kieu\"]\n",
    "description: \"\"\n",
    "images: []\n",
    "tags: [\"Programming\"]\n",
    "categories: []\n",
    "series: [Python Programming]\n",
    "series_weight: 6\n",
    "toc:\n",
    "  enable: true\n",
    "license: ''  \n",
    "hiddenFromHomePage: false\n",
    "lightgallery: true\n",
    "---\n",
    "\n",
    "<!--more-->"
   ]
  },
  {
   "cell_type": "markdown",
   "metadata": {},
   "source": [
    "## 1. OOP là gì?\n",
    "\n",
    "Lập trình hướng đối tượng, hiểu một cách nôm na là cách chúng ta tạo ra các đối tượng trong môi trường code trừu tượng hóa các đối tượng thực tế trong cuộc sống.\n",
    "\n",
    "Các đối tượng _(Objects)_ có thể là con người, điện thoại, xe bus,...và điểm chung là chúng đều gồm có hai thành phần chính:\n",
    "\n",
    "- Thuộc tính _(Attribute)_: Gồm những thông tin, đặc điểm của đối tượng.\n",
    "- Phương thức _(Method)_: Gồm những hành được mà đối tượng có thể thực hiện được.\n",
    "\n",
    "Ví dụ đối tượng Laptop có:\n",
    "\n",
    "- Thuộc tính: màu sắc, kích thước, bộ nhớ, card màn hình,...\n",
    "- Phương thức: tắt máy, bật máy, khởi động lại,...\n",
    "\n",
    "Khi nhiều đối tượng có những đặc điểm như nhau, sẽ được gom lại thành một lớp các đối tượng _(Class)_. Và mỗi đối tượng trong lớp các đối tượng được gọi là _Instance_ (thực thể, một phiên bản cụ thể của class).\n",
    "\n",
    "Ví dụ: lớp các đối tượng Laptop, sẽ có instance là laptop Asus, laptop Dell, laptop Thinkpad,..."
   ]
  },
  {
   "cell_type": "markdown",
   "metadata": {},
   "source": [
    "## 2. Class\n",
    "\n",
    "### 2.1. Tạo class đơn giản\n",
    "\n",
    "Ví dụ tạo class Point:\n",
    "\n",
    "```python\n",
    "# Tạo class\n",
    "class Point:\n",
    "    # Bank class\n",
    "    pass\n",
    "```\n",
    "\n",
    "Tiếp theo ta sẽ tạo một instance của class, tương tự như khi chúng ta gọi hàm:\n",
    "\n",
    "```python\n",
    "# Tạo instance của class Point\n",
    "point_1 = Point()\n",
    "```\n",
    "\n",
    "### 2.2. Phương thức\n",
    "\n",
    "Các bước tạo method tương tự như khi chúng ta tạo functions chỉ khác nhau là tham số đầu tiên của method luôn luôn là `self`, hiểu nôm na thì `self` là một đối tượng của class.\n",
    "\n",
    "```python\n",
    "\n",
    "class Point:\n",
    "    \"\"\"\n",
    "    An abstract class to represnt a point on 2D Cartesian Plane\n",
    "    \"\"\"\n",
    "    \n",
    "    def give_info(self, x, y):\n",
    "        \"\"\"A function that gives info about this class\"\"\"\n",
    "        print(f'This point is situated at ({x}, {y}) on 2D plane.')\n",
    "```\n",
    "\n",
    "Để sử dụng method, ta dùng cú pháp: `object.method()`\n",
    "\n",
    "```python\n",
    "# Tạo instance\n",
    "obj1 = Point()\n",
    "\n",
    "# Gọi phương thức\n",
    "# This point is situated at (5, 10) on 2D plane.\n",
    "obj1.give_info(5, 10)\n",
    "```\n",
    "\n",
    "Một ví dụ nữa, chúng ta sẽ tạo một phương thức đặt tọa độ cho đối tượng trong class Point và tính khoảng cách từ đối tượng đến gốc tọa độ:\n",
    "\n",
    "```python\n",
    "# Tạo class\n",
    "class Point:\n",
    "    \n",
    "    def set_coords(self, x, y):\n",
    "        \"\"\"A function to set the coordinates of the point\"\"\"\n",
    "        self.x = x\n",
    "        self.y = y\n",
    "\n",
    "    def distance_to_origin(self):\n",
    "        \"\"\"\n",
    "        A method to calculate the distance between the point and the origin\n",
    "        \"\"\"\n",
    "        return np.sqrt(self.x ** 2 + self.y ** 2)\n",
    "\n",
    "# Kết quả\n",
    "point_1 = Point()\n",
    "point_1.set_coords(3, 4)\n",
    "point_1.x # 3\n",
    "point_1.y # 4\n",
    "point_1.distance_to_origin() # 5\n",
    "```\n",
    "\n",
    "### 2.3. Thuộc tính\n",
    "\n",
    "Cho tới nay, chúng ta đã biết cách gán thuộc tính cho một đối tượng sử dụng methods. Bây giờ ta giả sử một đối tượng có rất nhiều thuộc tính, và với mỗi thuộc tính ta lại tạo một method, như vậy code của chúng ta sẽ trở lên cồng kềnh và không cần thiết. Python có sẵn một phương thức khởi tạo `__init__()` cho phép ta tạo các thuộc tính khi xây dựng class.\n",
    "\n",
    "```python\n",
    "# Tạo class với thuộc tính\n",
    "class Point:\n",
    "\n",
    "    def __init__(self, x, y):\n",
    "        self.x = x\n",
    "        self.y = y\n",
    "\n",
    "# Tạo instance\n",
    "point = Point(4, 5)\n",
    "point.x # 4\n",
    "point.y # 5\n",
    "```"
   ]
  },
  {
   "cell_type": "markdown",
   "metadata": {},
   "source": [
    "## 3. Class và instance\n",
    "\n",
    "### 3.1. Biến instance và class\n",
    "\n",
    "Biến instance là biến chứa những thuộc tính đặc trưng cho một đối tượng và mỗi đối tượng có thể có giá trị khác nhau. Về cơ bản là khi chúng ta định nghĩa một thuộc tính bên trong `__init__()`, các biến được định nghĩa với từ khóa `self.var` được gọi là biến instance. \n",
    "\n",
    "Biến class _(class attribute)_ là một biến gắn liền với chính class, bên ngoài các phương thức, có thể được truy xuất từ các đối tượng và có giá trị chung cho tất cả các đối tượng. Chúng ta có thể trực tiếp truy cập vào biến class mà không cần khởi tạo đối tượng bằng cú pháp: `class_name.class_attribute`\n",
    "\n",
    "Ví dụ:\n",
    "\n",
    "```python\n",
    "# wheels và car_type là biến class\n",
    "# model, year là biến instance\n",
    "class Car:\n",
    "\n",
    "    wheels = 4\n",
    "    car_type = \"sports car\"\n",
    "\n",
    "    def __init__(self, model, year):\n",
    "        self.model = model\n",
    "        self.year = year\n",
    "\n",
    "# Tạo instance\n",
    "lambo = Car(\"Lamborghini\", 2021)\n",
    "bmw = Car(\"BMW\", 2021)\n",
    "\n",
    "# Giá trị khác nhau giữa các biến instance\n",
    "lambo.model # Lamborghini\n",
    "bmw.model # BMW\n",
    "\n",
    "# Giá trị giống nhau giữa biến class\n",
    "lambo.wheels # 4\n",
    "bmw.wheels # 4\n",
    "Car.wheels # 4\n",
    "```\n",
    "\n",
    "Một ví dụ của biến class trong Python:"
   ]
  },
  {
   "cell_type": "code",
   "execution_count": 4,
   "metadata": {},
   "outputs": [
    {
     "name": "stdout",
     "output_type": "stream",
     "text": [
      "Số Pi: 3.141592653589793\n",
      "Số e: 2.718281828459045\n"
     ]
    }
   ],
   "source": [
    "# import thư viện math\n",
    "import math\n",
    "\n",
    "# Biến pi, e,...\n",
    "print(f'Số Pi: {math.pi}')\n",
    "print(f'Số e: {math.e}')\n"
   ]
  },
  {
   "cell_type": "markdown",
   "metadata": {},
   "source": [
    "Ví dụ làm việc với biến class:\n",
    "\n",
    "```python\n",
    "class Employee:\n",
    "    \n",
    "    min_salary = 30000\n",
    "    min_age = 20\n",
    "    \n",
    "    def __init__(self, name, age, salary):\n",
    "        self.name = name\n",
    "        \n",
    "        if age <= Employee.min_age:\n",
    "            self.age = Employee.min_age\n",
    "        else:\n",
    "            self.age = age\n",
    "        \n",
    "        if salary <= Employee.min_salary:\n",
    "            self.salary = Employee.min_salary\n",
    "        else:\n",
    "            self.salary = salary\n",
    "```\n",
    "\n",
    "**Lưu ý:** Nếu chúng ta sửa giá trị của biến class ở cấp độ instance, nghĩa là sử dụng từ khóa `obj.class_attribute` thì nó chỉ thay đổi giá trị của `obj` bị sửa chứ không thay đổi giá trị của các đối tượng khác. Nếu muốn sửa giá trị của biến class cho tất cả các đối tượng ta phải sử dụng `class_name.class_attribute`. "
   ]
  },
  {
   "cell_type": "markdown",
   "metadata": {},
   "source": [
    "### 3.2. Class và static method\n",
    "\n",
    "Khi lập trình hướng đối tượng trong Python, chúng ta sẽ bắt gặp ba loại phương thức: instance, class và static method.\n",
    "\n",
    "```python\n",
    "class MyClass:\n",
    "    def method(self):\n",
    "        return 'instance method', self\n",
    "\n",
    "    @classmethod\n",
    "    def classmethod(cls):\n",
    "        return 'class method', cls\n",
    "\n",
    "    @staticmethod\n",
    "    def staticmethod():\n",
    "        return 'static method'\n",
    "```\n",
    "\n",
    "Phương thức đầu tiên là instance method, đây là phương thức chúng ta sẽ thường hay sử dụng nhất. Bạn có thể thấy phương thức này nhận vào đối số `self` làm tham số đầu tiên của phương thức. Nó trỏ đến các instance của class khi chúng được gọi. \n",
    "\n",
    "Phương thức thứ hai là class method, nó được bắt đầu bằng decorator `@classmethod` và nhận vào đối số `cls` làm tham số đầu tiên. Tham số `cls` là tham số trỏ trực tiếp đến class mà không phải là instance. Trong class method, chúng ta không được sử dụng `self`, nhưng có thể truy cập vào static method. Class method thường được sử dụng để tạo instance.\n",
    "\n",
    "Phương thức cuối cùng là static method, hiểu một cách đơn giản thì nó giống một hàm bình thường có thể nhận vào số lượng tham số tùy ý nhưng không bao gồm `cls` và `self`. Do đó, nó không thể sửa đổi trạng thái của class và đối tượng.\n",
    "\n",
    "Ví dụ:\n",
    "\n",
    "```python\n",
    "from datetime import date\n",
    "\n",
    "class Student:\n",
    "    def __init__(self, name, age):\n",
    "        self.name = name\n",
    "        self.age = age\n",
    "\n",
    "    @classmethod\n",
    "    def calculate_age(cls, name, birth_year):\n",
    "        # calculate age an set it as a age\n",
    "        # return new object\n",
    "        return cls(name, date.today().year - birth_year)\n",
    "\n",
    "    def show(self):\n",
    "        print(self.name + \"'s age is: \" + str(self.age))\n",
    "\n",
    "jessa = Student('Jessa', 20)\n",
    "jessa.show()\n",
    "\n",
    "# create new object using the factory method\n",
    "joy = Student.calculate_age(\"Joy\", 1995)\n",
    "joy.show()\n",
    "```"
   ]
  },
  {
   "cell_type": "markdown",
   "metadata": {},
   "source": [
    "## 4. Inheritance\n",
    "\n",
    "### 4.1. Kế thừa\n",
    "\n",
    "Kế thừa trong lập trình hướng đối tượng nghĩa là khi một class kế thừa một class khác, nó sẽ sao chép tất cả các phương thức và thuộc tính từ class đó. Sau đó, nó có thể sử dụng các phương thức và thuộc tính có sẵn hoặc là sửa đổi lại để phù hợp với đối tượng mới. Cú pháp:\n",
    "\n",
    "```python\n",
    "class ChildClass(ParentClass):\n",
    "    ## DO STUFF HERE\n",
    "    ...\n",
    "```\n",
    "\n",
    "Class mà class hiện tại kế thừa được gọi là class cha hoặc class cơ sở, còn class hiện tại thì gọi là class con. Ví dụ:\n",
    "\n",
    "```python\n",
    "\n",
    "class Vehicle:\n",
    "    def __init__(self, year, mpg, tank, mileage):\n",
    "        self.year = year\n",
    "        self.tank = tank\n",
    "        self.mpg = mpg\n",
    "        self.mileage = mileage\n",
    "\n",
    "    def drive(self, n_miles):\n",
    "        self.tank = self.tank - n_miles / self.mpg\n",
    "        self.mileage += n_miles\n",
    "        \n",
    "        return self.tank, self.mileage\n",
    "\n",
    "# Kế thừa\n",
    "class Car(Vehicle):\n",
    "    pass\n",
    "\n",
    "# Tạo đối tượng\n",
    "sedan = Car(2020, mpg=56, tank=10, mileage=1000)\n",
    "```\n",
    "\n",
    "Để kiểm tra xem một đối tượng, có phải là một instance của một class không ta sử dụng:\n",
    "\n",
    "```python\n",
    "isinstance(sedan, Vehicle) # True\n",
    "isinstance(sedan, Car)     # True\n",
    "\n",
    "simple_vehicle = Vehicle(2020, 60, 15, 1e7)\n",
    "isinstance(simple_vehicle, Vehicle)  # True\n",
    "isinstance(simple_vehicle, Car)      # False\n",
    "```\n",
    "\n",
    "### 4.2. Thêm thuộc tính\n",
    "\n",
    "Chúng ta có thể thêm một số thuộc tính cho class con khi kế thừa:\n",
    "\n",
    "```python\n",
    "# Cách viết dài\n",
    "class Car(Vehicle):\n",
    "    def __init__(self, year, mpg, tank, mileage, model, color):\n",
    "        self.year = year\n",
    "        self.tank = tank\n",
    "        self.mpg = mpg\n",
    "        self.mileage = mileage\n",
    "\n",
    "        # NEW ATTRIBUTES\n",
    "        self.color = color\n",
    "        self.model = model\n",
    "\n",
    "# Cách viết ngắn gọn\n",
    "class Car(Vehicle):\n",
    "    def __init__(self, year, mpg, tank, mileage, model, color):\n",
    "\n",
    "        # Iinitialize the attributes of the parent class\n",
    "        Vehicle.__init__(self, year, mpg, tank, mileage)\n",
    "\n",
    "        # NEW ATTRIBUTES\n",
    "        self.color = color\n",
    "        self.model = model\n",
    "\n",
    "# Tạo instance\n",
    "jaguar = Car(2015, 23, 10, 1000, 'Jaguar', 'black')\n",
    "print(jaguar.year)\n",
    "print(jaguar.mpg)\n",
    "print(jaguar.model)\n",
    "```\n",
    "\n",
    "### 4.3. Thêm methods\n",
    "\n",
    "```python\n",
    "class Car(Vehicle):\n",
    "    def __init__(self, year, mpg, tank, mileage, model, color):\n",
    "        super().__init__(year, mpg, tank, mileage)\n",
    "        self.color = color\n",
    "        self.model = model\n",
    "    \n",
    "    def is_old(self):\n",
    "        if self.year <= 2010:\n",
    "            return True\n",
    "        else: \n",
    "            return False\n",
    "```\n",
    "\n",
    "### 4.4. Sửa methods\n",
    "\n",
    "```python\n",
    "class Airplane(Vehicle):\n",
    "    \n",
    "    def __init__(self, mpg, tank, mileage, n_passengers):\n",
    "        self.mpg = mpg\n",
    "        self.tank = tank\n",
    "        self.mileage = mileage\n",
    "        self.n_passengers = n_passengers\n",
    "    \n",
    "    def fly(self, n_miles):\n",
    "        # Sử dụng method drive từ Vehicle\n",
    "        return Vehicle.drive(self, n_miles * self.n_passengers)\n",
    "\n",
    "\n",
    "boeing = Airplane(51, 3500, 2e7, 200)\n",
    "tank, mileage = boeing.fly(500)\n",
    "\n",
    "print(f\"Flew for 500 miles. \"\n",
    "      f\"{round(tank, 2)} gallons remaining in tank.\")\n",
    "```\n",
    "\n",
    "### 4.5. Một số lưu ý\n",
    "\n",
    "Chúng ta sử dụng `super()` để đại diện cho class cha, khi đó ta không cần kèm theo từ khóa `self`.\n",
    "\n",
    "Khi muốn ghi đè một hoặc một phần của một phương thức nào đó trong class cha, ta chỉ cần định nghĩa một phương thức mới trong class hiện tại với tên giống phương thức trong class cha."
   ]
  },
  {
   "cell_type": "markdown",
   "metadata": {},
   "source": [
    "## 5. Operator overloading \n",
    "\n",
    "### 5.1. Nạp chồng toán tử\n",
    "\n",
    "Nạp chồng toán tử là cách chúng ta ghi đè hành vi của một số toán tử trong Python.\n",
    "\n",
    "Ví dụ:"
   ]
  },
  {
   "cell_type": "code",
   "execution_count": 5,
   "metadata": {},
   "outputs": [
    {
     "data": {
      "text/plain": [
       "14"
      ]
     },
     "execution_count": 5,
     "metadata": {},
     "output_type": "execute_result"
    }
   ],
   "source": [
    "# Toán tử cộng khi áp dụng với 2 số\n",
    "10 + 4"
   ]
  },
  {
   "cell_type": "code",
   "execution_count": 6,
   "metadata": {},
   "outputs": [
    {
     "data": {
      "text/plain": [
       "['list1', 'list2']"
      ]
     },
     "execution_count": 6,
     "metadata": {},
     "output_type": "execute_result"
    }
   ],
   "source": [
    "# Toán tử + khi áp dụng với list\n",
    "[\"list1\"] + [\"list2\"]"
   ]
  },
  {
   "cell_type": "markdown",
   "metadata": {},
   "source": [
    "Như chúng ta thấy, với mỗi đối tượng, hành vi của các toán tử có đôi khi không giống nhau. Mỗi toán tử trong Python sẽ đi kèm với một hàm đặc trưng nào đó. Để xem list các hàm đặc trưng mà một đối tượng hỗ trợ ta sử dụng: `dir(obj)`. Ví dụ:"
   ]
  },
  {
   "cell_type": "code",
   "execution_count": 7,
   "metadata": {},
   "outputs": [
    {
     "data": {
      "text/plain": [
       "['__add__',\n",
       " '__class__',\n",
       " '__class_getitem__',\n",
       " '__contains__',\n",
       " '__delattr__',\n",
       " '__delitem__',\n",
       " '__dir__',\n",
       " '__doc__',\n",
       " '__eq__',\n",
       " '__format__',\n",
       " '__ge__',\n",
       " '__getattribute__',\n",
       " '__getitem__',\n",
       " '__gt__',\n",
       " '__hash__',\n",
       " '__iadd__',\n",
       " '__imul__',\n",
       " '__init__',\n",
       " '__init_subclass__',\n",
       " '__iter__',\n",
       " '__le__',\n",
       " '__len__',\n",
       " '__lt__',\n",
       " '__mul__',\n",
       " '__ne__',\n",
       " '__new__',\n",
       " '__reduce__',\n",
       " '__reduce_ex__',\n",
       " '__repr__',\n",
       " '__reversed__',\n",
       " '__rmul__',\n",
       " '__setattr__',\n",
       " '__setitem__',\n",
       " '__sizeof__',\n",
       " '__str__',\n",
       " '__subclasshook__',\n",
       " 'append',\n",
       " 'clear',\n",
       " 'copy',\n",
       " 'count',\n",
       " 'extend',\n",
       " 'index',\n",
       " 'insert',\n",
       " 'pop',\n",
       " 'remove',\n",
       " 'reverse',\n",
       " 'sort']"
      ]
     },
     "execution_count": 7,
     "metadata": {},
     "output_type": "execute_result"
    }
   ],
   "source": [
    "# Giả sử ta có list \n",
    "m1 = [1, 2, 3]\n",
    "\n",
    "# Các hàm đặc trưng\n",
    "dir(m1)"
   ]
  },
  {
   "cell_type": "markdown",
   "metadata": {},
   "source": [
    "### 5.2. String representation\n",
    "\n",
    "Đầu tiên, giả sử ta có class Vector như sau:"
   ]
  },
  {
   "cell_type": "code",
   "execution_count": 8,
   "metadata": {},
   "outputs": [
    {
     "name": "stdout",
     "output_type": "stream",
     "text": [
      "<__main__.Vector object at 0x0000020B0E007AF0>\n"
     ]
    }
   ],
   "source": [
    "class Vector:\n",
    "    def __init__(self, components: list):\n",
    "        self.components = components\n",
    "\n",
    "# Tạo instance\n",
    "V1 = Vector([3, 6])\n",
    "print(V1)"
   ]
  },
  {
   "cell_type": "markdown",
   "metadata": {},
   "source": [
    "Thực sự thì kết quả trả về từ hàm `print()` không giúp ích gì với người sử dụng, họ đâu quan tâm vị trí bộ nhớ là gì đâu. Vì vậy, ta phải thay đổi hành vi của nó. Có hai cách để thực hiện điều này:\n",
    "\n",
    "- Cách 1: Sử dụng `__str__`, hiển thị kết quả khi sử dụng hàm `print()`\n",
    "- Cách 2: Sử dụng `__repr__`, hiển thị kết quả trong môi trường tương tác.\n",
    "\n"
   ]
  },
  {
   "cell_type": "code",
   "execution_count": 9,
   "metadata": {},
   "outputs": [
    {
     "name": "stdout",
     "output_type": "stream",
     "text": [
      "[  3\n",
      "   5\n",
      "  ...\n",
      "   5 ]\n"
     ]
    }
   ],
   "source": [
    "class Vector:\n",
    "    def __init__(self, components: list):\n",
    "        self.components = components\n",
    "\n",
    "    def __str__(self):\n",
    "        if len(self.components) == 2:\n",
    "            custom_string = \"[ {}\\n  {} ]\".format(\n",
    "                self.components[0], self.components[1]\n",
    "            )\n",
    "        elif len(self.components) == 3:\n",
    "            custom_string = \"[ {}\\n  {}\\n  {} ]\".format(\n",
    "                self.components[0], self.components[1], self.components[2]\n",
    "            )\n",
    "        elif len(self.components) == 4:\n",
    "            custom_string = \"[ {}\\n  {}\\n  {}\\n  {} ]\".format(\n",
    "                self.components[0],\n",
    "                self.components[1],\n",
    "                self.components[2],\n",
    "                self.components[3],\n",
    "            )\n",
    "        else:\n",
    "            custom_string = \"[  {}\\n   {}\\n  ...\\n   {} ]\".format(\n",
    "                self.components[0], self.components[1], self.components[-1]\n",
    "            )\n",
    "        return custom_string\n",
    "\n",
    "    def __repr__(self):\n",
    "        return f\"Vector({str(self.components)})\"\n",
    "\n",
    "# Xem kết quả nào với __str__\n",
    "V1 = Vector([3, 5, 5, 2, 5])\n",
    "print(V1)"
   ]
  },
  {
   "cell_type": "code",
   "execution_count": 10,
   "metadata": {},
   "outputs": [
    {
     "data": {
      "text/plain": [
       "Vector([3, 6, 0])"
      ]
     },
     "execution_count": 10,
     "metadata": {},
     "output_type": "execute_result"
    }
   ],
   "source": [
    "# Xem kết quả với __repr__\n",
    "V2 = Vector([3, 6, 0])\n",
    "V2"
   ]
  },
  {
   "cell_type": "markdown",
   "metadata": {},
   "source": [
    "## 6. Property decorators\n",
    "\n",
    "### 6.1. Property\n",
    "\n",
    "Property decorators là một phương thức, giúp chúng ta truy cập vào các methods trong class như một thuộc tính. Ví dụ:"
   ]
  },
  {
   "cell_type": "code",
   "execution_count": 11,
   "metadata": {},
   "outputs": [
    {
     "name": "stdout",
     "output_type": "stream",
     "text": [
      "John\n",
      "John.Smith@email.com\n",
      "John Smith\n"
     ]
    }
   ],
   "source": [
    "# Class\n",
    "class Employee:\n",
    "\n",
    "    def __init__(self, first, last):\n",
    "        self.first = first\n",
    "        self.last = last\n",
    "\n",
    "    @property\n",
    "    def email(self):\n",
    "        return '{}.{}@email.com'.format(self.first, self.last)\n",
    "\n",
    "    @property\n",
    "    def fullname(self):\n",
    "        return '{} {}'.format(self.first, self.last)\n",
    "\n",
    "# Truy cập vào email và fullname như một thuộc tính\n",
    "emp_1 = Employee('John', 'Smith')\n",
    "print(emp_1.first)\n",
    "print(emp_1.email)\n",
    "print(emp_1.fullname)"
   ]
  },
  {
   "cell_type": "markdown",
   "metadata": {},
   "source": [
    "### 6.2. Setter\n",
    "\n",
    "Với những phương thức được sử dụng như một thuộc tính, ta không thể thay đổi giá trị của nó như một thuộc tính, nếu không sẽ gặp phải lỗi:"
   ]
  },
  {
   "cell_type": "code",
   "execution_count": 12,
   "metadata": {},
   "outputs": [
    {
     "ename": "AttributeError",
     "evalue": "can't set attribute 'fullname'",
     "output_type": "error",
     "traceback": [
      "\u001b[1;31m---------------------------------------------------------------------------\u001b[0m",
      "\u001b[1;31mAttributeError\u001b[0m                            Traceback (most recent call last)",
      "\u001b[1;32m~\\AppData\\Local\\Temp/ipykernel_1960/2394987829.py\u001b[0m in \u001b[0;36m<module>\u001b[1;34m\u001b[0m\n\u001b[1;32m----> 1\u001b[1;33m \u001b[0memp_1\u001b[0m\u001b[1;33m.\u001b[0m\u001b[0mfullname\u001b[0m \u001b[1;33m=\u001b[0m \u001b[1;34m\"Andy Kieu\"\u001b[0m\u001b[1;33m\u001b[0m\u001b[1;33m\u001b[0m\u001b[0m\n\u001b[0m",
      "\u001b[1;31mAttributeError\u001b[0m: can't set attribute 'fullname'"
     ]
    }
   ],
   "source": [
    "emp_1.fullname = \"Andy Kieu\""
   ]
  },
  {
   "cell_type": "markdown",
   "metadata": {},
   "source": [
    "Nếu bạn vẫn muốn thay đổi, ta phải khai báo nó dưới phương thức setter:"
   ]
  },
  {
   "cell_type": "code",
   "execution_count": 13,
   "metadata": {},
   "outputs": [],
   "source": [
    "# Class\n",
    "class Employee:\n",
    "\n",
    "    def __init__(self, first, last):\n",
    "        self.first = first\n",
    "        self.last = last\n",
    "\n",
    "    @property\n",
    "    def email(self):\n",
    "        return '{}.{}@email.com'.format(self.first, self.last)\n",
    "\n",
    "    @property\n",
    "    def fullname(self):\n",
    "        return '{} {}'.format(self.first, self.last)\n",
    "    \n",
    "    @fullname.setter\n",
    "    def fullname(self, name):\n",
    "        first, last = name.split(' ')\n",
    "        self.first = first\n",
    "        self.last = last"
   ]
  },
  {
   "cell_type": "code",
   "execution_count": 14,
   "metadata": {},
   "outputs": [
    {
     "name": "stdout",
     "output_type": "stream",
     "text": [
      "Corey\n",
      "Corey.Schafer@email.com\n",
      "Corey Schafer\n"
     ]
    }
   ],
   "source": [
    "# Kết quả\n",
    "emp_1 = Employee('John', 'Smith')\n",
    "emp_1.fullname = \"Corey Schafer\"\n",
    "\n",
    "print(emp_1.first)\n",
    "print(emp_1.email)\n",
    "print(emp_1.fullname)"
   ]
  },
  {
   "cell_type": "markdown",
   "metadata": {},
   "source": [
    "## 7. Tóm tắt\n",
    "\n",
    "- Một class sẽ có các phương thức và thuộc tính.\n",
    "- Định nghĩa các thuộc tính với `__init__(self, args)`\n",
    "- Tạo một instance với `class_name(args)`\n",
    "- Mỗi class có hai loại biến: class variable và instance variable.\n",
    "- Mỗi class có 3 loại phương thức: instance method _(self)_, class method _(cls)_ và static method.\n",
    "- Class method không được tác động vào đối tượng `self`, thường được sử dụng trong việc tạo instance.\n",
    "- Kế thừa các thuộc tính của class cơ sở: `super().__init__(args)` hoặc `Class_name.__init__(self, args)`\n",
    "- Kế thừa các phương thức của class cơ sở: `super().method(args)` hoặc `Class_name.method(self, args)`\n",
    "- Nạp chồng toán tử là ghi đè hành vi của các toán tử. Sử dụng `__str__` để ghi đè hành vi của hàm `print()` và `__repr__` để ghi đè hành vi hiển thị kết quả trong môi trường tương tác.\n",
    "- Property decorators giúp chúng ta truy cập vào các phương thức giống như một thuộc tính, đổi lại ta không thể gán giá trị cho những phương thức này. Để gán giá trị ta phải sử dụng setter."
   ]
  }
 ],
 "metadata": {
  "interpreter": {
   "hash": "4c11687d8836ffc239021e36f392b58b3bc872cc9f646c7bfb1c600138d566eb"
  },
  "kernelspec": {
   "display_name": "Python 3.10.0 64-bit ('learnds': conda)",
   "language": "python",
   "name": "python3"
  },
  "language_info": {
   "codemirror_mode": {
    "name": "ipython",
    "version": 3
   },
   "file_extension": ".py",
   "mimetype": "text/x-python",
   "name": "python",
   "nbconvert_exporter": "python",
   "pygments_lexer": "ipython3",
   "version": "3.10.0"
  },
  "orig_nbformat": 4
 },
 "nbformat": 4,
 "nbformat_minor": 2
}
