{
 "cells": [
  {
   "cell_type": "raw",
   "metadata": {},
   "source": [
    "---\n",
    "title: \"Pypro - Lập trình hướng đối tượng\"\n",
    "subtitle: \"\"\n",
    "slug: python-oop\n",
    "date: 2022-03-04\n",
    "lastmod: 2022-03-04\n",
    "draft: false\n",
    "authors: [\"Tuyen Kieu\"]\n",
    "description: \"\"\n",
    "images: []\n",
    "tags: [\"Programming\"]\n",
    "categories: []\n",
    "series: [Python Programming]\n",
    "series_weight: 6\n",
    "toc:\n",
    "  enable: true\n",
    "license: ''  \n",
    "hiddenFromHomePage: false\n",
    "lightgallery: true\n",
    "---\n",
    "\n",
    "<!--more-->"
   ]
  },
  {
   "cell_type": "markdown",
   "metadata": {},
   "source": [
    "## 1. Biến trong Python\n",
    "\n",
    "Trong Python, mọi thứ đều là đối tượng, và một biến chỉ đơn giản là một tên, mang ý nghĩa tượng trưng, trỏ đến một đối tượng trong bộ nhớ. \n",
    "\n",
    "Ví dụ:\n",
    "\n",
    "```python\n",
    "# Phép gán\n",
    "my_var = 100\n",
    "\n",
    "# xem địa chỉ trong bộ nhớ của my_var\n",
    "id(my_var)\n",
    "\n",
    "# Xem kiểu dữ liệu của biến\n",
    "type(my_var)\n",
    "```\n",
    "\n",
    "**Phép gán:**\n",
    "\n",
    "```python\n",
    "# Gán một giá trị cho một biến\n",
    "my_var = 10\n",
    "\n",
    "# Gán một giá trị cho nhiều biến\n",
    "a = b = c = 10\n",
    "\n",
    "# Gán nhiều giá trị cho nhiều biến\n",
    "a, b = (5, 10)\n",
    "a, b = 5, 10\n",
    "\n",
    "# Lưu ý với string\n",
    "a, b, c, d, e, f = 'Python'\n",
    "a # 'P'\n",
    "\n",
    "# đổi giá trị giữa 2 biến\n",
    "x = 5\n",
    "y = 10\n",
    "x, y = y, x\n",
    "```\n",
    "\n",
    "{{< admonition type=notes title=\"Một số lưu ý về tên biến\" open=true >}}\n",
    "- Tên biến trong Python chỉ bao gồm các chữ cái, số và dấu gạch dưới `_`\n",
    "- Tên biến phân biệt giữa các ký tự in hoa và in thường\n",
    "- Tên biến không được trùng với các từ khóa trong Python\n",
    "- Tên biến không được bắt đầu bằng số\n",
    "{{< /admonition >}}"
   ]
  },
  {
   "cell_type": "markdown",
   "metadata": {},
   "source": [
    "## 1. Syntax\n",
    "\n",
    "- Tạo hàm\n",
    "- if, elif, else\n",
    "- assert\n",
    "- for, while\n",
    "- Comprehension\n",
    "\n",
    "\n",
    "## 2. Numbers\n",
    "\n",
    "- Các toán tử khi làm việc vơi số\n",
    "- Các vấn đề với float, decimal, fraction\n",
    "- So sánh == với kiểu float: math.isclose()\n",
    "- Chuyển đổi giữa 3 loại \n",
    "- Làm tròn\n",
    "\n"
   ]
  }
 ],
 "metadata": {
  "interpreter": {
   "hash": "4c11687d8836ffc239021e36f392b58b3bc872cc9f646c7bfb1c600138d566eb"
  },
  "kernelspec": {
   "display_name": "Python 3.10.0 64-bit ('learnds': conda)",
   "language": "python",
   "name": "python3"
  },
  "language_info": {
   "codemirror_mode": {
    "name": "ipython",
    "version": 3
   },
   "file_extension": ".py",
   "mimetype": "text/x-python",
   "name": "python",
   "nbconvert_exporter": "python",
   "pygments_lexer": "ipython3",
   "version": "3.10.0"
  },
  "orig_nbformat": 4
 },
 "nbformat": 4,
 "nbformat_minor": 2
}
