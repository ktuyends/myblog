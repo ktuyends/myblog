{
 "cells": [
  {
   "cell_type": "raw",
   "metadata": {},
   "source": [
    "---\n",
    "title: \"Pypro - Một số ghi chú khác\"\n",
    "subtitle: \"\"\n",
    "slug: python-advanced\n",
    "date: 2022-03-06\n",
    "lastmod: 2022-03-06\n",
    "draft: false\n",
    "authors: [\"Tuyen Kieu\"]\n",
    "description: \"\"\n",
    "images: []\n",
    "tags: [\"Programming\"]\n",
    "categories: []\n",
    "series: [Python Programming]\n",
    "series_weight: 8\n",
    "toc:\n",
    "  enable: true\n",
    "license: ''  \n",
    "hiddenFromHomePage: false\n",
    "lightgallery: true\n",
    "---\n",
    "\n",
    "<!--more-->"
   ]
  },
  {
   "cell_type": "markdown",
   "metadata": {},
   "source": [
    "## 1. Iterables\n",
    "\n",
    "Một trong những cấu trúc dữ liệu phổ biến nhất trong Python mà chúng ta chắc chắn sẽ học qua là list. Với list, chúng ta có thể lặp qua các phần tử của nó như sau:"
   ]
  },
  {
   "cell_type": "code",
   "execution_count": 2,
   "metadata": {},
   "outputs": [
    {
     "name": "stdout",
     "output_type": "stream",
     "text": [
      "12\n",
      "5\n",
      "1994\n"
     ]
    }
   ],
   "source": [
    "# Tạo list\n",
    "my_list = [12, 5, 1994]\n",
    "\n",
    "# Lặp qua các phần tử của list\n",
    "for element in my_list:\n",
    "    print(element)"
   ]
  },
  {
   "cell_type": "markdown",
   "metadata": {},
   "source": [
    "Không chỉ với list, trong Python cũng có nhiều kiểu dữ liệu mà chúng ta hoàn toàn có thể lặp qua các phần tử của nó như tuple, dict, string,..."
   ]
  },
  {
   "cell_type": "code",
   "execution_count": 3,
   "metadata": {},
   "outputs": [
    {
     "name": "stdout",
     "output_type": "stream",
     "text": [
      "name\n",
      "age\n",
      "city\n"
     ]
    }
   ],
   "source": [
    "# for với dict\n",
    "my_dict = {'name': \"Andy Kieu\", 'age': 28, 'city': 'Hanoi'}\n",
    "for key in my_dict:\n",
    "    print(key)"
   ]
  },
  {
   "cell_type": "code",
   "execution_count": 4,
   "metadata": {},
   "outputs": [
    {
     "name": "stdout",
     "output_type": "stream",
     "text": [
      "a\n",
      "b\n",
      "c\n"
     ]
    }
   ],
   "source": [
    "# for với string\n",
    "my_str = 'abc'\n",
    "for c in my_str:\n",
    "    print(c)"
   ]
  },
  {
   "cell_type": "markdown",
   "metadata": {},
   "source": [
    "Chúng ta gọi các đối tượng mà có thể thực hiện vòng lặp thông qua từng phần tử của nó là iterable. Vậy chúng ta có thể tự tạo ra các đối tượng như thế hay không?"
   ]
  },
  {
   "cell_type": "markdown",
   "metadata": {},
   "source": [
    "Chúng ta sẽ bắt đầu với một class đơn giản:"
   ]
  },
  {
   "cell_type": "code",
   "execution_count": 7,
   "metadata": {},
   "outputs": [
    {
     "name": "stdout",
     "output_type": "stream",
     "text": [
      "a: 0\n",
      "b: 1\n",
      "c: 2\n"
     ]
    }
   ],
   "source": [
    "class Arr:\n",
    "    def __init__(self):\n",
    "        self.a = 0\n",
    "        self.b = 1\n",
    "        self.c = 2\n",
    "\n",
    "# Tạo một object\n",
    "my_var = Arr()\n",
    "\n",
    "# Xem các thuộc tính\n",
    "print(f'a: {my_var.a}')\n",
    "print(f'b: {my_var.b}')\n",
    "print(f'c: {my_var.c}')"
   ]
  },
  {
   "cell_type": "markdown",
   "metadata": {},
   "source": [
    "Bạn đoán xem chúng ta có thể lặp qua các thuộc tính của `my_var` hay không?"
   ]
  },
  {
   "cell_type": "code",
   "execution_count": 8,
   "metadata": {},
   "outputs": [
    {
     "ename": "TypeError",
     "evalue": "'Arr' object is not iterable",
     "output_type": "error",
     "traceback": [
      "\u001b[1;31m---------------------------------------------------------------------------\u001b[0m",
      "\u001b[1;31mTypeError\u001b[0m                                 Traceback (most recent call last)",
      "\u001b[1;32m~\\AppData\\Local\\Temp/ipykernel_2680/261820685.py\u001b[0m in \u001b[0;36m<module>\u001b[1;34m\u001b[0m\n\u001b[1;32m----> 1\u001b[1;33m \u001b[1;32mfor\u001b[0m \u001b[0mitem\u001b[0m \u001b[1;32min\u001b[0m \u001b[0mmy_var\u001b[0m\u001b[1;33m:\u001b[0m\u001b[1;33m\u001b[0m\u001b[1;33m\u001b[0m\u001b[0m\n\u001b[0m\u001b[0;32m      2\u001b[0m     \u001b[0mprint\u001b[0m\u001b[1;33m(\u001b[0m\u001b[0mitem\u001b[0m\u001b[1;33m)\u001b[0m\u001b[1;33m\u001b[0m\u001b[1;33m\u001b[0m\u001b[0m\n",
      "\u001b[1;31mTypeError\u001b[0m: 'Arr' object is not iterable"
     ]
    }
   ],
   "source": [
    "for item in my_var:\n",
    "    print(item)"
   ]
  },
  {
   "cell_type": "markdown",
   "metadata": {},
   "source": [
    "Ôi không! như bạn có thể thấy thì `Arr` không phải là một iterable, vì vậy ta cần phải định nghĩa lại `Arr` để nó trở thành iterable với phương thức `__getitem__()`:"
   ]
  },
  {
   "cell_type": "code",
   "execution_count": 9,
   "metadata": {},
   "outputs": [
    {
     "name": "stdout",
     "output_type": "stream",
     "text": [
      "Phần tử thứ nhất: 0\n",
      "Phần tử thứ hai: 1\n",
      "0\n",
      "1\n",
      "2\n"
     ]
    }
   ],
   "source": [
    "class Arr:\n",
    "    def __init__(self):\n",
    "        self.a = 0\n",
    "        self.b = 1\n",
    "        self.c = 2\n",
    "\n",
    "    # Xác định thứ tự của các thuộc tính\n",
    "    def __getitem__(self, item):\n",
    "        if item == 0:\n",
    "            return self.a\n",
    "        elif item == 1:\n",
    "            return self.b\n",
    "        elif item == 2:\n",
    "            return self.c\n",
    "        raise StopIteration\n",
    "\n",
    "# Xem thành quả nào\n",
    "my_var = Arr()\n",
    "print(f'Phần tử thứ nhất: {my_var[0]}')\n",
    "print(f'Phần tử thứ hai: {my_var[1]}')\n",
    "\n",
    "# Thử với vòng lặp for\n",
    "for item in my_var:\n",
    "    print(item)"
   ]
  },
  {
   "cell_type": "markdown",
   "metadata": {},
   "source": [
    "Thêm một ví dụ nữa về cách sử dụng `__getitem()__`"
   ]
  },
  {
   "cell_type": "code",
   "execution_count": 10,
   "metadata": {},
   "outputs": [
    {
     "name": "stdout",
     "output_type": "stream",
     "text": [
      "This\n",
      "is\n",
      "some\n",
      "form\n",
      "of\n",
      "text\n",
      "that\n",
      "I\n",
      "want\n",
      "to\n",
      "explore\n"
     ]
    }
   ],
   "source": [
    "class Sentence:\n",
    "    def __init__(self, text):\n",
    "        self.words = text.split(' ')\n",
    "\n",
    "    def __getitem__(self, item):\n",
    "        return self.words[item]\n",
    "\n",
    "s = Sentence('This is some form of text that I want to explore')\n",
    "\n",
    "for word in s:\n",
    "    print(word)"
   ]
  },
  {
   "cell_type": "markdown",
   "metadata": {},
   "source": [
    "## 2. Iterators\n",
    "\n",
    "Cho tới nay, chúng ta đã biết một iterable là một đối tượng mà chúng ta có thể lặp qua các phần tử của nó. Nhưng ta có biết cơ chế này hoạt động như thế nào không."
   ]
  },
  {
   "cell_type": "code",
   "execution_count": 3,
   "metadata": {},
   "outputs": [
    {
     "name": "stdout",
     "output_type": "stream",
     "text": [
      "a\n",
      "10\n",
      "12.5\n"
     ]
    },
    {
     "ename": "StopIteration",
     "evalue": "",
     "output_type": "error",
     "traceback": [
      "\u001b[1;31m---------------------------------------------------------------------------\u001b[0m",
      "\u001b[1;31mStopIteration\u001b[0m                             Traceback (most recent call last)",
      "\u001b[1;32m~\\AppData\\Local\\Temp/ipykernel_4936/4164786260.py\u001b[0m in \u001b[0;36m<module>\u001b[1;34m\u001b[0m\n\u001b[0;32m      9\u001b[0m \u001b[0mprint\u001b[0m\u001b[1;33m(\u001b[0m\u001b[0mnext\u001b[0m\u001b[1;33m(\u001b[0m\u001b[0mit\u001b[0m\u001b[1;33m)\u001b[0m\u001b[1;33m)\u001b[0m\u001b[1;33m\u001b[0m\u001b[1;33m\u001b[0m\u001b[0m\n\u001b[0;32m     10\u001b[0m \u001b[0mprint\u001b[0m\u001b[1;33m(\u001b[0m\u001b[0mnext\u001b[0m\u001b[1;33m(\u001b[0m\u001b[0mit\u001b[0m\u001b[1;33m)\u001b[0m\u001b[1;33m)\u001b[0m\u001b[1;33m\u001b[0m\u001b[1;33m\u001b[0m\u001b[0m\n\u001b[1;32m---> 11\u001b[1;33m \u001b[0mprint\u001b[0m\u001b[1;33m(\u001b[0m\u001b[0mnext\u001b[0m\u001b[1;33m(\u001b[0m\u001b[0mit\u001b[0m\u001b[1;33m)\u001b[0m\u001b[1;33m)\u001b[0m\u001b[1;33m\u001b[0m\u001b[1;33m\u001b[0m\u001b[0m\n\u001b[0m",
      "\u001b[1;31mStopIteration\u001b[0m: "
     ]
    }
   ],
   "source": [
    "# Giả sử ta có một list\n",
    "var = ['a', 10, 12.5]\n",
    "\n",
    "# Trình lặp\n",
    "it = iter(var)\n",
    "\n",
    "# Xác định các phần tử\n",
    "print(next(it))\n",
    "print(next(it))\n",
    "print(next(it))\n",
    "print(next(it))\n"
   ]
  },
  {
   "cell_type": "code",
   "execution_count": 4,
   "metadata": {},
   "outputs": [
    {
     "name": "stdout",
     "output_type": "stream",
     "text": [
      "a\n",
      "10\n",
      "12.5\n"
     ]
    }
   ],
   "source": [
    "# Sử dụng vòng lặp for\n",
    "it = iter(var)\n",
    "for element in it:\n",
    "    print(element)"
   ]
  },
  {
   "cell_type": "markdown",
   "metadata": {},
   "source": [
    "Dựa vào ví dụ trên, ta hiểu đơn giản hàm `iter()` nhận vào một đối tượng `iterable` và trả về một đối tượng `iterator`. Sau đó thông qua `next(iterator)`, sẽ tạo ra các phần tử tiếp theo với mỗi lần sử dụng.\n",
    "\n",
    "Chúng ta có thể định nghĩa cách thức hoạt động của `iter()` và `next()` thông qua phương thức `__iter__()` và `__next__()`. Ví dụ:"
   ]
  },
  {
   "cell_type": "code",
   "execution_count": 6,
   "metadata": {},
   "outputs": [],
   "source": [
    "# Định nghĩa iterator\n",
    "class SentenceIterator:\n",
    "    def __init__(self, words):\n",
    "        self.words = words\n",
    "        self.index = 0\n",
    "\n",
    "    def __next__(self):\n",
    "        try:\n",
    "            word = self.words[self.index]\n",
    "\n",
    "        except IndexError:\n",
    "            raise StopIteration()\n",
    "\n",
    "        self.index += 1\n",
    "\n",
    "        return word\n",
    "\n",
    "    def __iter__(self):\n",
    "        return self"
   ]
  },
  {
   "cell_type": "markdown",
   "metadata": {},
   "source": [
    "Sau khi đã có iterator, chúng ta phải định nghĩa lại iterable:"
   ]
  },
  {
   "cell_type": "code",
   "execution_count": 7,
   "metadata": {},
   "outputs": [],
   "source": [
    "# Định nghĩa iterable\n",
    "class Sentence:\n",
    "    def __init__(self, text):\n",
    "        self.words = text.split(' ')\n",
    "\n",
    "    def __iter__(self):\n",
    "        return SentenceIterator(self.words)"
   ]
  },
  {
   "cell_type": "markdown",
   "metadata": {},
   "source": [
    "Các bạn có thấy có gì sai sai ở câu lệnh trên không, chúng ta đã không sử dụng `__getitem__()` mà sử dụng `__iter__()`. Do đó chúng ta không thể truy cập vào các phần tử bằng index, nhưng vòng lặp for vẫn sẽ hoạt động bình thường. Cùng xem kết quả nào:"
   ]
  },
  {
   "cell_type": "code",
   "execution_count": 8,
   "metadata": {},
   "outputs": [
    {
     "ename": "TypeError",
     "evalue": "'Sentence' object is not subscriptable",
     "output_type": "error",
     "traceback": [
      "\u001b[1;31m---------------------------------------------------------------------------\u001b[0m",
      "\u001b[1;31mTypeError\u001b[0m                                 Traceback (most recent call last)",
      "\u001b[1;32m~\\AppData\\Local\\Temp/ipykernel_4936/3626104857.py\u001b[0m in \u001b[0;36m<module>\u001b[1;34m\u001b[0m\n\u001b[0;32m      1\u001b[0m \u001b[0mtext\u001b[0m \u001b[1;33m=\u001b[0m \u001b[1;34m\"This is a text to test if our iterator returns values backward\"\u001b[0m\u001b[1;33m\u001b[0m\u001b[1;33m\u001b[0m\u001b[0m\n\u001b[0;32m      2\u001b[0m \u001b[0ms\u001b[0m \u001b[1;33m=\u001b[0m \u001b[0mSentence\u001b[0m\u001b[1;33m(\u001b[0m\u001b[0mtext\u001b[0m\u001b[1;33m)\u001b[0m\u001b[1;33m\u001b[0m\u001b[1;33m\u001b[0m\u001b[0m\n\u001b[1;32m----> 3\u001b[1;33m \u001b[0ms\u001b[0m\u001b[1;33m[\u001b[0m\u001b[1;36m0\u001b[0m\u001b[1;33m]\u001b[0m\u001b[1;33m\u001b[0m\u001b[1;33m\u001b[0m\u001b[0m\n\u001b[0m",
      "\u001b[1;31mTypeError\u001b[0m: 'Sentence' object is not subscriptable"
     ]
    }
   ],
   "source": [
    "text = \"This is a text to test if our iterator returns values backward\"\n",
    "s = Sentence(text)\n",
    "s[0]"
   ]
  },
  {
   "cell_type": "code",
   "execution_count": 9,
   "metadata": {},
   "outputs": [
    {
     "name": "stdout",
     "output_type": "stream",
     "text": [
      "This\n",
      "is\n",
      "a\n",
      "text\n",
      "to\n",
      "test\n",
      "if\n",
      "our\n",
      "iterator\n",
      "returns\n",
      "values\n",
      "backward\n"
     ]
    }
   ],
   "source": [
    "# Với vòng lặp for\n",
    "for w in s:\n",
    "    print(w)"
   ]
  },
  {
   "cell_type": "markdown",
   "metadata": {},
   "source": [
    "## 3. Generators\n",
    "\n",
    "Để định nghĩa một iterator, ta cần phải thực hiện khá nhiều bước ví dụ như `__next__()`, `__iter__()`...Xử lý ngoại lệ với _StopIteration_ khi không còn giá trị được trả về...\n",
    "\n",
    "Generator hiểu một cách nôm na thì nó là một hàm trả về một đối tượng iterator mà chúng ta có thể lặp lại tại một thời điểm. Generator tạo ra một đối tượng kiểu danh sách, nhưng chúng ta chỉ có thể duyệt qua các phần tử của nó một lần duy nhất vì nó không lưu trữ dữ liệu trong bộ nhớ, mỗi một lần lặp nó sẽ tạo ra phần tử tiếp theo trong dãy.\n",
    "\n",
    "Để tạo generator, ta sử dụng `yield value` thay vì `return value` trong một hàm. Điểm khác biệt ở đây là `yield` chỉ tạm dừng hàm, còn `return` thì trả về kết quả xong thì thoát khỏi hàm.\n",
    "\n",
    "Ví dụ:"
   ]
  },
  {
   "cell_type": "code",
   "execution_count": 10,
   "metadata": {},
   "outputs": [
    {
     "name": "stdout",
     "output_type": "stream",
     "text": [
      "1\n",
      "3\n",
      "5\n",
      "7\n",
      "9\n",
      "11\n",
      "13\n",
      "15\n",
      "17\n",
      "19\n"
     ]
    }
   ],
   "source": [
    "# Tạo generator với yield\n",
    "def make_numbers(start, stop, step):\n",
    "    i = start\n",
    "    while i<=stop:\n",
    "        yield i\n",
    "        i += step\n",
    "\n",
    "# Kết quả\n",
    "for i in make_numbers(1, 20, 2):\n",
    "    print(i)"
   ]
  },
  {
   "cell_type": "markdown",
   "metadata": {},
   "source": [
    "Chúng ta có thể định nghĩa lại class _Sentence_ ở trên sử dụng generator thay cho iterator:"
   ]
  },
  {
   "cell_type": "code",
   "execution_count": 11,
   "metadata": {},
   "outputs": [
    {
     "name": "stdout",
     "output_type": "stream",
     "text": [
      "This\n",
      "is\n",
      "a\n",
      "text\n",
      "to\n",
      "test\n",
      "our\n",
      "iterator\n"
     ]
    }
   ],
   "source": [
    "class Sentence:\n",
    "    def __init__(self, text):\n",
    "        self.words = text.split(' ')\n",
    "\n",
    "    def __iter__(self):\n",
    "        for word in self.words:\n",
    "            yield word\n",
    "\n",
    "text = \"This is a text to test our iterator\"\n",
    "s = Sentence(text)\n",
    "for w in s:\n",
    "    print(w)"
   ]
  }
 ],
 "metadata": {
  "interpreter": {
   "hash": "4c11687d8836ffc239021e36f392b58b3bc872cc9f646c7bfb1c600138d566eb"
  },
  "kernelspec": {
   "display_name": "Python 3.10.0 64-bit ('learnds': conda)",
   "language": "python",
   "name": "python3"
  },
  "language_info": {
   "codemirror_mode": {
    "name": "ipython",
    "version": 3
   },
   "file_extension": ".py",
   "mimetype": "text/x-python",
   "name": "python",
   "nbconvert_exporter": "python",
   "pygments_lexer": "ipython3",
   "version": "3.10.0"
  },
  "orig_nbformat": 4
 },
 "nbformat": 4,
 "nbformat_minor": 2
}
