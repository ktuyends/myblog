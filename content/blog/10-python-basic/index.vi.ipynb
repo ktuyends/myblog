{
 "cells": [
  {
   "cell_type": "raw",
   "metadata": {},
   "source": [
    "---\n",
    "title: \"Làm quen với lập trình Python\"\n",
    "subtitle: \"\"\n",
    "slug: python-basic\n",
    "summary: \"\"\n",
    "date: 2022-05-15\n",
    "lastmod: 2022-05-15\n",
    "draft: false\n",
    "authors: [\"Tuyen Kieu\"]\n",
    "description: \"\"\n",
    "images: []\n",
    "tags: [\"Programming\"]\n",
    "categories: []\n",
    "toc:\n",
    "  enable: true\n",
    "license: ''  \n",
    "hiddenFromHomePage: false\n",
    "lightgallery: true\n",
    "---\n",
    "\n",
    "<!--more-->"
   ]
  },
  {
   "cell_type": "markdown",
   "metadata": {},
   "source": [
    "Bài viết này, nói sao ta, ừm...có thể gọi là một cái ghi chép mình tóm tắt lại một số kiến thức cơ bản trong Python. Vì đôi lúc, mình cũng sẽ cần đọc lại chúng. Với cả, mục đích chính mình viết cái ghi chép này là viết cho bạn của mình, chứ thực ra mình cũng đã viết một [Series - Python Programming](/python-programming/) rồi nhưng vì là viết cho chính mình nên nó khá là khó hiểu.\n",
    "\n",
    "Trước khi đi vào nội dung chính, thì ta cần phải cài đặt Python. Có một số cách sau:\n",
    "\n",
    "- Cách 1: Sử dụng [Python Online Compiler](https://replit.com/) mà không cần cài đặt.\n",
    "- Cách 2: Tải và cài đặt Python từ [Download](https://www.python.org/downloads/).\n",
    "- Cách 3: Cài đặt [Anaconda](https://www.anaconda.com/products/distribution) sau đó sử dụng Ipython hoặc Jupyter Lab.\n",
    "\n",
    "Còn về bài viết này, thì mình sử dụng Jupyter Notebook trên VS Code."
   ]
  },
  {
   "cell_type": "markdown",
   "metadata": {},
   "source": [
    "## 1. Biến và phép gán\n",
    "\n",
    "### 1.1. Biến\n",
    "\n",
    "Trong Python, mọi thứ đều là đối tượng, và biến trong Python ta hiểu nôm na nó là một cái tên, trỏ đến một đối tượng nào đó. Khi một đối tượng được gán cho một biến, ta có thể sử dụng tên biến để đại diện cho đối tượng ở nhiều nơi ví dụ trong các phép toán.\n",
    "\n",
    "Để gán một đối tượng cho một biến ta sử dụng cú pháp: `ten_bien = gia_tri`. Ví dụ:"
   ]
  },
  {
   "cell_type": "code",
   "execution_count": 3,
   "metadata": {},
   "outputs": [
    {
     "name": "stdout",
     "output_type": "stream",
     "text": [
      "2085885447504\n"
     ]
    }
   ],
   "source": [
    "# Phép gán\n",
    "my_var = 100\n",
    "\n",
    "# xem địa chỉ trong bộ nhớ của my_var\n",
    "print(id(my_var))"
   ]
  },
  {
   "cell_type": "code",
   "execution_count": 4,
   "metadata": {},
   "outputs": [
    {
     "data": {
      "text/plain": [
       "int"
      ]
     },
     "execution_count": 4,
     "metadata": {},
     "output_type": "execute_result"
    }
   ],
   "source": [
    "# Xem kiểu dữ liệu của biến\n",
    "type(my_var)"
   ]
  },
  {
   "cell_type": "markdown",
   "metadata": {},
   "source": [
    "{{< admonition type=notes title=\"Một số lưu ý về tên biến\" open=true >}}\n",
    "- Tên biến trong Python chỉ bao gồm các chữ cái `a-zA-Z`, chữ số `0-9` và dấu gạch dưới `_`.\n",
    "- Tên biến phân biệt giữa các ký tự in hoa và in thường.\n",
    "- Tên biến không được trùng với các từ khóa trong Python.\n",
    "- Tên biến không được bắt đầu bằng số.\n",
    "- Tên biến nên là các từ có ý nghĩa thay vì các chữ cái.\n",
    "{{< /admonition >}}"
   ]
  },
  {
   "cell_type": "markdown",
   "metadata": {},
   "source": [
    "### 1.2. Phép gán\n",
    "\n",
    "Một số cách sử dụng phép gán trong Python:\n",
    "\n",
    "```python\n",
    "# Gán một giá trị cho một biến\n",
    "my_var = 10\n",
    "\n",
    "# Gán một giá trị cho nhiều biến\n",
    "a = b = c = 10\n",
    "\n",
    "# Gán nhiều giá trị cho nhiều biến\n",
    "a, b = (5, 10)\n",
    "a, b = 5, 10      # a = 5, b = 10\n",
    "\n",
    "# Lưu ý với string\n",
    "a, b, c, d, e, f = 'Python'\n",
    "print(a) # 'P'\n",
    "\n",
    "# đổi giá trị giữa 2 biến\n",
    "x = 5\n",
    "y = 10\n",
    "x, y = y, x  # x = 10, y = 5\n",
    "```"
   ]
  },
  {
   "cell_type": "markdown",
   "metadata": {},
   "source": [
    "### 1.3. Input và Print\n",
    "\n",
    "- Hàm `input()`: Yêu cầu người dùng nhập giá trị cho một biến. Kết quả của hàm `input` là kiểu string.\n",
    "- Hàm `print()`: Được sử dụng để in giá trị của một đối tượng, biến, biểu thức,...ra màn hình.\n",
    "\n",
    "Ví dụ:"
   ]
  },
  {
   "cell_type": "code",
   "execution_count": 5,
   "metadata": {},
   "outputs": [
    {
     "name": "stdout",
     "output_type": "stream",
     "text": [
      "Hello, world!\n",
      "What is your name?\n"
     ]
    }
   ],
   "source": [
    "print('Hello, world!')\n",
    "print('What is your name?')"
   ]
  },
  {
   "cell_type": "code",
   "execution_count": 7,
   "metadata": {},
   "outputs": [
    {
     "name": "stdout",
     "output_type": "stream",
     "text": [
      "It is good to meet you, Andy\n"
     ]
    }
   ],
   "source": [
    "# Nhập tên cho biến my_name\n",
    "my_name = input('What is your name?')\n",
    "print('It is good to meet you,', my_name)"
   ]
  },
  {
   "cell_type": "markdown",
   "metadata": {},
   "source": [
    "### 1.4. Comment \n",
    "\n",
    "Nếu để ý, các bạn có thể thấy trong code của mình hay có đoạn như `# một cái gì đó`, thì trong Python nó được gọi là **Comment**. \n",
    "\n",
    "Comment là những ghi chú mà chương trình sẽ bỏ qua khi thực thi. Thông thường, một ghi chú sẽ bắt đầu từ dấu `#` cho đến cuối dòng code."
   ]
  },
  {
   "cell_type": "markdown",
   "metadata": {},
   "source": [
    "## 2. Kiểu dữ liệu strings\n",
    "\n",
    "### 2.1. Tạo strings\n",
    "\n",
    "Strings trong Python là một chuỗi các ký tự. Ta có thể liên tưởng đến các chữ cái, các từ, các câu trong đời sống thường ngày mà chúng ta hay dùng vậy.\n",
    "\n",
    "Để tạo một strings, ta đặc các ký tự bên trong dấu `'...'` hoặc dấu `\"...\"`. Ví dụ:"
   ]
  },
  {
   "cell_type": "code",
   "execution_count": 8,
   "metadata": {},
   "outputs": [
    {
     "name": "stdout",
     "output_type": "stream",
     "text": [
      "Hello World\n"
     ]
    }
   ],
   "source": [
    "# Sử dụng dấu '...'\n",
    "message = 'Hello World'\n",
    "print(message)"
   ]
  },
  {
   "cell_type": "code",
   "execution_count": 9,
   "metadata": {},
   "outputs": [
    {
     "ename": "SyntaxError",
     "evalue": "unterminated string literal (detected at line 2) (Temp/ipykernel_16852/1432468934.py, line 2)",
     "output_type": "error",
     "traceback": [
      "\u001b[1;36m  File \u001b[1;32m\"C:\\Users\\ktuyends\\AppData\\Local\\Temp/ipykernel_16852/1432468934.py\"\u001b[1;36m, line \u001b[1;32m2\u001b[0m\n\u001b[1;33m    message = 'Andy's World'\u001b[0m\n\u001b[1;37m                           ^\u001b[0m\n\u001b[1;31mSyntaxError\u001b[0m\u001b[1;31m:\u001b[0m unterminated string literal (detected at line 2)\n"
     ]
    }
   ],
   "source": [
    "# Lưu ý khi sử dụng dấu `'...'` mà bên trong chuỗi cũng có dấu `'`\n",
    "message = 'Andy's World'\n",
    "\n",
    "# Trong trường hợp này sẽ gặp lỗi\n",
    "print(message)"
   ]
  },
  {
   "cell_type": "code",
   "execution_count": 11,
   "metadata": {},
   "outputs": [
    {
     "name": "stdout",
     "output_type": "stream",
     "text": [
      "Andy's World\n"
     ]
    }
   ],
   "source": [
    "# Để sửa lỗi ta có hai cách:\n",
    "# Cách 1: Đặt string bên trong \"...\"\n",
    "message = \"Andy's World\"\n",
    "print(message)"
   ]
  },
  {
   "cell_type": "code",
   "execution_count": 12,
   "metadata": {},
   "outputs": [
    {
     "name": "stdout",
     "output_type": "stream",
     "text": [
      "Andy's World\n"
     ]
    }
   ],
   "source": [
    "# Cách 2: Sử dụng ký tự thoát `\\` bên trong string để giải thích cho chương trình `'` là một dấu `'`\n",
    "message = \"Andy\\'s World\"\n",
    "print(message)"
   ]
  },
  {
   "cell_type": "markdown",
   "metadata": {},
   "source": [
    "Việc sử dụng dấu ngoặc `'...'` hoặc `\"...\"` chỉ cho phép chúng ta tạo ra các strings trên một dòng. Trong trường hợp ta muốn tạo các strings có nhiều dòng thì làm như thế nào? Ví dụ:"
   ]
  },
  {
   "cell_type": "code",
   "execution_count": 13,
   "metadata": {},
   "outputs": [
    {
     "name": "stdout",
     "output_type": "stream",
     "text": [
      "Bobby's World was a good\n",
      "cartoon in the 1990s\n",
      "\n"
     ]
    }
   ],
   "source": [
    "# Chúng ta sử dụng \"\"\"...\"\"\" để viết các string trên nhiều dòng\n",
    "message = \"\"\"Bobby's World was a good\n",
    "cartoon in the 1990s\n",
    "\"\"\"\n",
    "\n",
    "# Xem kết quả nào\n",
    "print(message)"
   ]
  },
  {
   "cell_type": "markdown",
   "metadata": {},
   "source": [
    "### 2.2. Truy cập các ký tự trong string\n",
    "\n",
    "Mỗi một chuỗi ký tự đều có số lượng ký tự nhất định, và để xem một chuỗi các ký tự có nhiêu ký tự thì ta sử dụng hàm `len()`, ví dụ:"
   ]
  },
  {
   "cell_type": "code",
   "execution_count": 15,
   "metadata": {},
   "outputs": [
    {
     "name": "stdout",
     "output_type": "stream",
     "text": [
      "12\n"
     ]
    }
   ],
   "source": [
    "# Giả sử ta có chuỗi sau\n",
    "message = 'Monty Python'\n",
    "\n",
    "# Tính số lượng các ký tự trong message\n",
    "message_len = len(message)\n",
    "print(message_len)"
   ]
  },
  {
   "cell_type": "markdown",
   "metadata": {},
   "source": [
    "Mỗi một ký tự trong Python đếu có một index, được đánh số bắt đầu từ `0 -> len(my_str) - 1` nếu tính từ bên trái hoặc bắt đầu từ `-1 -> - len(my_str)` nếu tính từ bên phải. Minh họa:\n",
    "\n",
    "{{< figure src=\"./string-index.jfif\" >}}\n",
    "\n",
    "Bây giờ sau khi đã xác định được vị trí của mỗi ký tự, ta có thể lấy ra các ký tự này bên trong string dựa vào vị trí của nó với cú pháp:\n",
    "\n",
    "```python\n",
    "# Lấy ra ký tự ở vị trí i\n",
    "my_string[i]\n",
    "\n",
    "# Lấy ra một chuỗi con từ trong string\n",
    "# Lấy ra các ký tự từ start -> end - 1, Python không lấy ký tự cuối.\n",
    "my_string[start:end]\n",
    "\n",
    "# Tổng quát: start:end :step\n",
    "# step là bước nhảy, ví dụ start = 1, step = 2\n",
    "# Thì ta có các ký tự ở vị trí 1, 3, 5, 7,....\n",
    "```"
   ]
  },
  {
   "cell_type": "code",
   "execution_count": 17,
   "metadata": {},
   "outputs": [
    {
     "data": {
      "text/plain": [
       "'P'"
      ]
     },
     "execution_count": 17,
     "metadata": {},
     "output_type": "execute_result"
    }
   ],
   "source": [
    "# Giả sử ta có chuỗi sau\n",
    "message = 'Monty Python'\n",
    "\n",
    "# Ký tự thứ 7 trong chuỗi\n",
    "message[6]"
   ]
  },
  {
   "cell_type": "code",
   "execution_count": 19,
   "metadata": {},
   "outputs": [
    {
     "data": {
      "text/plain": [
       "'Pyth'"
      ]
     },
     "execution_count": 19,
     "metadata": {},
     "output_type": "execute_result"
    }
   ],
   "source": [
    "# Các ký tự từ vị trí thứ 6 -> 9\n",
    "message[6:10]"
   ]
  },
  {
   "cell_type": "code",
   "execution_count": 20,
   "metadata": {},
   "outputs": [
    {
     "data": {
      "text/plain": [
       "'Monty'"
      ]
     },
     "execution_count": 20,
     "metadata": {},
     "output_type": "execute_result"
    }
   ],
   "source": [
    "# Các ký tự từ -12 -> -8\n",
    "message[-12:-7]"
   ]
  },
  {
   "cell_type": "code",
   "execution_count": 21,
   "metadata": {},
   "outputs": [
    {
     "data": {
      "text/plain": [
       "'MnyPto'"
      ]
     },
     "execution_count": 21,
     "metadata": {},
     "output_type": "execute_result"
    }
   ],
   "source": [
    "# Các ký tự ở vị trí 0, 2, 4, 6,...\n",
    "message[0:12:2]"
   ]
  },
  {
   "cell_type": "markdown",
   "metadata": {},
   "source": [
    "Lưu ý, trong trường hợp `start` hoặc `end` bỏ trống, thì Python mặc định là tính từ đầu chuỗi hoặc đến cuối chuỗi, `step` mặc định là `1`. Ví dụ:"
   ]
  },
  {
   "cell_type": "code",
   "execution_count": 22,
   "metadata": {},
   "outputs": [
    {
     "data": {
      "text/plain": [
       "'Python'"
      ]
     },
     "execution_count": 22,
     "metadata": {},
     "output_type": "execute_result"
    }
   ],
   "source": [
    "# Các ký tự từ vị trí thứ 6 đến cuối chuỗi\n",
    "message[6:]"
   ]
  },
  {
   "cell_type": "markdown",
   "metadata": {},
   "source": [
    "### 2.3. Một số phương thức làm việc với string\n",
    "\n",
    "Nhắc lại trong Python, mọi thứ đều là đối tượng và string cũng thế. Tạm thời ta chưa cần quan tâm đối tượng là gì, nhưng ta có thể hiểu nôm na là một đối tượng sẽ có các phương thức (method) và thuộc tính (attribute). Phương thức là các hàm tác động lên đối tượng, còn thuộc tính thì là đặc tính của đối tượng.\n",
    "\n",
    "Để sử dụng phương thức ta dùng cú pháp: `my_string.method_name()`\n",
    "\n",
    "Một số phương thức cơ bản:\n",
    "\n",
    "```python\n",
    "# Giả sử ta có chuỗi\n",
    "message = 'Hello World\n",
    "\n",
    "# Chuyển đổi giữa các ký tự in hoa và in thường\n",
    "message.lower()     # hello world\n",
    "message.upper()     # HELLO WORLD\n",
    "message.title()     # Hello world\n",
    "\n",
    "# Đếm số lần xuất hiện của một substring trong chuỗi\n",
    "message.count('Hello')  # 1 lần\n",
    "message.count('l')      # 3 lần\n",
    "\n",
    "# Xác định vị trí bắt đầu của một substring trong chuỗi\n",
    "# find trả về -1 nếu k tìm thấy\n",
    "message.find('World')   # 6\n",
    "\n",
    "# Thay thế một số ký tự trong string\n",
    "# replace(old_substring, new_substr)\n",
    "new_message = message.replace('World', 'Universe')   # Hello Universe\n",
    "\n",
    "# Nối các ký tự với toán tử '+'\n",
    "greeting = 'Hello'\n",
    "name = 'Andy'\n",
    "message = greeting + ' ' + 'Andy'   # Hello Andy\n",
    "\n",
    "# Toán tử '+' đôi khi phức tạp khi câu lệnh dài\n",
    "# Ta có thể sử dụng f-string\n",
    "message = f'{greeting}, {name}. Welcome!'  # Hello, Andy. Welcome!\n",
    "\n",
    "# Nếu ta thêm dấu = vào trong ngoặc kép, ví dụ:\n",
    "message = f'{name = }'  # name = 'Andy'\n",
    "```\n",
    "\n",
    "{{< admonition type=notes title=\"Immutable\" open=true >}}\n",
    "Lưu ý, string là kiểu dữ liệu `immutable`, vì thế ta không thể thực hiện các thao tác sửa đổi lên trực tiếp string ban đầu. Do đó, các phương thức cũng không sửa đổi string gốc mà nó sẽ trả về một string khác.\n",
    "{{< /admonition >}}\n",
    "\n",
    "Ngoài các phương thức trên, còn rất nhiều các phương thức để làm việc với string mà ta có thể sử dụng `help()` để xem:\n",
    "\n",
    "```python\n",
    "# Xem trợ giúp về kiểu dữ liệu string\n",
    "print(help(str))\n",
    "```"
   ]
  },
  {
   "cell_type": "markdown",
   "metadata": {},
   "source": [
    "## 3. Kiểu dữ liệu số\n",
    "\n",
    "### 3.1. Int và float\n",
    "\n",
    "Số trong Python thường được biểu diễn dưới dạng số nguyên _(int)_ hoặc số thực _(float)_. Số nguyên là số nguyên trong toán học, còn số thực là các số mà có thêm phần thập phân (dấu chấm phân tách). Ví dụ:"
   ]
  },
  {
   "cell_type": "code",
   "execution_count": 24,
   "metadata": {},
   "outputs": [
    {
     "name": "stdout",
     "output_type": "stream",
     "text": [
      "<class 'int'>\n"
     ]
    }
   ],
   "source": [
    "# Số nguyên\n",
    "num = 10\n",
    "print(type(num))"
   ]
  },
  {
   "cell_type": "code",
   "execution_count": 25,
   "metadata": {},
   "outputs": [
    {
     "name": "stdout",
     "output_type": "stream",
     "text": [
      "<class 'float'>\n"
     ]
    }
   ],
   "source": [
    "# Số thực\n",
    "Pi = 3.14\n",
    "print(type(Pi))"
   ]
  },
  {
   "cell_type": "markdown",
   "metadata": {},
   "source": [
    "### 3.2. Các toán tử cơ bản\n",
    "\n",
    "Một số phép toán giữa các số:\n",
    "\n",
    "```python\n",
    "3 + 2   # Phép cộng\n",
    "3 - 2   # Phép trừ\n",
    "3 * 2   # Phép nhân\n",
    "3 / 2   # Phép chia\n",
    "3 // 2  # Phép chia lấy phần nguyên\n",
    "3 % 2   # Phép chia lấy phần dư (mod)\n",
    "3 ** 2  # Lũy thừa\n",
    "```\n",
    "\n",
    "Một số phép so sánh. Lưu ý kết quả của các phép so sánh sẽ trả về `True` hoặc `False`\n",
    "\n",
    "```python\n",
    "3 > 2    # True (so sánh lớn hơn)\n",
    "3 >= 2   # True (lớn hơn hoặc bằng)\n",
    "3 < 2    # False (nhỏ hơn)\n",
    "3 <= 2   # False (nhỏ hơn hoặc bằng)\n",
    "3 == 2   # False (so sánh bằng)\n",
    "3 != 2   # True (so sánh không bằng)\n",
    "```\n",
    "\n",
    "### 3.3. Các hàm làm việc với số\n",
    "\n",
    "```python\n",
    "abs(-3)            # Giá trị tuyệt đối\n",
    "round(3.75, 1)     # 3.8, Làm tròn số, gần số chẵn nhất\n",
    "round(3.65, 1)     # 3.6\n",
    "```\n",
    "\n",
    "Có nhiều hàm không có sẵn trong Python, vì vậy ta cần phải sử dụng các thư viện mở rộng bên ngoài. **Math** là module gồm nhiều hàm toán học để làm việc với các số. \n",
    "\n",
    "```python\n",
    "# import thư viện trước khi sử dụng\n",
    "import math\n",
    "\n",
    "# Sử dụng các hàm bởi cú pháp: math.func_name()\n",
    "math.trunc(x)   # phần nguyên của một số\n",
    "math.floor(x)   # số được làm tròn > x\n",
    "math.ceil(x)    # số được làm tròn < x\n",
    "math.fabs(x)    # giá trị tuyệt đối\n",
    "math.sqrt(x)    # căn bậc hai\n",
    "```\n",
    "\n",
    "**Lưu ý khi so sánh 2 số thực:**\n",
    "\n",
    "Số thực trong Python là số ở dạng xấp xỉ, vì vậy khi ta so sánh một biểu thức trả về kết quả là một số thực với một số thực có thể sẽ không bằng nhau. Ví dụ:"
   ]
  },
  {
   "cell_type": "code",
   "execution_count": 28,
   "metadata": {},
   "outputs": [
    {
     "data": {
      "text/plain": [
       "False"
      ]
     },
     "execution_count": 28,
     "metadata": {},
     "output_type": "execute_result"
    }
   ],
   "source": [
    "# Lưu ý khi so sánh hai số thực\n",
    "0.1 + 0.2 == 0.3 # False"
   ]
  },
  {
   "cell_type": "code",
   "execution_count": 29,
   "metadata": {},
   "outputs": [
    {
     "data": {
      "text/plain": [
       "True"
      ]
     },
     "execution_count": 29,
     "metadata": {},
     "output_type": "execute_result"
    }
   ],
   "source": [
    "# Để so sánh hai số thực ta sử dụng hàm math.isclose\n",
    "import math\n",
    "math.isclose(0.1 + 0.2, 0.3)"
   ]
  },
  {
   "cell_type": "markdown",
   "metadata": {},
   "source": [
    "### 3.4. Chuyển đổi kiểu dữ liệu\n",
    "\n",
    "Đôi lúc chúng ta sẽ cần chuyển đổi qua lại giữa các kiểu dữ liệu. Ví dụ bạn yêu cầu một người nhập một giá trị số bằng hàm `input()` nhưng mà hàm `input()` lại trả về kiểu `str` (string), khi đó ta phải chuyển đổi nó về kiểu `float` hoặc `int` để tính toán.\n",
    "\n",
    "```python\n",
    "# Chuyển đổi string thành number\n",
    "my_str = '100'\n",
    "float(my_str)   # Chuyển đổi về số thực bằng hàm float()\n",
    "int(my_str)     # Chuyển đổi về số nguyên bằng hàm int()\n",
    "\n",
    "# Chuyển đổi một số thành string\n",
    "my_num = 7749\n",
    "str(my_num)     # Chuyển đổi về string bằng hàm str()\n",
    "```"
   ]
  },
  {
   "cell_type": "markdown",
   "metadata": {},
   "source": [
    "## 4. Lists, Tuples và Sets\n",
    "\n",
    "### 4.1. Lists\n",
    "\n",
    "List là một trong những cấu trúc dữ liệu linh hoạt nhất trong Python, nó được sử dụng để lưu trữ nhiều giá trị. Giả sử ta muốn lưu trữ một danh sách các môn học vào một list. Ta sẽ tạo ra một list bằng cách sử dụng cú pháp `[item1, item2, .., itemN]`, mỗi item tương ứng với một môn học và các môn học được ngăn cách bởi dấu `,`\n",
    "\n",
    "```python\n",
    "# Tạo một list các môn học\n",
    "courses = ['History', 'Math', 'Physics', 'CompSci']\n",
    "\n",
    "# Để xem có bao nhiêu môn học ta sử dụng hàm len\n",
    "len(courses)  # 4 môn\n",
    "```\n",
    "\n",
    "Hãy nhớ lại cách chúng ta lấy ra các ký tự trong một string, thì tương tự ta cũng có thể sử dụng cú pháp đó để lấy ra các phần tử bên trong một list.\n",
    "\n",
    "```python\n",
    "# Xem môn học đầu tiên\n",
    "courses[0]   # History\n",
    "\n",
    "# Xem môn học cuối cùng\n",
    "courses[-1]  # CompSci\n",
    "\n",
    "# Hai môn học đầu tiên\n",
    "courses[0:2]  # ['History', 'Math']\n",
    "\n",
    "# Chúng ta có thể thay đổi giá trị trong list dựa vào index\n",
    "courses[0] = 'Programming'\n",
    "```\n",
    "\n",
    "Bây giờ, chúng ta muốn thêm một môn học `Art` vào trong list trên, ta có một số cách sau:\n",
    "\n",
    "```python\n",
    "# Thêm một môn học Art vào cuối danh sách\n",
    "courses.append('Art')\n",
    "print(courses)   # ['History', 'Math', 'Physics', 'CompSci', 'Art']\n",
    "\n",
    "# Thêm vào một vị trí xác định trong danh sách\n",
    "courses.insert(1, 'Art')\n",
    "\n",
    "# append và insert chỉ thêm được một môn học\n",
    "# Nếu muốn thêm nhiều môn học vào trong danh sách sử dụng extend\n",
    "# Extend sẽ thêm vào cuối danh sách\n",
    "courses.extend(['Art', 'Education'])\n",
    "```\n",
    "\n",
    "{{< admonition type=notes title=\"Mutable và Immutable\" open=true >}}\n",
    "Các bạn có phát hiện ra điều gì lạ ở ví dụ trên không. Khi chúng ta sử dụng các phương thức với strings, thì nó không thay đổi string mà tạo ra một string mới. Ngược lại với list, nó lại áp dụng trực tiếp các thay đổi vào list ban đầu. Điều này là bởi vì list là cấu trúc dữ liệu dạng `mutable`. **Mutable** là cấu trúc dữ liệu mà ta có thể thực hiện các thao tác sửa đổi đối với đối tượng ban đầu.\n",
    "\n",
    "Trong Python:\n",
    "\n",
    "- Cấu trúc dữ liệu Mutable gồm có: List, Dictionary, Set.\n",
    "- Cấu trúc dữ liệu Immutable gồm có: String, Tuple.\n",
    "{{< /admonition >}}\n",
    "\n",
    "Sau khi nhìn lại danh sách trên, bạn chợt phát hiện ra mình thêm nhầm môn học và muốn xóa chúng đi thì ta cũng có một số cách như sau:\n",
    "\n",
    "```python\n",
    "# Danh sách môn học\n",
    "courses = ['History', 'Math', 'Physics', 'CompSci']\n",
    "\n",
    "# Xóa một môn học khỏi danh sách\n",
    "courses.remove('Math')\n",
    "\n",
    "# Xóa môn học cuối cùng, và trả về môn học bị xóa\n",
    "courses.pop()  # CompSci\n",
    "```\n",
    "\n",
    "Một số phương thức khác làm việc với list:\n",
    "\n",
    "```python\n",
    "# Xem một phần tử có nằm trong list hay không\n",
    "'Physics' in courses  # True\n",
    "\n",
    "# Nếu phần tử nằm trong list, ta đi\n",
    "# Xác định vị trí của phần tử đó\n",
    "courses.index('Physics')  # 2\n",
    "```\n",
    "\n",
    "```python\n",
    "# Đảo ngược thứ tự các phần tử trong list\n",
    "courses.reverse()\n",
    "\n",
    "# Sắp xếp các phần tử\n",
    "# reverse = FALSE là mặc định sắp xếp tăng dần\n",
    "courses.sort(reverse = FALSE)\n",
    "\n",
    "# Sắp xếp các phần tử mà không thay đổi list gốc\n",
    "# sorted() sẽ tạo ra một list mới được sắp xếp\n",
    "sorted(courses)\n",
    "\n",
    "# Giá trị nhỏ nhất, lớn nhất, tổng\n",
    "nums = [1, 7, 4, 10, 12]\n",
    "min(nums)   # 1\n",
    "max(nums)   # 12\n",
    "sum(nums)   # 34\n",
    "```\n",
    "\n",
    "Nội dung cuối cùng về list, bây giờ ta muốn chuyển tất cả các môn học trong danh sách trên thành một câu thay vì tách rời nhau thành các phần tử. \n",
    "\n",
    "```python\n",
    "# Phương thức join\n",
    "# 'chr' là ký tự phân tách các phần tử trong câu\n",
    "# 'chr'.join([my_list])\n",
    "course_str = ', '.join(courses) \n",
    "print(course_str)  # 'History, Math, Physics, CompSci' \n",
    "\n",
    "# Chuyển đổi ngược lại string thành list\n",
    "new_list = course_str.split(', ')\n",
    "print(new_list)\n",
    "```"
   ]
  },
  {
   "cell_type": "markdown",
   "metadata": {},
   "source": [
    "### 4.2. Tuples\n",
    "\n",
    "Tuples về cơ bản là giống với list, chúng ta có thể thực hiện các thao tác truy cập vào tuples và lấy ra các phần tử. Nhưng cũng có một số điểm khác biệt như:\n",
    "\n",
    "- Tuples được tạo bởi các phần tử bên trong `(...)` còn list thì sử dụng `[...]`\n",
    "- Tuples là Immutable, cho nên ta không thể thực hiện các thao tác và phương thức sửa đổi, làm thay đổi Tuples."
   ]
  },
  {
   "cell_type": "code",
   "execution_count": 30,
   "metadata": {},
   "outputs": [
    {
     "name": "stdout",
     "output_type": "stream",
     "text": [
      "list_1 = ['History', 'Math', 'Physics', 'CompSci']\n",
      "list_2 = ['History', 'Math', 'Physics', 'CompSci']\n"
     ]
    }
   ],
   "source": [
    "# List is mutable\n",
    "list_1 = ['History', 'Math', 'Physics', 'CompSci']\n",
    "list_2 = list_1\n",
    "\n",
    "# Xem kết quả của hai list\n",
    "print(f'{list_1 = }')\n",
    "print(f'{list_2 = }')"
   ]
  },
  {
   "cell_type": "code",
   "execution_count": 31,
   "metadata": {},
   "outputs": [
    {
     "name": "stdout",
     "output_type": "stream",
     "text": [
      "list_1 = ['Art', 'Math', 'Physics', 'CompSci']\n",
      "list_2 = ['Art', 'Math', 'Physics', 'CompSci']\n"
     ]
    }
   ],
   "source": [
    "# Thay đổi phần tử của list_1\n",
    "list_1[0] = 'Art'\n",
    "\n",
    "# Xem sự thay đổi trong cả hai list\n",
    "print(f'{list_1 = }')\n",
    "print(f'{list_2 = }')"
   ]
  },
  {
   "cell_type": "markdown",
   "metadata": {},
   "source": [
    "Bây giờ ta thử tạo một tuple tương tự list và thay đổi giá trị bên trong nó:"
   ]
  },
  {
   "cell_type": "code",
   "execution_count": 32,
   "metadata": {},
   "outputs": [
    {
     "name": "stdout",
     "output_type": "stream",
     "text": [
      "tuple_1 = ('History', 'Math', 'Physics', 'CompSci')\n",
      "tuple_2 = ('History', 'Math', 'Physics', 'CompSci')\n"
     ]
    }
   ],
   "source": [
    "# Tuple is immutable\n",
    "tuple_1 = ('History', 'Math', 'Physics', 'CompSci')\n",
    "tuple_2 = tuple_1\n",
    "\n",
    "# Xem kết quả \n",
    "print(f'{tuple_1 = }')\n",
    "print(f'{tuple_2 = }')"
   ]
  },
  {
   "cell_type": "code",
   "execution_count": 33,
   "metadata": {},
   "outputs": [
    {
     "ename": "TypeError",
     "evalue": "'tuple' object does not support item assignment",
     "output_type": "error",
     "traceback": [
      "\u001b[1;31m---------------------------------------------------------------------------\u001b[0m",
      "\u001b[1;31mTypeError\u001b[0m                                 Traceback (most recent call last)",
      "\u001b[1;32m~\\AppData\\Local\\Temp/ipykernel_16852/2956275389.py\u001b[0m in \u001b[0;36m<module>\u001b[1;34m\u001b[0m\n\u001b[0;32m      1\u001b[0m \u001b[1;31m# Thử thay đổi giá trị bên trong tuple\u001b[0m\u001b[1;33m\u001b[0m\u001b[1;33m\u001b[0m\u001b[0m\n\u001b[1;32m----> 2\u001b[1;33m \u001b[0mtuple_1\u001b[0m\u001b[1;33m[\u001b[0m\u001b[1;36m0\u001b[0m\u001b[1;33m]\u001b[0m \u001b[1;33m=\u001b[0m \u001b[1;34m'Art'\u001b[0m\u001b[1;33m\u001b[0m\u001b[1;33m\u001b[0m\u001b[0m\n\u001b[0m",
      "\u001b[1;31mTypeError\u001b[0m: 'tuple' object does not support item assignment"
     ]
    }
   ],
   "source": [
    "# Thử thay đổi giá trị bên trong tuple\n",
    "tuple_1[0] = 'Art'"
   ]
  },
  {
   "cell_type": "markdown",
   "metadata": {},
   "source": [
    "### 4.3. Sets\n",
    "\n",
    "Sets, hiểu đơn giản thì nó giống với một tập hợp gồm nhiều phần tử trong toán học. Các phần tử trong tập hợp là không có thứ tự vì thế ta không sử dụng index để truy cập và lấy ra các phần tử như với lists và tuples.\n",
    "\n",
    "Để tạo một set, ta sử dụng cú pháp `{item1, item2,...,itemN}`\n"
   ]
  },
  {
   "cell_type": "code",
   "execution_count": 38,
   "metadata": {},
   "outputs": [
    {
     "name": "stdout",
     "output_type": "stream",
     "text": [
      "{'History', 'Math', 'Physics', 'CompSci'}\n"
     ]
    }
   ],
   "source": [
    "# Sets\n",
    "cs_courses = {'History', 'Math', 'Physics', 'CompSci', 'Math'}\n",
    "\n",
    "# Các phần tử không theo thứ tự, không lặp lại\n",
    "print(cs_courses)"
   ]
  },
  {
   "cell_type": "code",
   "execution_count": 39,
   "metadata": {},
   "outputs": [
    {
     "ename": "TypeError",
     "evalue": "'set' object is not subscriptable",
     "output_type": "error",
     "traceback": [
      "\u001b[1;31m---------------------------------------------------------------------------\u001b[0m",
      "\u001b[1;31mTypeError\u001b[0m                                 Traceback (most recent call last)",
      "\u001b[1;32m~\\AppData\\Local\\Temp/ipykernel_16852/3984569593.py\u001b[0m in \u001b[0;36m<module>\u001b[1;34m\u001b[0m\n\u001b[0;32m      1\u001b[0m \u001b[1;31m# Thử truy cập các phần tử dựa vào index\u001b[0m\u001b[1;33m\u001b[0m\u001b[1;33m\u001b[0m\u001b[0m\n\u001b[1;32m----> 2\u001b[1;33m \u001b[0mprint\u001b[0m\u001b[1;33m(\u001b[0m\u001b[0mcs_courses\u001b[0m\u001b[1;33m[\u001b[0m\u001b[1;36m0\u001b[0m\u001b[1;33m]\u001b[0m\u001b[1;33m)\u001b[0m\u001b[1;33m\u001b[0m\u001b[1;33m\u001b[0m\u001b[0m\n\u001b[0m",
      "\u001b[1;31mTypeError\u001b[0m: 'set' object is not subscriptable"
     ]
    }
   ],
   "source": [
    "# Thử truy cập các phần tử dựa vào index\n",
    "print(cs_courses[0])"
   ]
  },
  {
   "cell_type": "code",
   "execution_count": 40,
   "metadata": {},
   "outputs": [
    {
     "data": {
      "text/plain": [
       "False"
      ]
     },
     "execution_count": 40,
     "metadata": {},
     "output_type": "execute_result"
    }
   ],
   "source": [
    "# Xem một phần tử có nằm trong set hay không\n",
    "'Art' in cs_courses"
   ]
  },
  {
   "cell_type": "markdown",
   "metadata": {},
   "source": [
    "Vì Sets mang ý nghĩa là các tập hợp, nên ta có thể thực hiện một số phép toán tập hợp với Sets như phép giao, phép hợp,..."
   ]
  },
  {
   "cell_type": "code",
   "execution_count": 46,
   "metadata": {},
   "outputs": [
    {
     "data": {
      "text/plain": [
       "{'History', 'Math'}"
      ]
     },
     "execution_count": 46,
     "metadata": {},
     "output_type": "execute_result"
    }
   ],
   "source": [
    "# Giả sử ta có hai tập hợp\n",
    "cs_courses = {'History', 'Math', 'Physics', 'CompSci'}\n",
    "art_courses = {'History', 'Math', 'Art', 'Design'}\n",
    "\n",
    "# Phép giao\n",
    "cs_courses.intersection(art_courses)"
   ]
  },
  {
   "cell_type": "code",
   "execution_count": 45,
   "metadata": {},
   "outputs": [
    {
     "data": {
      "text/plain": [
       "{'Art', 'CompSci', 'Design', 'History', 'Math', 'Physics'}"
      ]
     },
     "execution_count": 45,
     "metadata": {},
     "output_type": "execute_result"
    }
   ],
   "source": [
    "# Phép hợp\n",
    "cs_courses.union(art_courses)"
   ]
  },
  {
   "cell_type": "code",
   "execution_count": 47,
   "metadata": {},
   "outputs": [
    {
     "data": {
      "text/plain": [
       "{'CompSci', 'Physics'}"
      ]
     },
     "execution_count": 47,
     "metadata": {},
     "output_type": "execute_result"
    }
   ],
   "source": [
    "# Phép trừ\n",
    "cs_courses.difference(art_courses)"
   ]
  },
  {
   "cell_type": "markdown",
   "metadata": {},
   "source": [
    "Một điều cuối cùng về List, Tuple và Sets.\n",
    "\n",
    "```python\n",
    "# Tạo list rỗng\n",
    "empty_list = []\n",
    "empty_list = list()\n",
    "\n",
    "# Tạo tuples rỗng\n",
    "empty_tuple = ()\n",
    "empty_tuple = tuple()\n",
    "\n",
    "# Tuple có một phần tử\n",
    "first_tuple = 5, \n",
    "first_tuple = (5, )\n",
    "\n",
    "# Tạo sets rỗng\n",
    "# Không sử dụng {} vì đây là dictionary\n",
    "empty_set = set() \n",
    "```\n",
    "\n",
    "**Tóm lại, chúng ta:**\n",
    "\n",
    "- Sử dụng list khi muốn thực hiện tất cả các thao tác thêm bớt, sửa đổi các phần tử.\n",
    "- Sử dụng tuple nếu chỉ muốn truy cập vào các phần tử trong tuple.\n",
    "- Sử dụng set để loại bỏ các giá trị trùng lặp hoặc kiểm tra xem một giá trị có nằm trong một tập hợp hay không."
   ]
  },
  {
   "cell_type": "markdown",
   "metadata": {},
   "source": [
    "## 5. Dictionaries\n",
    "\n",
    "Khi nói về Dictionaries, ta có thể tưởng tượng nó là tập hợp các cặp giá trị bao gồm keys và values. Ví dụ cặp `'name':'Andy'` thì `name` là key còn `Andy` là value. Trong dictionary thì key là giá trị không thể thay đổi - `immutable` và không được trùng lặp với các cặp giá trị khác.\n",
    "\n",
    "```python\n",
    "# Tạo dictionary rỗng\n",
    "my_dict = {}\n",
    "my_dict = dict()\n",
    "```"
   ]
  },
  {
   "cell_type": "code",
   "execution_count": 48,
   "metadata": {},
   "outputs": [
    {
     "name": "stdout",
     "output_type": "stream",
     "text": [
      "{'name': 'Andy', 'age': 28, 'course': ['Math', 'CompSci']}\n"
     ]
    }
   ],
   "source": [
    "# Tạo dictionary có phần tử\n",
    "student = {'name': 'Andy', 'age': 28, 'course': ['Math', 'CompSci']}\n",
    "print(student)"
   ]
  },
  {
   "cell_type": "markdown",
   "metadata": {},
   "source": [
    "Chúng ta sử dụng các keys để truy cập vào các phần tử của dictionary."
   ]
  },
  {
   "cell_type": "code",
   "execution_count": 51,
   "metadata": {},
   "outputs": [
    {
     "name": "stdout",
     "output_type": "stream",
     "text": [
      "dict_keys(['name', 'age', 'course'])\n"
     ]
    }
   ],
   "source": [
    "# Danh sách các key\n",
    "st_key = student.keys()\n",
    "print(st_key)"
   ]
  },
  {
   "cell_type": "code",
   "execution_count": 60,
   "metadata": {},
   "outputs": [
    {
     "name": "stdout",
     "output_type": "stream",
     "text": [
      "Names: Andy\n",
      "Age:  28\n",
      "Courses:  ['Math', 'CompSci']\n"
     ]
    }
   ],
   "source": [
    "# Truy cập vào các phần tử\n",
    "# Không tìm thấy key sẽ trả về lỗi\n",
    "print('Names:', student['name'])\n",
    "print('Age: ', student['age'])\n",
    "print('Courses: ', student['course'])"
   ]
  },
  {
   "cell_type": "code",
   "execution_count": 59,
   "metadata": {},
   "outputs": [
    {
     "data": {
      "text/plain": [
       "'Andy'"
      ]
     },
     "execution_count": 59,
     "metadata": {},
     "output_type": "execute_result"
    }
   ],
   "source": [
    "# Tương tự ta có thể sử dụng phương thức get\n",
    "# Để truy cập vào các phần tử\n",
    "# Nếu không tìm thấy key, get trả về None\n",
    "student.get('name')"
   ]
  },
  {
   "cell_type": "markdown",
   "metadata": {},
   "source": [
    "Tiếp theo, ta muốn thêm một phần tử mới vào trong dictionary, ta sử dụng cú pháp sau: `my_dict['new_key'] = value`"
   ]
  },
  {
   "cell_type": "code",
   "execution_count": 62,
   "metadata": {},
   "outputs": [
    {
     "name": "stdout",
     "output_type": "stream",
     "text": [
      "{'name': 'Sophia', 'age': 28, 'course': ['Math', 'CompSci'], 'phone': '+84345025687'}\n"
     ]
    }
   ],
   "source": [
    "# Thêm số điện thoại \n",
    "student['phone'] = '+84345025687'\n",
    "\n",
    "# Sửa đổi tên\n",
    "student['name'] = 'Sophia'\n",
    "print(student)"
   ]
  },
  {
   "cell_type": "code",
   "execution_count": 66,
   "metadata": {},
   "outputs": [
    {
     "name": "stdout",
     "output_type": "stream",
     "text": [
      "{'name': 'Andy', 'course': ['Math', 'CompSci'], 'phone': '555-5555', 'age': '29'}\n"
     ]
    }
   ],
   "source": [
    "# Chúng ta có thể sử dụng phương thức update để thay đổi giá trị của nhiều key\n",
    "# Nếu key không tồn tại sẽ được thêm vào\n",
    "student.update({'name': 'Andy', 'age': '29', 'phone': '555-5555'})\n",
    "print(student)"
   ]
  },
  {
   "cell_type": "markdown",
   "metadata": {},
   "source": [
    "Tiếp theo, ta có thể xóa một phần tử khỏi dictionary bằng cú pháp: `del my_dict['key]` hoặc `my_dict.pop('key')` nếu muốn trả về giá trị bị xóa."
   ]
  },
  {
   "cell_type": "code",
   "execution_count": 67,
   "metadata": {},
   "outputs": [
    {
     "name": "stdout",
     "output_type": "stream",
     "text": [
      "{'name': 'Andy', 'course': ['Math', 'CompSci'], 'phone': '555-5555'}\n"
     ]
    }
   ],
   "source": [
    "# Xóa age khỏi student\n",
    "del student['age']\n",
    "print(student)"
   ]
  },
  {
   "cell_type": "markdown",
   "metadata": {},
   "source": [
    "**Một số phương thức và thuộc tính khác:**\n",
    "\n",
    "```python\n",
    "# Danh sách key\n",
    "student.keys()\n",
    "\n",
    "# Danh sách giá trị\n",
    "student.values()\n",
    "\n",
    "# Danh sách cặp key - value\n",
    "student.items()\n",
    "```"
   ]
  },
  {
   "cell_type": "markdown",
   "metadata": {},
   "source": [
    "## 6. Conditionals và Booleans\n",
    "\n",
    "### 6.1. Các toán tử so sánh\n",
    "\n",
    "- Toán tử so sánh: _==, !=, >, >=, <, <=_\n",
    "- So sánh về mặt đối tượng: _is, is not_\n",
    "- Toán tử boolean: _and, or, not, and not, or not_\n",
    "- Toán tử: _in, not in_\n",
    "\n",
    "### 6.2. Cú pháp\n",
    "\n",
    "```python\n",
    "# Câu lệnh đơn giản\n",
    "if <dieu_kien>:\n",
    "    # Nếu điều kiện trả về True\n",
    "    # Thực thi câu lệnh\n",
    "\n",
    "# If...else\n",
    "if <dieu_kien>:\n",
    "    # Nếu điều kiện trả về True\n",
    "    # Thực thi câu lệnh\n",
    "else:\n",
    "    # Nếu điều kiện trả về False\n",
    "    # Thự thi câu lệnh\n",
    "```\n",
    "\n",
    "```python\n",
    "# if...elif...else\n",
    "if <dieu_kien_1>:\n",
    "    # Nếu điều kiện 1 trả về True\n",
    "    # Thực thi câu lệnh\n",
    "elif <dieu_kien_2>:\n",
    "    # Nếu điều kiện 2 trả về True\n",
    "    # Thực thi câu lệnh\n",
    "else:\n",
    "    # Nếu các điều kiện trả về False\n",
    "    # Thực thi câu lệnh\n",
    "\n",
    "# if rút gọn\n",
    "<value_if_True> if <dieu_kien> else <value_if_False>\n",
    "```\n",
    "\n",
    "{{< admonition type=notes title=\"Cấu trúc Match - Case\" open=false >}}\n",
    "Đây là một cấu trúc mới xuất hiện trong Python 3.10. Thay vì kiểm tra các điều kiện như câu lệnh `if`, nó kiểm tra các trường hợp có thể xảy ra. Cú pháp:\n",
    "\n",
    "```python\n",
    "my_var = 10\n",
    "match my_var:\n",
    "    case value_1:\n",
    "        # Do something\n",
    "    case value_2:\n",
    "        # Do something\n",
    "    case _:\n",
    "        # Thực hiện nếu tất cả các lệnh trên bị bỏ qua\n",
    "```\n",
    "{{< /admonition >}}\n",
    "\n",
    "### 6.3. Một số lưu ý\n",
    "\n",
    "{{< admonition type=notes title=\"Lưu ý 1:\" open=true >}}\n",
    "Khi so sánh hai iterable cùng loại, Python sẽ lấy lần lượt từng phần tử trong iterable ra để so sánh:\n",
    "\n",
    "```python\n",
    "'Kteam' == \"Kteam\" # True\n",
    "'Free' == 'Education' # False\n",
    "```\n",
    "{{< /admonition >}}\n",
    "\n",
    "{{< admonition type=notes title=\"Toán tử == và toán tử is\" open=true >}}\n",
    "Toán tử `==` được sử dụng để so sánh hai đối tượng về mặt giá trị. Toán tử `is` được sử dụng để so sánh xem hai đối tượng có cùng vị trí trong bộ nhớ hay không.\n",
    "\n",
    "Với các tập hợp các phần tử có thứ tự xác định, toán tử `==` sẽ so sánh các phần tử tương ứng với từng vị trí cụ thế. Ngược lại với các tập hợp mà các phần tử không có thứ tự xác định, nó sẽ dựa vào giá trị bên trong.\n",
    "\n",
    "```python\n",
    "# Ví dụ 1\n",
    "a = [10, 20, 30]\n",
    "b = [10, 20, 30]\n",
    "a is b # False\n",
    "a == b # True\n",
    "\n",
    "# Ví dụ 2:\n",
    "a = (10, 20, 30)\n",
    "b = (20, 10, 30)\n",
    "a == b # False\n",
    "\n",
    "# Ví dụ 3\n",
    "a = {10, 20, 30}\n",
    "b = {30, 20, 10}\n",
    "print(a is b, a == b) # False, True\n",
    "\n",
    "# Ví dụ 4\n",
    "a = {'a': 1, 200: 'two hundred'}\n",
    "b = {200: 'two hundred', 'a': 1}\n",
    "print(a is b, a == b) # False, True\n",
    "```\n",
    "{{< /admonition >}}\n",
    "\n",
    "{{< admonition type=notes title=\"Đối tượng singleton\" open=true >}}\n",
    "Theo mặc định các số nguyên từ -5 đến 256 (đối tượng singleton) được Python tạo sẵn, vì vậy nó có địa chỉ xác định. Nên khi ta sử dụng toán tử `is` để so sánh hoặc sử dụng `id(num)` để kiểm tra vị trí thì nó luôn cố định.\n",
    "\n",
    "Một số đối tượng singleton khác như: *True, False, None*. Với những đối tượng này, ta nên sử dụng toán tử `is` thay vì sử dụng `==`.\n",
    "{{< /admonition >}}\n",
    "\n",
    "{{< admonition type=notes title=\"Kiểu boolean\" open=true >}}\n",
    "Khi nhắc đến kiểu dữ liệu boolean, mọi thứ biểu thị giá trị `0`, rỗng, `None`,...sẽ được hiểu là False. Ngược lại là True.\n",
    "\n",
    "```python\n",
    "bool(0), bool(-1), bool(1), bool(100) # (False, True, True, True)\n",
    "bool(None) # False\n",
    "```\n",
    "{{< /admonition >}}\n"
   ]
  },
  {
   "cell_type": "markdown",
   "metadata": {},
   "source": [
    "## 7. Loops và Iterations\n",
    "\n",
    "### 7.1. Vòng lặp for\n",
    "\n",
    "```python\n",
    "# Cú pháp\n",
    "# iterable: string, list, tuple, dictionary, set, range()\n",
    "# iterable: Là một đối tượng, có khả năng lặp qua từng phần tử \n",
    "for var in iterable:\n",
    "    # Thực thi các câu lệnh\n",
    "\n",
    "else: # Có thể có hoặc không\n",
    "    # Nếu vòng lặp không bị break\n",
    "    # Thì thực thi else sau khi kết thúc vòng lặp \n",
    "```\n",
    "\n",
    "### 7.2. Vòng lặp while\n",
    "\n",
    "```python\n",
    "# Cú pháp\n",
    "while <dieu_kien>:\n",
    "    # Thực thi cho đến khi điều kiện trả về False\n",
    "\n",
    "else: # Có thể có hoặc không\n",
    "    # Nếu vòng lặp không bị break\n",
    "    # Thì thực thi else sau khi kết thúc vòng lặp \n",
    "```\n",
    "### 7.3. break, continue và pass\n",
    "\n",
    "- break: thoát khỏi vòng lặp trong cùng chứa nó.\n",
    "- continue: thoát khỏi lượt lặp hiện tại, chuyển sang lượt lặp tiếp theo.\n",
    "- pass: Không thực thi gì hết, chỉ mang ý nghĩa giữ chỗ.\n",
    "\n",
    "> Nếu sử dụng câu lệnh `try-finally` bên trong vòng lặp, thì `finally` luôn luôn thực thi, dù cho vòng lặp gặp phải break hoặc continue.\n",
    "\n",
    "### 7.4. range, zip và enumerate\n"
   ]
  },
  {
   "cell_type": "code",
   "execution_count": 68,
   "metadata": {},
   "outputs": [
    {
     "name": "stdout",
     "output_type": "stream",
     "text": [
      "0\n",
      "1\n",
      "2\n",
      "3\n"
     ]
    }
   ],
   "source": [
    "# range(n) tạo ra một dãy số từ 0 -> n-1\n",
    "for i in range(4):\n",
    "    print(i)"
   ]
  },
  {
   "cell_type": "code",
   "execution_count": 69,
   "metadata": {},
   "outputs": [
    {
     "name": "stdout",
     "output_type": "stream",
     "text": [
      "2\n",
      "3\n",
      "4\n",
      "5\n"
     ]
    }
   ],
   "source": [
    "# range(start, end) tạo ra một dãy số từ start đến end-1\n",
    "for i in range(2, 6):\n",
    "    print(i)"
   ]
  },
  {
   "cell_type": "code",
   "execution_count": 70,
   "metadata": {},
   "outputs": [
    {
     "name": "stdout",
     "output_type": "stream",
     "text": [
      "a 5\n",
      "b 10\n",
      "c 15\n"
     ]
    }
   ],
   "source": [
    "# zip() kết hợp các phần tử ở vị trí tương ứng của iterator\n",
    "a = ['a', 'b', 'c']\n",
    "b = [5, 10, 15]\n",
    "\n",
    "# for với zip()\n",
    "# zip(a, b) = [('a', 5), ('b', 10), ('c', 15)]\n",
    "for (m, n) in zip(a, b):\n",
    "    print(m, n)"
   ]
  },
  {
   "cell_type": "code",
   "execution_count": 71,
   "metadata": {},
   "outputs": [
    {
     "name": "stdout",
     "output_type": "stream",
     "text": [
      "0 monday\n",
      "1 tuesday\n",
      "2 sunday\n"
     ]
    }
   ],
   "source": [
    "# enumerate tạo ra một list các cặp (index, value)\n",
    "my_list = ['monday', 'tuesday', 'sunday']\n",
    "# enumerate(my_list) = [(0, 'monday'), (1, 'tuesday'), (2, 'sunday')]\n",
    "\n",
    "for key, value in enumerate(my_list):\n",
    "    print(key, value)"
   ]
  },
  {
   "cell_type": "markdown",
   "metadata": {},
   "source": [
    "## 8. Functions\n",
    "\n",
    "Functions ta có thể hiểu đơn giản giống như các hàm trong toán học, nó nhận vào một số tham số sau đó thực hiện tính toán và trả về một giá trị nào đó. \n",
    "\n",
    "Chúng ta thường sử dụng hàm khi muốn gom nhiều dòng code có khả năng sử dụng lặp đi lặp lại nhiều lần. Khi đó ta chỉ cần gọi hàm thay vì phải code lại từ đầu tất cả mọi thứ.  \n",
    "\n",
    "### 8.1. Tạo hàm\n",
    "\n",
    "Cú pháp:\n",
    "\n",
    "```python\n",
    "# function_name là tên hàm\n",
    "# parameters là các tham số của hàm\n",
    "# my_results là kết quả mà hàm trả về\n",
    "def function_name(parameters):\n",
    "    # Do something\n",
    "    return my_result\n",
    "```\n",
    "\n",
    "Chúng ta hãy bắt đầu với một hàm đơn giản không chứa tham số nào hết:\n",
    "\n",
    "```python\n",
    "# Định nghĩa hàm hello_func()\n",
    "def hello_func():\n",
    "    # pass: không làm gì hết, chỉ mang ý nghĩa giữ chỗ\n",
    "    pass\n",
    "\n",
    "# Gọi hàm:\n",
    "hello_func()\n",
    "```\n",
    "\n",
    "Bây giờ chúng ta sẽ thêm một cái gì đó vào hàm, ví dụ một câu chào:"
   ]
  },
  {
   "cell_type": "code",
   "execution_count": 1,
   "metadata": {},
   "outputs": [
    {
     "name": "stdout",
     "output_type": "stream",
     "text": [
      "Hello Function!\n"
     ]
    }
   ],
   "source": [
    "# Thêm nội dung vào function\n",
    "def hello_func():\n",
    "    print('Hello Function!')\n",
    "\n",
    "# Thử chạy nào\n",
    "hello_func()"
   ]
  },
  {
   "cell_type": "code",
   "execution_count": 2,
   "metadata": {},
   "outputs": [
    {
     "data": {
      "text/plain": [
       "'Hello Function!'"
      ]
     },
     "execution_count": 2,
     "metadata": {},
     "output_type": "execute_result"
    }
   ],
   "source": [
    "# Thay vì sử dụng hàm print ta sử dụng return\n",
    "def hello_func():\n",
    "    return 'Hello Function!'\n",
    "\n",
    "# Thử chạy nào\n",
    "hello_func()"
   ]
  },
  {
   "cell_type": "markdown",
   "metadata": {},
   "source": [
    "Bây giờ, thay vì trả về một câu chào như `Hello Function!`, bạn muốn hàm của chúng ta có thể trả về những câu khác mà bạn truyền vào hàm. Ta cần sửa đổi một chút:"
   ]
  },
  {
   "cell_type": "code",
   "execution_count": 3,
   "metadata": {},
   "outputs": [
    {
     "data": {
      "text/plain": [
       "'Hi Function!'"
      ]
     },
     "execution_count": 3,
     "metadata": {},
     "output_type": "execute_result"
    }
   ],
   "source": [
    "# Thêm các tham số\n",
    "def hello_func(greeting):\n",
    "    return f'{greeting} Function!'\n",
    "\n",
    "# Chạy thử nào\n",
    "hello_func('Hi')"
   ]
  },
  {
   "cell_type": "code",
   "execution_count": 4,
   "metadata": {},
   "outputs": [
    {
     "data": {
      "text/plain": [
       "'Hello, Andy'"
      ]
     },
     "execution_count": 4,
     "metadata": {},
     "output_type": "execute_result"
    }
   ],
   "source": [
    "# Thêm tham số mới\n",
    "def hello_func(greeting, name):\n",
    "    return f'{greeting}, {name}'\n",
    "\n",
    "# Gọi hàm\n",
    "hello_func('Hello', 'Andy')"
   ]
  },
  {
   "cell_type": "markdown",
   "metadata": {},
   "source": [
    "Hàm có thể có các tham số mang giá trị mặc định, mà khi gọi hàm nếu ta không truyền giá trị cho nó thì nó sẽ sử dụng giá trị này, ngược lại nếu ta truyền giá trị cho nó thì nó sẽ sử dụng giá trị được truyền vào."
   ]
  },
  {
   "cell_type": "code",
   "execution_count": 5,
   "metadata": {},
   "outputs": [
    {
     "data": {
      "text/plain": [
       "'Hi, Peace'"
      ]
     },
     "execution_count": 5,
     "metadata": {},
     "output_type": "execute_result"
    }
   ],
   "source": [
    "# Hàm với tham số có giá trị mặc định\n",
    "def hello_func(greeting, name = \"Peace\"):\n",
    "    return f'{greeting}, {name}'\n",
    "\n",
    "# Gọi hàm mà không truyền tham số cho name\n",
    "hello_func('Hi')"
   ]
  },
  {
   "cell_type": "markdown",
   "metadata": {},
   "source": [
    "### 8.2. *args và **kwargs\n",
    "\n",
    "Đôi khi bạn sẽ gặp các hàm với tham số là `*args` và `**kwargs` thì ta có thể hiểu đơn giản thế này: Hai tham số này, đại diện cho số lượng các tham số không được xác định khi truyền vào hàm, nghĩa là ta có thể truyền bao nhiêu tùy ý. \n",
    "\n",
    "_**Args**_ thường đại diện cho một tuple, và **_kwargs_** thường đại diện cho một dictionary. Trước khi đi vào giải thích hai đối số này ta làm quen với khái niệm _unpacking_:"
   ]
  },
  {
   "cell_type": "code",
   "execution_count": 11,
   "metadata": {},
   "outputs": [
    {
     "name": "stdout",
     "output_type": "stream",
     "text": [
      "green = 'apple'\n",
      "yellow = 'banana'\n",
      "red = 'cherry'\n"
     ]
    }
   ],
   "source": [
    "# Giả sử ta có một tuple như sau:\n",
    "fruits = (\"apple\", \"banana\", \"cherry\")\n",
    "\n",
    "# Unpacking tuple\n",
    "green, yellow, red = fruits\n",
    "\n",
    "# Kết quả\n",
    "print(f'{green = }')\n",
    "print(f'{yellow = }')\n",
    "print(f'{red = }')"
   ]
  },
  {
   "cell_type": "code",
   "execution_count": 15,
   "metadata": {},
   "outputs": [
    {
     "name": "stdout",
     "output_type": "stream",
     "text": [
      "green = 'apple'\n",
      "yellow = 'banana'\n",
      "red = ['cherry', 'strawberry', 'raspberry']\n",
      "*read =  cherry strawberry raspberry\n"
     ]
    }
   ],
   "source": [
    "# Unpacking sử dụng *\n",
    "# Giả sử ta có tuple\n",
    "fruits = (\"apple\", \"banana\", \"cherry\", \"strawberry\", \"raspberry\")\n",
    "(green, yellow, *red) = fruits\n",
    "\n",
    "# Xem kết quả\n",
    "# Kết quả\n",
    "print(f'{green = }')\n",
    "print(f'{yellow = }')\n",
    "\n",
    "\n",
    "# \n",
    "print(f'{red = }')\n",
    "print('*read = ', *red)"
   ]
  },
  {
   "cell_type": "markdown",
   "metadata": {},
   "source": [
    "Như bạn thấy, giả sử args là một tuple, thì khi ta unpacking nó vào trong hàm với `*args`, thì mỗi một phần tử của tuple sẽ trở thành một tham số của hàm. Tương tự thì `**kwargs` cũng hoạt động giống như vậy, nhưng vì kwargs là dictionary, nên nó sẽ trở thành các tham số mang giá trị mặc định (keys trở thành tham số, values trở thành giá trị mặc định của tham số đó)."
   ]
  },
  {
   "cell_type": "code",
   "execution_count": 18,
   "metadata": {},
   "outputs": [
    {
     "name": "stdout",
     "output_type": "stream",
     "text": [
      "('Math', 'Art')\n",
      "{'name': 'Andy', 'age': 22}\n"
     ]
    }
   ],
   "source": [
    "# Ví dụ\n",
    "def student_info(*args, **kwargs):\n",
    "    print(args)\n",
    "    print(kwargs)\n",
    "\n",
    "# Khi ta truyền tham số\n",
    "# Những tham số không sử dụng key sẽ là một phần tử của args\n",
    "# Những tham số mà sử dụng key sẽ thành một phần tử của kwargs\n",
    "student_info('Math', 'Art', name = 'Andy', age = 22)"
   ]
  },
  {
   "cell_type": "code",
   "execution_count": 19,
   "metadata": {},
   "outputs": [
    {
     "name": "stdout",
     "output_type": "stream",
     "text": [
      "('Math', 'Art')\n",
      "{'name': 'Andy', 'age': 25}\n"
     ]
    }
   ],
   "source": [
    "# Ta cũng có thể truyền các tham số kiểu args và kwargs\n",
    "course = ['Math', 'Art']\n",
    "info = {'name': 'Andy', 'age': 25}\n",
    "student_info(*course, **info)"
   ]
  },
  {
   "cell_type": "markdown",
   "metadata": {},
   "source": [
    "### 8.3. Hàm ẩn danh lambda\n",
    "\n",
    "Hàm ẩn danh là một hàm giống hàm Python bình thường, nhưng khác biệt là chúng ta có thể định nghĩa mà không cần tên hàm và chỉ được định nghĩa trên một dòng. \n",
    "\n",
    "Cú pháp:\n",
    "\n",
    "```python\n",
    "# arguments: đối số\n",
    "# expression: kết quả trả về\n",
    "lambda arguments: expression\n",
    "```\n",
    "\n",
    "Ví dụ:\n",
    "\n",
    "```python\n",
    "# Hàm square\n",
    "squares = lambda x: x*x\n",
    "\n",
    "# Gọi hàm\n",
    "print('Using lambda: ', squares(5))\n",
    "```\n",
    "\n",
    "{{< admonition type=notes title=\"Lưu ý\" open=true >}}\n",
    "Một số lưu ý khi định nghĩa hàm ẩn danh:\n",
    "\n",
    "- Hàm ẩn danh không thể chứa các câu lệnh như `return, raise, pass...`\n",
    "- Hàm ẩn danh chỉ chứa một biểu thức duy nhất.\n",
    "- Hàm ẩn danh có thể được gọi trực tiếp mà không cần tên biến như ví dụ trên.\n",
    "\n",
    "{{< /admonition >}}\n",
    "\n",
    "Một số ví dụ khác với hàm ẩn danh:\n",
    "\n",
    "```python\n",
    "# Positional arguments\n",
    "add = lambda x, y, z: x + y + z\n",
    "print(add(2, 3, 4))\n",
    "# Prints 9\n",
    "\n",
    "# Keyword arguments\n",
    "add = lambda x, y, z: x + y + z\n",
    "print(add(2, z = 3, y = 4))\n",
    "# Prints 9\n",
    "\n",
    "# Default arguments\n",
    "add = lambda x, y = 3, z = 4: x + y + z\n",
    "print(add(2))\n",
    "# Prints 9\n",
    "\n",
    "# *args\n",
    "add = lambda *args: sum(args)\n",
    "print(add(2, 3, 4))\n",
    "# Prints 9\n",
    "\n",
    "# **args\n",
    "add = lambda **kwargs: sum(kwargs.values())\n",
    "print(add(x = 2, y = 3, z = 4))\n",
    "# Prints 9\n",
    "```"
   ]
  },
  {
   "cell_type": "markdown",
   "metadata": {},
   "source": [
    "### 8.4. Map và filter\n",
    "\n",
    "Một hàm nhận một hàm khác làm đối số, hoặc trả về một hàm được gọi là _higher-order functions_.\n",
    "\n",
    "**Hàm Map**\n",
    "\n",
    "Cú pháp:\n",
    "\n",
    "```python\n",
    "# Áp dụng một hàm cho từng phần tử của iterable\n",
    "map(func, iterable)\n",
    "\n",
    "# Ví dụ 1\n",
    "def fact(n):\n",
    "    return 1 if n < 2 else n * fact(n-1)\n",
    "\n",
    "# Hàm map trả về một đối tượng map\n",
    "# Vì vậy phải dùng list để xem kết quả\n",
    "l = list(map(fact, [1, 2, 3, 4, 5]))\n",
    "```\n",
    "\n",
    "```python\n",
    "# Ví dụ 2, kết hợp map với lambda\n",
    "l1 = [1, 2, 3, 4, 5]\n",
    "l2 = [10, 20, 30, 40, 50]\n",
    "m = map(lambda x, y: x+y, l1, l2)\n",
    "list(m)\n",
    "```\n",
    "\n",
    "**Hàm Filter**\n",
    "\n",
    "Hàm `filter()` sẽ áp dụng một hàm lọc (hàm trả về `True` hoặc `False`) cho từng phần tử của iterable, và trả về những phần tử thỏa mãn điều kiện lọc.\n",
    "\n",
    "```python\n",
    "# Cú pháp tương tự map\n",
    "filter(func, iterable)\n",
    "\n",
    "# Ví dụ\n",
    "def is_even(n):\n",
    "    return n % 2 == 0\n",
    "\n",
    "# Lọc những giá trị chia hết cho 2\n",
    "l = [1, 2, 3, 4, 5, 6, 7, 8, 9]\n",
    "result = filter(is_even, l)\n",
    "print(list(result))\n",
    "```"
   ]
  },
  {
   "cell_type": "markdown",
   "metadata": {},
   "source": [
    "## 9. List comprehension\n",
    "\n",
    "List comprehension hiểu đơn giản là cách ta viết lại các dòng code ở dạng ngắn gọn hơn.\n",
    "\n",
    "### 9.1. Cú pháp đơn giản\n",
    "\n",
    "```python\n",
    "# Dạng 1: Đơn giản\n",
    "[Expression for var in iterable]\n",
    "```\n",
    "\n",
    "Ví dụ:\n",
    "\n",
    "```python\n",
    "# Giả sử ta có list\n",
    "nums = [1, 2, 3, 4, 5, 6, 7, 8]\n",
    "\n",
    "# Viết bình thường\n",
    "my_list = []\n",
    "for n in nums:\n",
    "    nums.append(n*n)\n",
    "\n",
    "# Viết bằng list comprehension\n",
    "my_list = [n*n for n in nums]\n",
    "\n",
    "# Viết bằng map + lambda\n",
    "my_list = map(lambda n: n*n, nums)\n",
    "```\n",
    "\n",
    "### 9.2. List comprehension với if\n",
    "\n",
    "```python\n",
    "# Dạng 2: Một điều kiện if\n",
    "[Expression for var in iterable if conditional]\n",
    "\n",
    "# Nhiều điều kiện if\n",
    "# Trả về giá trị nếu tất cả các điều kiện đều đúng\n",
    "output = [expression for element in list_1 if condition_1 if condition_2]\n",
    "```\n",
    "\n",
    "Ví dụ:\n",
    "\n",
    "```python\n",
    "# Giả sử ta có list\n",
    "nums = [1, 2, 3, 4, 5, 6, 7, 8]\n",
    "\n",
    "# Viết bình thường\n",
    "my_list = []\n",
    "for n in nums:\n",
    "    if n % 2 == 0:\n",
    "        my_list.append(n)\n",
    "\n",
    "# Viết bằng list comprehension\n",
    "my_list = [n for n in nums if n % 2 == 0]\n",
    "\n",
    "# Viết bằng filter + lambda\n",
    "my_list = filter(lambda n: n % 2 == 0, nums)\n",
    "```\n",
    "\n",
    "```python\n",
    "list_1 = [7, 2, -8, 6, 2, 15, 4, -2, 3, 9]\n",
    "list_2 = [ x for x in list_1 if x > 0 if x % 3 == 0 ]\n",
    "print(list_2)\n",
    "```"
   ]
  },
  {
   "cell_type": "markdown",
   "metadata": {},
   "source": [
    "### 9.3. Nested list comprehension\n",
    "\n",
    "```python\n",
    "# Dạng 3: Nested list comprehension\n",
    "[Expression for var in iterable for var2 in iterable2]\n",
    "```\n",
    "\n",
    "Ví dụ:\n",
    "\n",
    "```python\n",
    "# I want a (letter, num) pair for each letter in 'abcd' and each number in '0123'\n",
    "my_list = []\n",
    "for letter in 'abcd':\n",
    "    for num in range(4):\n",
    "        my_list.append((letter, num))\n",
    "\n",
    "# Sử dụng list comprehension\n",
    "my_list = [(letter, num) for letter in 'abcd' for num in range(4)]\n",
    "```"
   ]
  },
  {
   "cell_type": "markdown",
   "metadata": {},
   "source": [
    "### 9.4. List comprehension với if-else\n",
    "\n",
    "```python\n",
    "# Dạng 4: List comprehension with if-else\n",
    "[value1 if conditional else value2 for var in iterable]\n",
    "```\n",
    "\n",
    "Ví dụ:\n",
    "\n",
    "```python\n",
    "# Viết bình thường\n",
    "fruits = []\n",
    "for i in range(10):\n",
    "    if i % 3 == 0:\n",
    "        fruits.append('mango')\n",
    "    else:\n",
    "        fruits.append('orange')\n",
    "\n",
    "# List comprehension\n",
    "fruits = [\"mango\" if i % 3 == 0 else \"orange\" for i in range(10)]\n",
    "print(fruits)\n",
    "```"
   ]
  },
  {
   "cell_type": "markdown",
   "metadata": {},
   "source": [
    "### 9.5. Dict comprehension\n",
    "\n",
    "```python\n",
    "# Dictionary Comprehensions\n",
    "names = ['Bruce', 'Clark', 'Peter', 'Logan', 'Wade']\n",
    "heros = ['Batman', 'Superman', 'Spiderman', 'Wolverine', 'Deadpool']\n",
    "# print zip(names, heros)\n",
    "\n",
    "# I want a dict{'name': 'hero'} for each name,hero in zip(names, heros)\n",
    "my_dict = {}\n",
    "for name, hero in zip(names, heros):\n",
    "    my_dict[name] = hero\n",
    "\n",
    "# Dict comprehension\n",
    "my_dict = {name: hero for name, hero in zip(names, heros)}\n",
    "```"
   ]
  },
  {
   "cell_type": "markdown",
   "metadata": {},
   "source": [
    "## 10. OOP\n",
    "\n",
    "### 10.1. Class và Object là gì?\n",
    "\n",
    "Trong phần này, chúng ta không đi sâu về lập trình hướng đối tượng, nói thật sự thì mình cũng không giỏi giải thích các khái niệm cho lắm. Để bắt đầu, chúng ta hãy nghĩ về những con người mà mình sẽ gọi đây là một đối tượng **_(object)_**. \n",
    "\n",
    "Mỗi người thì thường có những đặc tính khác nhau ví dụ như tên, tuổi, chiều cao, màu tóc,...Và đã là con người thì đa số đều sẽ có thể thực hiện được một số việc như đi bộ, chạy, nói chuyện,...\n",
    "\n",
    "Những đặc tính của con người mình gọi là thuộc tính của đối tượng **_(attribute)_** còn những hoạt động của con người mình gọi là phương thức **_(method)_**.\n",
    "\n",
    "Như vậy, ta có thể liên hệ đối tượng trong lập trình hướng đối tượng với các đối tượng trong thực tế ví dụ như con người, con mèo, laptop,...Và điểm chung của các đối tượng là đều gồm hai thành phần chính:\n",
    "\n",
    "- Thuộc tính _(attribute)_: Những thông tin, đặc điểm miêu tả về đối tượng.\n",
    "- Phương thức _(method)_: Những hành động mà đối tượng có thể thực hiện.\n",
    "\n",
    "Khi các đối tượng có những đặc tính và phương thức giống nhau, ta sẽ gom chúng lại thành một lớp các đối tượng gọi là **_Class_**. Ví dụ như class con chó, class con mèo. Và đối tượng của class con chó có thể là _chó Pug, chó Poodle, chó Husky,_...\n",
    "\n",
    "### 10.2. Tạo một class đơn giản\n",
    "\n",
    "Quay lại với class con người, chúng ta sẽ bắt tay vào tạo một class đơn giản:"
   ]
  },
  {
   "cell_type": "code",
   "execution_count": 1,
   "metadata": {},
   "outputs": [],
   "source": [
    "class Person:\n",
    "    # Tạm thời chưa thêm thông tin gì\n",
    "    pass"
   ]
  },
  {
   "cell_type": "markdown",
   "metadata": {},
   "source": [
    "Tiếp theo, chúng ta sẽ thêm các thuộc tính cho class Person ở trên bằng phương thức `__init__()`. Lưu ý định nghĩa một phương thức trong class tương tự như khi chúng ta định nghĩa một function."
   ]
  },
  {
   "cell_type": "code",
   "execution_count": 2,
   "metadata": {},
   "outputs": [],
   "source": [
    "class Person:\n",
    "\n",
    "    # Thêm các thuộc tính cho con người\n",
    "    # Tham số đầu tiên bắt buộc phải là self\n",
    "    # self đại diện cho đối tượng\n",
    "    # name, age, company là thuộc tính, chúng không cần phải giống với tên tham số\n",
    "    def __init__(self, name, age, company):\n",
    "        self.name = name\n",
    "        self.age = age\n",
    "        self.company = company"
   ]
  },
  {
   "cell_type": "markdown",
   "metadata": {},
   "source": [
    "Bây giờ, class `Person ` đã hoàn thành, ta có thể tạo ra các đối tượng của class như sau _(instance)_:"
   ]
  },
  {
   "cell_type": "code",
   "execution_count": 3,
   "metadata": {},
   "outputs": [],
   "source": [
    "# First person\n",
    "Andy = Person('Andy', 28, 'First Bank')"
   ]
  },
  {
   "cell_type": "code",
   "execution_count": 5,
   "metadata": {},
   "outputs": [
    {
     "name": "stdout",
     "output_type": "stream",
     "text": [
      "Andy\n",
      "28\n",
      "First Bank\n"
     ]
    }
   ],
   "source": [
    "# Xem các thuộc tính của đối tượng object.attribute\n",
    "print(Andy.name)\n",
    "print(Andy.age)\n",
    "print(Andy.company)"
   ]
  },
  {
   "cell_type": "markdown",
   "metadata": {},
   "source": [
    "### 10.3. Biến class và biến instance\n",
    "\n",
    "\n",
    "Biến instance là biến chứa những thuộc tính đặc trưng cho một đối tượng và mỗi đối tượng có thể có giá trị khác nhau. Về cơ bản là khi chúng ta định nghĩa một thuộc tính bên trong `__init__()`, các biến được định nghĩa với từ khóa `self.var` được gọi là biến instance. \n",
    "\n",
    "Biến class _(class attribute)_ là một biến gắn liền với chính class, bên ngoài các phương thức, có thể được truy xuất từ các đối tượng và có giá trị chung cho tất cả các đối tượng. Chúng ta có thể trực tiếp truy cập vào biến class mà không cần khởi tạo đối tượng bằng cú pháp: `class_name.class_attribute`\n",
    "\n",
    "Ví dụ:\n",
    "\n",
    "```python\n",
    "# wheels và car_type là biến class\n",
    "# model, year là biến instance\n",
    "class Car:\n",
    "\n",
    "    wheels = 4\n",
    "    car_type = \"sports car\"\n",
    "\n",
    "    def __init__(self, model, year):\n",
    "        self.model = model\n",
    "        self.year = year\n",
    "\n",
    "# Tạo instance\n",
    "lambo = Car(\"Lamborghini\", 2021)\n",
    "bmw = Car(\"BMW\", 2021)\n",
    "\n",
    "# Giá trị khác nhau giữa các biến instance\n",
    "lambo.model # Lamborghini\n",
    "bmw.model # BMW\n",
    "\n",
    "# Giá trị giống nhau giữa biến class\n",
    "lambo.wheels # 4\n",
    "bmw.wheels # 4\n",
    "Car.wheels # 4\n",
    "```\n",
    "\n",
    "Một ví dụ của biến class trong Python:\n"
   ]
  },
  {
   "cell_type": "code",
   "execution_count": 6,
   "metadata": {},
   "outputs": [
    {
     "name": "stdout",
     "output_type": "stream",
     "text": [
      "Số Pi: 3.141592653589793\n",
      "Số e: 2.718281828459045\n"
     ]
    }
   ],
   "source": [
    "# import thư viện math\n",
    "import math\n",
    "\n",
    "# Biến pi, e,...\n",
    "print(f'Số Pi: {math.pi}')\n",
    "print(f'Số e: {math.e}')"
   ]
  },
  {
   "cell_type": "markdown",
   "metadata": {},
   "source": [
    "Ví dụ làm việc với biến class:\n",
    "\n",
    "```python\n",
    "class Employee:\n",
    "    \n",
    "    min_salary = 30000\n",
    "    min_age = 20\n",
    "    \n",
    "    def __init__(self, name, age, salary):\n",
    "        self.name = name\n",
    "        \n",
    "        if age <= Employee.min_age:\n",
    "            self.age = Employee.min_age\n",
    "        else:\n",
    "            self.age = age\n",
    "        \n",
    "        if salary <= Employee.min_salary:\n",
    "            self.salary = Employee.min_salary\n",
    "        else:\n",
    "            self.salary = salary\n",
    "```\n",
    "\n",
    "{{< admonition type=notes title=\"Lưu ý\" open=true >}}\n",
    "Nếu chúng ta sửa giá trị của biến class ở cấp độ instance, nghĩa là sử dụng từ khóa `obj.class_attribute` thì nó chỉ thay đổi giá trị của `obj` bị sửa chứ không thay đổi giá trị của các đối tượng khác. Nếu muốn sửa giá trị của biến class cho tất cả các đối tượng ta phải sử dụng `class_name.class_attribute`.\n",
    "{{< /admonition >}}"
   ]
  },
  {
   "cell_type": "markdown",
   "metadata": {},
   "source": [
    "### 10.4. Phương thức\n",
    "\n",
    "Cho đến nay, chúng ta mới chỉ tạo ra các class có thuộc tính, nhưng lại chưa có phương thức. Trong phần này, ta sẽ đi tìm hiểu cách tạo một phương thức cho class.\n",
    "\n",
    "Các bước tạo method tương tự như khi chúng ta tạo functions chỉ khác nhau là tham số đầu tiên của method luôn luôn là `self`, hiểu nôm na thì `self` là một đối tượng của class.\n",
    "\n",
    "Ví dụ:\n",
    "\n",
    "```python\n",
    "class Point:\n",
    "    \"\"\"\n",
    "    An abstract class to represnt a point on 2D Cartesian Plane\n",
    "    \"\"\"\n",
    "    \n",
    "    def give_info(self, x, y):\n",
    "        \"\"\"A function that gives info about this class\"\"\"\n",
    "        print(f'This point is situated at ({x}, {y}) on 2D plane.')\n",
    "```\n",
    "\n",
    "Để sử dụng method, ta dùng cú pháp: `object.method()`\n",
    "\n",
    "```python\n",
    "# Tạo instance\n",
    "obj1 = Point()\n",
    "\n",
    "# Gọi phương thức\n",
    "# This point is situated at (5, 10) on 2D plane.\n",
    "obj1.give_info(5, 10)\n",
    "```\n",
    "\n",
    "Một ví dụ nữa, chúng ta sẽ tạo một phương thức đặt tọa độ cho đối tượng trong class Point và tính khoảng cách từ đối tượng đến gốc tọa độ:\n",
    "\n",
    "```python\n",
    "# Tạo class\n",
    "class Point:\n",
    "    \n",
    "    def set_coords(self, x, y):\n",
    "        \"\"\"A function to set the coordinates of the point\"\"\"\n",
    "        self.x = x\n",
    "        self.y = y\n",
    "\n",
    "    def distance_to_origin(self):\n",
    "        \"\"\"\n",
    "        A method to calculate the distance between the point and the origin\n",
    "        \"\"\"\n",
    "        return math.sqrt(self.x ** 2 + self.y ** 2)\n",
    "\n",
    "# Kết quả\n",
    "import math\n",
    "point_1 = Point()\n",
    "point_1.set_coords(3, 4)\n",
    "point_1.x # 3\n",
    "point_1.y # 4\n",
    "point_1.distance_to_origin() # 5\n",
    "```"
   ]
  },
  {
   "cell_type": "markdown",
   "metadata": {},
   "source": [
    "### 10.5. Kế thừa\n",
    "\n",
    "Kế thừa trong lập trình hướng đối tượng nghĩa là khi một class kế thừa một class khác, nó sẽ sao chép tất cả các phương thức và thuộc tính từ class đó. Sau đó, nó có thể sử dụng các phương thức và thuộc tính có sẵn hoặc là sửa đổi lại để phù hợp với đối tượng mới. Cú pháp:\n",
    "\n",
    "```python\n",
    "class ChildClass(ParentClass):\n",
    "    ## DO STUFF HERE\n",
    "    ...\n",
    "```\n",
    "\n",
    "Class mà class hiện tại kế thừa được gọi là class cha hoặc class cơ sở, còn class hiện tại thì gọi là class con. Ví dụ:\n",
    "\n",
    "```python\n",
    "\n",
    "class Vehicle:\n",
    "    def __init__(self, year, mpg, tank, mileage):\n",
    "        self.year = year\n",
    "        self.tank = tank\n",
    "        self.mpg = mpg\n",
    "        self.mileage = mileage\n",
    "\n",
    "    def drive(self, n_miles):\n",
    "        self.tank = self.tank - n_miles / self.mpg\n",
    "        self.mileage += n_miles\n",
    "        \n",
    "        return self.tank, self.mileage\n",
    "\n",
    "# Kế thừa\n",
    "class Car(Vehicle):\n",
    "    pass\n",
    "\n",
    "# Tạo đối tượng\n",
    "sedan = Car(2020, mpg=56, tank=10, mileage=1000)\n",
    "```\n",
    "\n",
    "Để kiểm tra xem một đối tượng, có phải là một instance của một class không ta sử dụng:\n",
    "\n",
    "```python\n",
    "isinstance(sedan, Vehicle) # True\n",
    "isinstance(sedan, Car)     # True\n",
    "\n",
    "simple_vehicle = Vehicle(2020, 60, 15, 1e7)\n",
    "isinstance(simple_vehicle, Vehicle)  # True\n",
    "isinstance(simple_vehicle, Car)      # False\n",
    "```\n",
    "\n",
    "**Thêm thuộc tính**\n",
    "\n",
    "Chúng ta có thể thêm một số thuộc tính cho class con khi kế thừa:\n",
    "\n",
    "```python\n",
    "# Cách viết dài\n",
    "class Car(Vehicle):\n",
    "    def __init__(self, year, mpg, tank, mileage, model, color):\n",
    "        self.year = year\n",
    "        self.tank = tank\n",
    "        self.mpg = mpg\n",
    "        self.mileage = mileage\n",
    "\n",
    "        # NEW ATTRIBUTES\n",
    "        self.color = color\n",
    "        self.model = model\n",
    "\n",
    "# Cách viết ngắn gọn\n",
    "class Car(Vehicle):\n",
    "    def __init__(self, year, mpg, tank, mileage, model, color):\n",
    "\n",
    "        # Iinitialize the attributes of the parent class\n",
    "        Vehicle.__init__(self, year, mpg, tank, mileage)\n",
    "\n",
    "        # NEW ATTRIBUTES\n",
    "        self.color = color\n",
    "        self.model = model\n",
    "\n",
    "# Tạo instance\n",
    "jaguar = Car(2015, 23, 10, 1000, 'Jaguar', 'black')\n",
    "print(jaguar.year)\n",
    "print(jaguar.mpg)\n",
    "print(jaguar.model)\n",
    "```\n",
    "\n",
    "**Thêm methods**\n",
    "\n",
    "```python\n",
    "class Car(Vehicle):\n",
    "    def __init__(self, year, mpg, tank, mileage, model, color):\n",
    "        super().__init__(year, mpg, tank, mileage)\n",
    "        self.color = color\n",
    "        self.model = model\n",
    "    \n",
    "    def is_old(self):\n",
    "        if self.year <= 2010:\n",
    "            return True\n",
    "        else: \n",
    "            return False\n",
    "```\n",
    "\n",
    "**Sửa methods của class cha**\n",
    "\n",
    "```python\n",
    "class Airplane(Vehicle):\n",
    "    \n",
    "    def __init__(self, mpg, tank, mileage, n_passengers):\n",
    "        self.mpg = mpg\n",
    "        self.tank = tank\n",
    "        self.mileage = mileage\n",
    "        self.n_passengers = n_passengers\n",
    "    \n",
    "    def fly(self, n_miles):\n",
    "        # Sử dụng method drive từ Vehicle\n",
    "        return Vehicle.drive(self, n_miles * self.n_passengers)\n",
    "\n",
    "\n",
    "boeing = Airplane(51, 3500, 2e7, 200)\n",
    "tank, mileage = boeing.fly(500)\n",
    "\n",
    "print(f\"Flew for 500 miles. \"\n",
    "      f\"{round(tank, 2)} gallons remaining in tank.\")\n",
    "```\n",
    "\n",
    "**Một số lưu ý**\n",
    "\n",
    "Chúng ta sử dụng `super()` để đại diện cho class cha, khi đó ta không cần kèm theo từ khóa `self` ở đầu phương thức nữa.\n",
    "\n",
    "Khi muốn ghi đè một hoặc một phần của một phương thức nào đó trong class cha, ta chỉ cần định nghĩa một phương thức mới trong class hiện tại với tên giống phương thức trong class cha."
   ]
  },
  {
   "cell_type": "markdown",
   "metadata": {},
   "source": [
    "## 11. Try - Except\n",
    "\n",
    "### 11.1. Exception là gì?\n",
    "\n",
    "Exception hiểu đơn giản thì nó là các ngoại lệ, khi chương trình gặp phải một lỗi nào đó, nó sẽ dừng lại và đưa ra các ngoại lệ kèm theo thông báo về lỗi mà chúng ta gặp phải. Ví dụ:\n"
   ]
  },
  {
   "cell_type": "code",
   "execution_count": 20,
   "metadata": {},
   "outputs": [
    {
     "ename": "ZeroDivisionError",
     "evalue": "division by zero",
     "output_type": "error",
     "traceback": [
      "\u001b[1;31m---------------------------------------------------------------------------\u001b[0m",
      "\u001b[1;31mZeroDivisionError\u001b[0m                         Traceback (most recent call last)",
      "\u001b[1;32m~\\AppData\\Local\\Temp/ipykernel_1648/2762118699.py\u001b[0m in \u001b[0;36m<module>\u001b[1;34m\u001b[0m\n\u001b[0;32m      1\u001b[0m \u001b[1;31m# Lỗi chia cho số 0: ZeroDivisionError\u001b[0m\u001b[1;33m\u001b[0m\u001b[1;33m\u001b[0m\u001b[0m\n\u001b[1;32m----> 2\u001b[1;33m \u001b[1;36m10\u001b[0m \u001b[1;33m/\u001b[0m \u001b[1;36m0\u001b[0m\u001b[1;33m\u001b[0m\u001b[1;33m\u001b[0m\u001b[0m\n\u001b[0m",
      "\u001b[1;31mZeroDivisionError\u001b[0m: division by zero"
     ]
    }
   ],
   "source": [
    "# Lỗi chia cho số 0: ZeroDivisionError\n",
    "10 / 0"
   ]
  },
  {
   "cell_type": "markdown",
   "metadata": {},
   "source": [
    "### 11.2. Ví dụ đơn giản\n",
    "\n",
    "Đầu tiên, chúng ta sẽ làm quen với câu lệnh `try-except`. Với câu lệnh này, chúng ta đặt những đoạn code mà có khả năng gặp phải lỗi khi chạy vào mệnh dề `try`, và các phản hồi khi gặp lỗi vào mệnh đề `except`. Nếu các đoạn code trong mệnh đề `try` chạy bình thường, các câu lệnh trong mệnh đề `except` sẽ không cần chạy, ngược lại nếu chương trình gặp lỗi nó dừng lại và chuyển đến chạy các câu lệnh trong mệnh đề `except`."
   ]
  },
  {
   "cell_type": "code",
   "execution_count": 21,
   "metadata": {},
   "outputs": [
    {
     "name": "stdout",
     "output_type": "stream",
     "text": [
      "Area for radius 5 = 78.53999999999999\n",
      "\n",
      "Something is wrong with a\n",
      "\n",
      "Area for radius 4 = 50.2656\n",
      "\n",
      "Area for radius 8 = 201.0624\n",
      "\n",
      "Something is wrong with b\n",
      "\n",
      "Area for radius 0 = 0.0\n",
      "\n"
     ]
    }
   ],
   "source": [
    "# Hàm tính diện tích\n",
    "def calcArea(radius):\n",
    "    pi = 3.1416    \n",
    "    radius = float(radius)\n",
    "    area = pi * radius ** 2\n",
    "    return area\n",
    "\n",
    "# Xử lý với try-except\n",
    "for radius in [5, \"a\", 4, 8, \"b\", 0]: \n",
    "    try: \n",
    "        area = calcArea(radius)\n",
    "        print(f\"Area for radius {radius} = {area}\\n\")\n",
    "    except Exception as e:\n",
    "        print(f\"Something is wrong with {radius}\\n\")"
   ]
  },
  {
   "cell_type": "markdown",
   "metadata": {},
   "source": [
    "### 11.3. Mở rộng cú pháp\n",
    "\n",
    "Trong phần này, ta sẽ mở rộng `try-except` thành `try-except-else-finally`:\n",
    "\n",
    "- _else_: Các câu lệnh trong mệnh đề này sẽ được thực thi nếu không có exception.\n",
    "- _finally_: Các câu lệnh trong mệnh đề này luôn luôn được thực thi."
   ]
  },
  {
   "cell_type": "code",
   "execution_count": 22,
   "metadata": {},
   "outputs": [
    {
     "name": "stdout",
     "output_type": "stream",
     "text": [
      "calcArea() ran successfully for 5\n",
      "Area for input 5 = 78.53999999999999 \n",
      "calcArea() run completed on 2022-05-17 10:57:25.759167\n",
      "\n",
      "Something is wrong for a.\n",
      "Area for input a = None \n",
      "calcArea() run completed on 2022-05-17 10:57:25.759167\n",
      "\n",
      "calcArea() ran successfully for 4\n",
      "Area for input 4 = 50.2656 \n",
      "calcArea() run completed on 2022-05-17 10:57:25.760165\n",
      "\n",
      "calcArea() ran successfully for 8\n",
      "Area for input 8 = 201.0624 \n",
      "calcArea() run completed on 2022-05-17 10:57:25.760165\n",
      "\n",
      "Something is wrong for b.\n",
      "Area for input b = None \n",
      "calcArea() run completed on 2022-05-17 10:57:25.760165\n",
      "\n",
      "calcArea() ran successfully for 0\n",
      "Area for input 0 = 0.0 \n",
      "calcArea() run completed on 2022-05-17 10:57:25.760165\n",
      "\n"
     ]
    }
   ],
   "source": [
    "from datetime import datetime\n",
    "\n",
    "for radius in [5, \"a\", 4, 8, \"b\", 0]: \n",
    "    try: \n",
    "        area = calcArea(radius)\n",
    "        \n",
    "    except Exception as e:\n",
    "        area = None\n",
    "        print(f\"Something is wrong for {radius}.\")\n",
    "        \n",
    "    else: \n",
    "        print(f\"calcArea() ran successfully for {radius}\")\n",
    "        \n",
    "    finally:\n",
    "        now = datetime.now()\n",
    "        print(f\"Area for input {radius} = {area} \\ncalcArea() run completed on {now}\\n\")"
   ]
  },
  {
   "cell_type": "markdown",
   "metadata": {},
   "source": [
    "### 11.4. Một số loại exceptions\n",
    "\n",
    "Một số loại exceptions trong Python:\n",
    "\n",
    "```\n",
    "BaseException\n",
    " +-- SystemExit\n",
    " +-- KeyboardInterrupt\n",
    " +-- GeneratorExit\n",
    " +-- Exception\n",
    "      +-- StopIteration\n",
    "      +-- StopAsyncIteration\n",
    "      +-- ArithmeticError\n",
    "      |    +-- FloatingPointError\n",
    "      |    +-- OverflowError\n",
    "      |    +-- ZeroDivisionError\n",
    "      +-- AssertionError\n",
    "      +-- AttributeError\n",
    "      +-- BufferError\n",
    "      +-- EOFError\n",
    "      +-- ImportError\n",
    "      |    +-- ModuleNotFoundError\n",
    "      +-- LookupError\n",
    "```\n",
    "\n",
    "Chúng ta bắt đầu với một ví dụ về cách except một ngoại lệ cụ thể:\n",
    "\n",
    "```python\n",
    "# Xem lại câu lệnh\n",
    "except Exception as e:\n",
    "    # Loại exception\n",
    "    type(e).__name__\n",
    "\n",
    "    # Thông báo lỗi\n",
    "    print(e)\n",
    "````\n",
    "\n",
    "Tùy chỉnh lại chương trình trên:\n",
    "\n",
    "```python\n",
    "# Hàm đánh giá input\n",
    "def validate_input(value):\n",
    "    try: \n",
    "        value = float(value)\n",
    "        return True\n",
    "    except: return False\n",
    "\n",
    "from datetime import datetime\n",
    "for radius in [5, \"a\", 4, 8, \"b\", 0]: \n",
    "    try: \n",
    "        area = calcArea(radius)\n",
    "\n",
    "    # Nếu gặp ValueError sẽ xử lý    \n",
    "    except ValueError:\n",
    "        print(\"Input data is not numeric type.\")\n",
    "        while not validate_input(radius):\n",
    "            radius = input(\"Please input a numeric value: \")\n",
    "        area = calcArea(radius)\n",
    "\n",
    "    # Exception phải luôn bắt cuối cùng vì nó bao gồm tất cả các except khác\n",
    "    # Nếu các except khác không bị bắt, sẽ bắt Exception    \n",
    "    except Exception as e:\n",
    "        area = None\n",
    "        error_type = type(e).__name__\n",
    "        print(f\"Area couldn't be calculated for {radius}.\")\n",
    "        print(f\"Error type: {error_type} \\nError msg: {e}.\")\n",
    "        \n",
    "    else: \n",
    "        print(f\"calcArea() ran successfully for {radius}\")\n",
    "        \n",
    "    finally:\n",
    "        now = datetime.now()\n",
    "        print(f\"Area for input {radius} = {area} \\ncalcArea() run completed on {now}\\n\")\n",
    "```"
   ]
  },
  {
   "cell_type": "markdown",
   "metadata": {},
   "source": [
    "### 11.5. Định nghĩa exceptions\n",
    "\n",
    "Chúng ta hoàn toàn có thể xây dựng các exceptions theo suy nghĩ của mình, bằng cách tạo ra các class kế thừa từ class Exception:\n",
    "\n",
    "```python\n",
    "class Above50Error(Exception):\n",
    "    def __init__(self, value):            \n",
    "        Exception.__init__(self)\n",
    "        self.value = value\n",
    "        \n",
    "    def __str__(self):\n",
    "        return f\"Input {self.value} is larger than 50 inches\"\n",
    "```\n",
    "\n",
    "Để đưa ra exception tự định nghĩa, ta phải sử dụng từ khóa `raise exception_name`\n",
    "\n",
    "```python\n",
    "def calcArea(radius):\n",
    "    pi = 3.1416\n",
    "    radius = float(radius)\n",
    "    if radius > 50:\n",
    "        raise Above50Error(radius)\n",
    "    else: \n",
    "        area = pi * radius ** 2\n",
    "    return area\n",
    "```"
   ]
  }
 ],
 "metadata": {
  "interpreter": {
   "hash": "5dd02a620d24ce96d4fed906c505d8614c897213038bc8121df06c969d20c5ff"
  },
  "kernelspec": {
   "display_name": "Python 3.10.0 ('learnds')",
   "language": "python",
   "name": "python3"
  },
  "language_info": {
   "codemirror_mode": {
    "name": "ipython",
    "version": 3
   },
   "file_extension": ".py",
   "mimetype": "text/x-python",
   "name": "python",
   "nbconvert_exporter": "python",
   "pygments_lexer": "ipython3",
   "version": "3.10.0"
  },
  "orig_nbformat": 4
 },
 "nbformat": 4,
 "nbformat_minor": 2
}
